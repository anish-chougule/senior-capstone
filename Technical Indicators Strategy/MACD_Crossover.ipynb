{
 "cells": [
  {
   "cell_type": "markdown",
   "metadata": {},
   "source": [
    "# MACD Strategy\n",
    "\n",
    "**Stocks are traded using the macd strategy and optimized for the maximum Returns/Sharpe Ratio.**"
   ]
  },
  {
   "cell_type": "markdown",
   "metadata": {},
   "source": [
    "1. Importing Libraries"
   ]
  },
  {
   "cell_type": "code",
   "execution_count": 1,
   "metadata": {},
   "outputs": [],
   "source": [
    "import numpy as np\n",
    "import pandas as pd\n",
    "import talib as ta\n",
    "import yfinance as yf\n",
    "\n",
    "import warnings\n",
    "warnings.filterwarnings(\"ignore\")"
   ]
  },
  {
   "cell_type": "markdown",
   "metadata": {},
   "source": [
    "2. Retrieving stock data"
   ]
  },
  {
   "cell_type": "code",
   "execution_count": 2,
   "metadata": {},
   "outputs": [
    {
     "data": {
      "text/html": [
       "<div>\n",
       "<style scoped>\n",
       "    .dataframe tbody tr th:only-of-type {\n",
       "        vertical-align: middle;\n",
       "    }\n",
       "\n",
       "    .dataframe tbody tr th {\n",
       "        vertical-align: top;\n",
       "    }\n",
       "\n",
       "    .dataframe thead th {\n",
       "        text-align: right;\n",
       "    }\n",
       "</style>\n",
       "<table border=\"1\" class=\"dataframe\">\n",
       "  <thead>\n",
       "    <tr style=\"text-align: right;\">\n",
       "      <th></th>\n",
       "      <th>Open</th>\n",
       "      <th>High</th>\n",
       "      <th>Low</th>\n",
       "      <th>Close</th>\n",
       "      <th>Adj Close</th>\n",
       "      <th>Volume</th>\n",
       "    </tr>\n",
       "    <tr>\n",
       "      <th>Datetime</th>\n",
       "      <th></th>\n",
       "      <th></th>\n",
       "      <th></th>\n",
       "      <th></th>\n",
       "      <th></th>\n",
       "      <th></th>\n",
       "    </tr>\n",
       "  </thead>\n",
       "  <tbody>\n",
       "    <tr>\n",
       "      <th>2022-03-01 09:30:00</th>\n",
       "      <td>289.893341</td>\n",
       "      <td>296.000000</td>\n",
       "      <td>285.565063</td>\n",
       "      <td>294.383331</td>\n",
       "      <td>294.383331</td>\n",
       "      <td>8254562</td>\n",
       "    </tr>\n",
       "    <tr>\n",
       "      <th>2022-03-01 10:30:00</th>\n",
       "      <td>294.546661</td>\n",
       "      <td>296.626678</td>\n",
       "      <td>288.766663</td>\n",
       "      <td>289.170013</td>\n",
       "      <td>289.170013</td>\n",
       "      <td>4280978</td>\n",
       "    </tr>\n",
       "    <tr>\n",
       "      <th>2022-03-01 11:30:00</th>\n",
       "      <td>289.088348</td>\n",
       "      <td>289.149994</td>\n",
       "      <td>285.880005</td>\n",
       "      <td>288.699982</td>\n",
       "      <td>288.699982</td>\n",
       "      <td>3190102</td>\n",
       "    </tr>\n",
       "    <tr>\n",
       "      <th>2022-03-01 12:30:00</th>\n",
       "      <td>288.643341</td>\n",
       "      <td>291.316681</td>\n",
       "      <td>287.000000</td>\n",
       "      <td>287.166656</td>\n",
       "      <td>287.166656</td>\n",
       "      <td>2212578</td>\n",
       "    </tr>\n",
       "    <tr>\n",
       "      <th>2022-03-01 13:30:00</th>\n",
       "      <td>287.208344</td>\n",
       "      <td>289.329987</td>\n",
       "      <td>286.253448</td>\n",
       "      <td>288.675018</td>\n",
       "      <td>288.675018</td>\n",
       "      <td>1707995</td>\n",
       "    </tr>\n",
       "  </tbody>\n",
       "</table>\n",
       "</div>"
      ],
      "text/plain": [
       "                           Open        High         Low       Close  \\\n",
       "Datetime                                                              \n",
       "2022-03-01 09:30:00  289.893341  296.000000  285.565063  294.383331   \n",
       "2022-03-01 10:30:00  294.546661  296.626678  288.766663  289.170013   \n",
       "2022-03-01 11:30:00  289.088348  289.149994  285.880005  288.699982   \n",
       "2022-03-01 12:30:00  288.643341  291.316681  287.000000  287.166656   \n",
       "2022-03-01 13:30:00  287.208344  289.329987  286.253448  288.675018   \n",
       "\n",
       "                      Adj Close   Volume  \n",
       "Datetime                                  \n",
       "2022-03-01 09:30:00  294.383331  8254562  \n",
       "2022-03-01 10:30:00  289.170013  4280978  \n",
       "2022-03-01 11:30:00  288.699982  3190102  \n",
       "2022-03-01 12:30:00  287.166656  2212578  \n",
       "2022-03-01 13:30:00  288.675018  1707995  "
      ]
     },
     "execution_count": 2,
     "metadata": {},
     "output_type": "execute_result"
    }
   ],
   "source": [
    "# Stock data and parameters\n",
    "ticker   = \"TSLA\"            \n",
    "start    = \"2022-03-01\"      \n",
    "end      = \"2023-03-01\"\n",
    "interval = \"1h\"\n",
    "\n",
    "df = yf.download(ticker, start=start, end=end, interval=interval, progress=False)\n",
    "df.head()"
   ]
  },
  {
   "cell_type": "markdown",
   "metadata": {},
   "source": [
    "3. Cleaning the data"
   ]
  },
  {
   "cell_type": "code",
   "execution_count": 3,
   "metadata": {},
   "outputs": [
    {
     "data": {
      "text/html": [
       "<div>\n",
       "<style scoped>\n",
       "    .dataframe tbody tr th:only-of-type {\n",
       "        vertical-align: middle;\n",
       "    }\n",
       "\n",
       "    .dataframe tbody tr th {\n",
       "        vertical-align: top;\n",
       "    }\n",
       "\n",
       "    .dataframe thead th {\n",
       "        text-align: right;\n",
       "    }\n",
       "</style>\n",
       "<table border=\"1\" class=\"dataframe\">\n",
       "  <thead>\n",
       "    <tr style=\"text-align: right;\">\n",
       "      <th></th>\n",
       "      <th>Open</th>\n",
       "      <th>High</th>\n",
       "      <th>Low</th>\n",
       "      <th>Close</th>\n",
       "      <th>Volume</th>\n",
       "    </tr>\n",
       "    <tr>\n",
       "      <th>Datetime</th>\n",
       "      <th></th>\n",
       "      <th></th>\n",
       "      <th></th>\n",
       "      <th></th>\n",
       "      <th></th>\n",
       "    </tr>\n",
       "  </thead>\n",
       "  <tbody>\n",
       "    <tr>\n",
       "      <th>2022-03-01 09:30:00</th>\n",
       "      <td>289.893341</td>\n",
       "      <td>296.000000</td>\n",
       "      <td>285.565063</td>\n",
       "      <td>294.383331</td>\n",
       "      <td>8254562</td>\n",
       "    </tr>\n",
       "    <tr>\n",
       "      <th>2022-03-01 10:30:00</th>\n",
       "      <td>294.546661</td>\n",
       "      <td>296.626678</td>\n",
       "      <td>288.766663</td>\n",
       "      <td>289.170013</td>\n",
       "      <td>4280978</td>\n",
       "    </tr>\n",
       "    <tr>\n",
       "      <th>2022-03-01 11:30:00</th>\n",
       "      <td>289.088348</td>\n",
       "      <td>289.149994</td>\n",
       "      <td>285.880005</td>\n",
       "      <td>288.699982</td>\n",
       "      <td>3190102</td>\n",
       "    </tr>\n",
       "    <tr>\n",
       "      <th>2022-03-01 12:30:00</th>\n",
       "      <td>288.643341</td>\n",
       "      <td>291.316681</td>\n",
       "      <td>287.000000</td>\n",
       "      <td>287.166656</td>\n",
       "      <td>2212578</td>\n",
       "    </tr>\n",
       "    <tr>\n",
       "      <th>2022-03-01 13:30:00</th>\n",
       "      <td>287.208344</td>\n",
       "      <td>289.329987</td>\n",
       "      <td>286.253448</td>\n",
       "      <td>288.675018</td>\n",
       "      <td>1707995</td>\n",
       "    </tr>\n",
       "  </tbody>\n",
       "</table>\n",
       "</div>"
      ],
      "text/plain": [
       "                           Open        High         Low       Close   Volume\n",
       "Datetime                                                                    \n",
       "2022-03-01 09:30:00  289.893341  296.000000  285.565063  294.383331  8254562\n",
       "2022-03-01 10:30:00  294.546661  296.626678  288.766663  289.170013  4280978\n",
       "2022-03-01 11:30:00  289.088348  289.149994  285.880005  288.699982  3190102\n",
       "2022-03-01 12:30:00  288.643341  291.316681  287.000000  287.166656  2212578\n",
       "2022-03-01 13:30:00  287.208344  289.329987  286.253448  288.675018  1707995"
      ]
     },
     "execution_count": 3,
     "metadata": {},
     "output_type": "execute_result"
    }
   ],
   "source": [
    "# Removing Extra Columns and Rows\n",
    "df = df[[\"Open\", \"High\", \"Low\", \"Close\", \"Volume\"]]\n",
    "df.dropna(inplace=True)\n",
    "\n",
    "df.head()"
   ]
  },
  {
   "cell_type": "markdown",
   "metadata": {},
   "source": [
    "4. Creating a Backtesting Strategy"
   ]
  },
  {
   "cell_type": "code",
   "execution_count": 4,
   "metadata": {},
   "outputs": [],
   "source": [
    "# Importing Backtesting Libraries\n",
    "from backtesting import Backtest\n",
    "from backtesting.lib import crossover, TrailingStrategy\n",
    "\n",
    "#   MACD Strategy :\n",
    "#   ---------------\n",
    "# - MACD and MACD_Signal indicators are calculated using fastperiod and slowperiod as interval periods.\n",
    "# - When MACD passes up the Signal indicator, it triggers a buy! or a long position.\n",
    "# - When MACD dips below the Signal indicator, it triggers a sell! or a sell position.\n",
    "# - Stop loss and Take profit factors could be set as well, but Trailing stop loss is used to capture excess profit from trades.\n",
    "# - Strategy also captures channel breakouts outside of couple Average True Range to place long and short positions respectively.\n",
    "\n",
    "\n",
    "class MacdCross(TrailingStrategy):\n",
    "    fastperiod = 12\n",
    "    slowperiod = 26\n",
    "    signalperiod = 9\n",
    "\n",
    "    def init(self):\n",
    "        super().init()\n",
    "        self.set_trailing_sl(3)\n",
    "\n",
    "        high   = self.data.High\n",
    "        low    = self.data.Low                \n",
    "        close  = self.data.Close\n",
    "        self.macd, self.signal = self.I(ta.MACD, close, self.fastperiod, self.slowperiod, self.signalperiod)[:2]\n",
    "        self.atr = self.I(ta.ATR, high, low, close, 14)\n",
    "        self.upperChannel = np.roll(close, 1) + 3*self.atr\n",
    "        self.lowerChannel = np.roll(close, 1) - 3*self.atr\n",
    "\n",
    "    def next(self):\n",
    "        super().next()\n",
    "\n",
    "        if crossover(self.macd, self.signal) or crossover(self.data.Close, self.upperChannel):\n",
    "            self.buy(size = 0.6)\n",
    "\n",
    "        elif crossover(self.signal, self.macd) or crossover(self.data.Close, self.lowerChannel):\n",
    "            self.sell(size = 0.6)"
   ]
  },
  {
   "cell_type": "markdown",
   "metadata": {},
   "source": [
    "5. Executing the Strategy"
   ]
  },
  {
   "cell_type": "code",
   "execution_count": 5,
   "metadata": {},
   "outputs": [],
   "source": [
    "bt = Backtest(df, MacdCross,\n",
    "            cash=100000, trade_on_close=False, exclusive_orders=True)\n",
    "\n",
    "# stats = bt.optimize(fastperiod = range(12, 40, 2),\n",
    "#                     slowperiod = range(20, 60, 4),\n",
    "#                     signalperiod = range(5, 15, 2),\n",
    "#                     constraint = lambda p: p.slowperiod > p.fastperiod + 10 and p.fastperiod > p.signalperiod + 5,\n",
    "#                     maximize = \"Equity Final [$]\")\n",
    "stats = bt.run()"
   ]
  },
  {
   "cell_type": "markdown",
   "metadata": {},
   "source": [
    "6. Comparing strategy returns to performance range of stocks"
   ]
  },
  {
   "cell_type": "code",
   "execution_count": 6,
   "metadata": {},
   "outputs": [
    {
     "name": "stdout",
     "output_type": "stream",
     "text": [
      "OC-Range:  -0.30118325547489294\n",
      "HL-Range:  2.61565092302896\n"
     ]
    }
   ],
   "source": [
    "print(\"OC-Range: \", (df[\"Close\"].iloc[-1]-df[\"Close\"].iloc[0])/df[\"Close\"].iloc[0])\n",
    "print(\"HL-Range: \", (np.max(df[\"Close\"])-np.min(df[\"Close\"]))/np.min(df[\"Close\"]))"
   ]
  },
  {
   "cell_type": "markdown",
   "metadata": {},
   "source": [
    "7. Optimized Strategy Statistics"
   ]
  },
  {
   "cell_type": "code",
   "execution_count": 7,
   "metadata": {},
   "outputs": [
    {
     "data": {
      "text/plain": [
       "Start                     2022-03-01 09:30:00\n",
       "End                       2023-02-28 15:30:00\n",
       "Duration                    364 days 06:00:00\n",
       "Exposure Time [%]                   92.132269\n",
       "Equity Final [$]                 84848.756298\n",
       "Equity Peak [$]                 126943.905003\n",
       "Return [%]                         -15.151244\n",
       "Buy & Hold Return [%]              -30.118326\n",
       "Return (Ann.) [%]                  -15.206766\n",
       "Volatility (Ann.) [%]               31.987095\n",
       "Sharpe Ratio                              0.0\n",
       "Sortino Ratio                             0.0\n",
       "Calmar Ratio                              0.0\n",
       "Max. Drawdown [%]                  -34.655837\n",
       "Avg. Drawdown [%]                   -5.006851\n",
       "Max. Drawdown Duration      160 days 01:00:00\n",
       "Avg. Drawdown Duration       19 days 13:00:00\n",
       "# Trades                                  188\n",
       "Win Rate [%]                        40.425532\n",
       "Best Trade [%]                      23.670181\n",
       "Worst Trade [%]                    -11.466102\n",
       "Avg. Trade [%]                      -0.187419\n",
       "Max. Trade Duration           9 days 22:00:00\n",
       "Avg. Trade Duration           1 days 20:00:00\n",
       "Profit Factor                        0.952786\n",
       "Expectancy [%]                      -0.082137\n",
       "SQN                                 -0.395733\n",
       "_strategy                           MacdCross\n",
       "_equity_curve                             ...\n",
       "_trades                        Size  Entry...\n",
       "dtype: object"
      ]
     },
     "execution_count": 7,
     "metadata": {},
     "output_type": "execute_result"
    }
   ],
   "source": [
    "stats"
   ]
  },
  {
   "cell_type": "markdown",
   "metadata": {},
   "source": [
    "8. Hyperparameters used by the Optimized Strategy that can be used to trade further"
   ]
  },
  {
   "cell_type": "code",
   "execution_count": 8,
   "metadata": {},
   "outputs": [
    {
     "name": "stdout",
     "output_type": "stream",
     "text": [
      "Fastperiod  :  12\n",
      "Slowperiod  :  26\n",
      "Signalperiod:  9\n"
     ]
    }
   ],
   "source": [
    "print(\"Fastperiod  : \", stats._strategy.fastperiod)\n",
    "print(\"Slowperiod  : \", stats._strategy.slowperiod)\n",
    "print(\"Signalperiod: \", stats._strategy.signalperiod)"
   ]
  },
  {
   "cell_type": "code",
   "execution_count": 9,
   "metadata": {},
   "outputs": [
    {
     "name": "stderr",
     "output_type": "stream",
     "text": [
      "BokehDeprecationWarning: Passing lists of formats for DatetimeTickFormatter scales was deprecated in Bokeh 3.0. Configure a single string format for each scale\n",
      "BokehDeprecationWarning: Passing lists of formats for DatetimeTickFormatter scales was deprecated in Bokeh 3.0. Configure a single string format for each scale\n"
     ]
    }
   ],
   "source": [
    "plt = bt.plot(results=stats)"
   ]
  },
  {
   "cell_type": "code",
   "execution_count": 10,
   "metadata": {},
   "outputs": [
    {
     "data": {
      "text/html": [
       "<div>\n",
       "<style scoped>\n",
       "    .dataframe tbody tr th:only-of-type {\n",
       "        vertical-align: middle;\n",
       "    }\n",
       "\n",
       "    .dataframe tbody tr th {\n",
       "        vertical-align: top;\n",
       "    }\n",
       "\n",
       "    .dataframe thead th {\n",
       "        text-align: right;\n",
       "    }\n",
       "</style>\n",
       "<table border=\"1\" class=\"dataframe\">\n",
       "  <thead>\n",
       "    <tr style=\"text-align: right;\">\n",
       "      <th></th>\n",
       "      <th>Size</th>\n",
       "      <th>EntryBar</th>\n",
       "      <th>ExitBar</th>\n",
       "      <th>EntryPrice</th>\n",
       "      <th>ExitPrice</th>\n",
       "      <th>PnL</th>\n",
       "      <th>ReturnPct</th>\n",
       "      <th>EntryTime</th>\n",
       "      <th>ExitTime</th>\n",
       "      <th>Duration</th>\n",
       "    </tr>\n",
       "  </thead>\n",
       "  <tbody>\n",
       "    <tr>\n",
       "      <th>0</th>\n",
       "      <td>214</td>\n",
       "      <td>38</td>\n",
       "      <td>52</td>\n",
       "      <td>279.673340</td>\n",
       "      <td>274.253326</td>\n",
       "      <td>-1159.882874</td>\n",
       "      <td>-0.019380</td>\n",
       "      <td>2022-03-08 12:30:00</td>\n",
       "      <td>2022-03-10 12:30:00</td>\n",
       "      <td>2 days 00:00:00</td>\n",
       "    </tr>\n",
       "    <tr>\n",
       "      <th>1</th>\n",
       "      <td>-216</td>\n",
       "      <td>52</td>\n",
       "      <td>72</td>\n",
       "      <td>274.253326</td>\n",
       "      <td>266.266663</td>\n",
       "      <td>1725.119385</td>\n",
       "      <td>0.029121</td>\n",
       "      <td>2022-03-10 12:30:00</td>\n",
       "      <td>2022-03-15 11:30:00</td>\n",
       "      <td>4 days 23:00:00</td>\n",
       "    </tr>\n",
       "    <tr>\n",
       "      <th>2</th>\n",
       "      <td>226</td>\n",
       "      <td>72</td>\n",
       "      <td>116</td>\n",
       "      <td>266.266663</td>\n",
       "      <td>329.292463</td>\n",
       "      <td>14243.830873</td>\n",
       "      <td>0.236702</td>\n",
       "      <td>2022-03-15 11:30:00</td>\n",
       "      <td>2022-03-23 13:30:00</td>\n",
       "      <td>8 days 02:00:00</td>\n",
       "    </tr>\n",
       "    <tr>\n",
       "      <th>3</th>\n",
       "      <td>-204</td>\n",
       "      <td>119</td>\n",
       "      <td>133</td>\n",
       "      <td>336.576660</td>\n",
       "      <td>355.033325</td>\n",
       "      <td>-3765.159668</td>\n",
       "      <td>-0.054836</td>\n",
       "      <td>2022-03-24 09:30:00</td>\n",
       "      <td>2022-03-28 09:30:00</td>\n",
       "      <td>4 days 00:00:00</td>\n",
       "    </tr>\n",
       "    <tr>\n",
       "      <th>4</th>\n",
       "      <td>183</td>\n",
       "      <td>135</td>\n",
       "      <td>146</td>\n",
       "      <td>362.770020</td>\n",
       "      <td>366.818329</td>\n",
       "      <td>740.840607</td>\n",
       "      <td>0.011159</td>\n",
       "      <td>2022-03-28 11:30:00</td>\n",
       "      <td>2022-03-29 15:30:00</td>\n",
       "      <td>1 days 04:00:00</td>\n",
       "    </tr>\n",
       "    <tr>\n",
       "      <th>...</th>\n",
       "      <td>...</td>\n",
       "      <td>...</td>\n",
       "      <td>...</td>\n",
       "      <td>...</td>\n",
       "      <td>...</td>\n",
       "      <td>...</td>\n",
       "      <td>...</td>\n",
       "      <td>...</td>\n",
       "      <td>...</td>\n",
       "      <td>...</td>\n",
       "    </tr>\n",
       "    <tr>\n",
       "      <th>183</th>\n",
       "      <td>-269</td>\n",
       "      <td>1736</td>\n",
       "      <td>1738</td>\n",
       "      <td>195.949997</td>\n",
       "      <td>195.740005</td>\n",
       "      <td>56.487701</td>\n",
       "      <td>0.001072</td>\n",
       "      <td>2023-02-24 12:30:00</td>\n",
       "      <td>2023-02-24 14:30:00</td>\n",
       "      <td>0 days 02:00:00</td>\n",
       "    </tr>\n",
       "    <tr>\n",
       "      <th>184</th>\n",
       "      <td>-270</td>\n",
       "      <td>1738</td>\n",
       "      <td>1739</td>\n",
       "      <td>195.740005</td>\n",
       "      <td>196.199997</td>\n",
       "      <td>-124.197693</td>\n",
       "      <td>-0.002350</td>\n",
       "      <td>2023-02-24 14:30:00</td>\n",
       "      <td>2023-02-24 15:30:00</td>\n",
       "      <td>0 days 01:00:00</td>\n",
       "    </tr>\n",
       "    <tr>\n",
       "      <th>185</th>\n",
       "      <td>-269</td>\n",
       "      <td>1739</td>\n",
       "      <td>1740</td>\n",
       "      <td>196.199997</td>\n",
       "      <td>202.029999</td>\n",
       "      <td>-1568.270493</td>\n",
       "      <td>-0.029715</td>\n",
       "      <td>2023-02-24 15:30:00</td>\n",
       "      <td>2023-02-27 09:30:00</td>\n",
       "      <td>2 days 18:00:00</td>\n",
       "    </tr>\n",
       "    <tr>\n",
       "      <th>186</th>\n",
       "      <td>-256</td>\n",
       "      <td>1740</td>\n",
       "      <td>1741</td>\n",
       "      <td>202.029999</td>\n",
       "      <td>207.009995</td>\n",
       "      <td>-1274.878906</td>\n",
       "      <td>-0.024650</td>\n",
       "      <td>2023-02-27 09:30:00</td>\n",
       "      <td>2023-02-27 10:30:00</td>\n",
       "      <td>0 days 01:00:00</td>\n",
       "    </tr>\n",
       "    <tr>\n",
       "      <th>187</th>\n",
       "      <td>247</td>\n",
       "      <td>1741</td>\n",
       "      <td>1753</td>\n",
       "      <td>207.009995</td>\n",
       "      <td>205.389999</td>\n",
       "      <td>-400.138794</td>\n",
       "      <td>-0.007826</td>\n",
       "      <td>2023-02-27 10:30:00</td>\n",
       "      <td>2023-02-28 15:30:00</td>\n",
       "      <td>1 days 05:00:00</td>\n",
       "    </tr>\n",
       "  </tbody>\n",
       "</table>\n",
       "<p>188 rows × 10 columns</p>\n",
       "</div>"
      ],
      "text/plain": [
       "     Size  EntryBar  ExitBar  EntryPrice   ExitPrice           PnL  ReturnPct  \\\n",
       "0     214        38       52  279.673340  274.253326  -1159.882874  -0.019380   \n",
       "1    -216        52       72  274.253326  266.266663   1725.119385   0.029121   \n",
       "2     226        72      116  266.266663  329.292463  14243.830873   0.236702   \n",
       "3    -204       119      133  336.576660  355.033325  -3765.159668  -0.054836   \n",
       "4     183       135      146  362.770020  366.818329    740.840607   0.011159   \n",
       "..    ...       ...      ...         ...         ...           ...        ...   \n",
       "183  -269      1736     1738  195.949997  195.740005     56.487701   0.001072   \n",
       "184  -270      1738     1739  195.740005  196.199997   -124.197693  -0.002350   \n",
       "185  -269      1739     1740  196.199997  202.029999  -1568.270493  -0.029715   \n",
       "186  -256      1740     1741  202.029999  207.009995  -1274.878906  -0.024650   \n",
       "187   247      1741     1753  207.009995  205.389999   -400.138794  -0.007826   \n",
       "\n",
       "              EntryTime            ExitTime        Duration  \n",
       "0   2022-03-08 12:30:00 2022-03-10 12:30:00 2 days 00:00:00  \n",
       "1   2022-03-10 12:30:00 2022-03-15 11:30:00 4 days 23:00:00  \n",
       "2   2022-03-15 11:30:00 2022-03-23 13:30:00 8 days 02:00:00  \n",
       "3   2022-03-24 09:30:00 2022-03-28 09:30:00 4 days 00:00:00  \n",
       "4   2022-03-28 11:30:00 2022-03-29 15:30:00 1 days 04:00:00  \n",
       "..                  ...                 ...             ...  \n",
       "183 2023-02-24 12:30:00 2023-02-24 14:30:00 0 days 02:00:00  \n",
       "184 2023-02-24 14:30:00 2023-02-24 15:30:00 0 days 01:00:00  \n",
       "185 2023-02-24 15:30:00 2023-02-27 09:30:00 2 days 18:00:00  \n",
       "186 2023-02-27 09:30:00 2023-02-27 10:30:00 0 days 01:00:00  \n",
       "187 2023-02-27 10:30:00 2023-02-28 15:30:00 1 days 05:00:00  \n",
       "\n",
       "[188 rows x 10 columns]"
      ]
     },
     "execution_count": 10,
     "metadata": {},
     "output_type": "execute_result"
    }
   ],
   "source": [
    "stats._trades"
   ]
  },
  {
   "cell_type": "code",
   "execution_count": 11,
   "metadata": {},
   "outputs": [
    {
     "data": {
      "text/plain": [
       "-0.08213736485866707"
      ]
     },
     "execution_count": 11,
     "metadata": {},
     "output_type": "execute_result"
    }
   ],
   "source": [
    "stats[25]"
   ]
  },
  {
   "cell_type": "code",
   "execution_count": 12,
   "metadata": {},
   "outputs": [
    {
     "ename": "KeyError",
     "evalue": "'d'",
     "output_type": "error",
     "traceback": [
      "\u001b[1;31m---------------------------------------------------------------------------\u001b[0m",
      "\u001b[1;31mKeyError\u001b[0m                                  Traceback (most recent call last)",
      "\u001b[1;32me:\\Programming\\Data Science\\Argon_v2\\Rough\\MACD_Crossover.ipynb Cell 21\u001b[0m line \u001b[0;36m2\n\u001b[0;32m      <a href='vscode-notebook-cell:/e%3A/Programming/Data%20Science/Argon_v2/Rough/MACD_Crossover.ipynb#X26sZmlsZQ%3D%3D?line=0'>1</a>\u001b[0m listpo \u001b[39m=\u001b[39m {\u001b[39m'\u001b[39m\u001b[39ma\u001b[39m\u001b[39m'\u001b[39m:\u001b[39m1\u001b[39m, \u001b[39m'\u001b[39m\u001b[39mb\u001b[39m\u001b[39m'\u001b[39m:\u001b[39m2\u001b[39m, \u001b[39m'\u001b[39m\u001b[39mc\u001b[39m\u001b[39m'\u001b[39m:\u001b[39m3\u001b[39m}\n\u001b[1;32m----> <a href='vscode-notebook-cell:/e%3A/Programming/Data%20Science/Argon_v2/Rough/MACD_Crossover.ipynb#X26sZmlsZQ%3D%3D?line=1'>2</a>\u001b[0m listpo[\u001b[39m'\u001b[39;49m\u001b[39md\u001b[39;49m\u001b[39m'\u001b[39;49m]\n",
      "\u001b[1;31mKeyError\u001b[0m: 'd'"
     ]
    }
   ],
   "source": [
    "listpo = {'a':1, 'b':2, 'c':3}\n",
    "listpo['d']"
   ]
  }
 ],
 "metadata": {
  "kernelspec": {
   "display_name": "Python 3",
   "language": "python",
   "name": "python3"
  },
  "language_info": {
   "codemirror_mode": {
    "name": "ipython",
    "version": 3
   },
   "file_extension": ".py",
   "mimetype": "text/x-python",
   "name": "python",
   "nbconvert_exporter": "python",
   "pygments_lexer": "ipython3",
   "version": "3.10.12"
  },
  "orig_nbformat": 4
 },
 "nbformat": 4,
 "nbformat_minor": 2
}
