{
 "cells": [
  {
   "cell_type": "code",
   "execution_count": 1,
   "metadata": {},
   "outputs": [],
   "source": [
    "import numpy as np\n",
    "import pandas as pd\n",
    "import talib as ta\n",
    "import yfinance as yf"
   ]
  },
  {
   "cell_type": "code",
   "execution_count": 2,
   "metadata": {},
   "outputs": [
    {
     "data": {
      "text/html": [
       "<div>\n",
       "<style scoped>\n",
       "    .dataframe tbody tr th:only-of-type {\n",
       "        vertical-align: middle;\n",
       "    }\n",
       "\n",
       "    .dataframe tbody tr th {\n",
       "        vertical-align: top;\n",
       "    }\n",
       "\n",
       "    .dataframe thead th {\n",
       "        text-align: right;\n",
       "    }\n",
       "</style>\n",
       "<table border=\"1\" class=\"dataframe\">\n",
       "  <thead>\n",
       "    <tr style=\"text-align: right;\">\n",
       "      <th></th>\n",
       "      <th>Open</th>\n",
       "      <th>High</th>\n",
       "      <th>Low</th>\n",
       "      <th>Close</th>\n",
       "      <th>Adj Close</th>\n",
       "      <th>Volume</th>\n",
       "    </tr>\n",
       "    <tr>\n",
       "      <th>Datetime</th>\n",
       "      <th></th>\n",
       "      <th></th>\n",
       "      <th></th>\n",
       "      <th></th>\n",
       "      <th></th>\n",
       "      <th></th>\n",
       "    </tr>\n",
       "  </thead>\n",
       "  <tbody>\n",
       "    <tr>\n",
       "      <th>2021-07-12 09:30:00</th>\n",
       "      <td>279.157013</td>\n",
       "      <td>279.769989</td>\n",
       "      <td>276.950012</td>\n",
       "      <td>277.144989</td>\n",
       "      <td>277.144989</td>\n",
       "      <td>4237731</td>\n",
       "    </tr>\n",
       "    <tr>\n",
       "      <th>2021-07-12 10:30:00</th>\n",
       "      <td>277.160004</td>\n",
       "      <td>277.970001</td>\n",
       "      <td>276.825012</td>\n",
       "      <td>277.399994</td>\n",
       "      <td>277.399994</td>\n",
       "      <td>1785328</td>\n",
       "    </tr>\n",
       "    <tr>\n",
       "      <th>2021-07-12 11:30:00</th>\n",
       "      <td>277.420013</td>\n",
       "      <td>277.449493</td>\n",
       "      <td>276.579987</td>\n",
       "      <td>277.029999</td>\n",
       "      <td>277.029999</td>\n",
       "      <td>1483945</td>\n",
       "    </tr>\n",
       "    <tr>\n",
       "      <th>2021-07-12 12:30:00</th>\n",
       "      <td>277.070007</td>\n",
       "      <td>277.459991</td>\n",
       "      <td>277.029999</td>\n",
       "      <td>277.209991</td>\n",
       "      <td>277.209991</td>\n",
       "      <td>969921</td>\n",
       "    </tr>\n",
       "    <tr>\n",
       "      <th>2021-07-12 13:30:00</th>\n",
       "      <td>277.220001</td>\n",
       "      <td>277.839996</td>\n",
       "      <td>277.100006</td>\n",
       "      <td>277.679993</td>\n",
       "      <td>277.679993</td>\n",
       "      <td>1087531</td>\n",
       "    </tr>\n",
       "  </tbody>\n",
       "</table>\n",
       "</div>"
      ],
      "text/plain": [
       "                           Open        High         Low       Close  \\\n",
       "Datetime                                                              \n",
       "2021-07-12 09:30:00  279.157013  279.769989  276.950012  277.144989   \n",
       "2021-07-12 10:30:00  277.160004  277.970001  276.825012  277.399994   \n",
       "2021-07-12 11:30:00  277.420013  277.449493  276.579987  277.029999   \n",
       "2021-07-12 12:30:00  277.070007  277.459991  277.029999  277.209991   \n",
       "2021-07-12 13:30:00  277.220001  277.839996  277.100006  277.679993   \n",
       "\n",
       "                      Adj Close   Volume  \n",
       "Datetime                                  \n",
       "2021-07-12 09:30:00  277.144989  4237731  \n",
       "2021-07-12 10:30:00  277.399994  1785328  \n",
       "2021-07-12 11:30:00  277.029999  1483945  \n",
       "2021-07-12 12:30:00  277.209991   969921  \n",
       "2021-07-12 13:30:00  277.679993  1087531  "
      ]
     },
     "execution_count": 2,
     "metadata": {},
     "output_type": "execute_result"
    }
   ],
   "source": [
    "df = yf.download(\"MSFT\", start=\"2021-07-10\", end=\"2022-07-06\", interval=\"1h\", progress=False)\n",
    "df.head()"
   ]
  },
  {
   "cell_type": "code",
   "execution_count": 3,
   "metadata": {},
   "outputs": [
    {
     "name": "stderr",
     "output_type": "stream",
     "text": [
      "C:\\Users\\anish\\AppData\\Local\\Temp\\ipykernel_12436\\1188362657.py:2: SettingWithCopyWarning: \n",
      "A value is trying to be set on a copy of a slice from a DataFrame\n",
      "\n",
      "See the caveats in the documentation: https://pandas.pydata.org/pandas-docs/stable/user_guide/indexing.html#returning-a-view-versus-a-copy\n",
      "  df.dropna(inplace=True)\n"
     ]
    },
    {
     "data": {
      "text/html": [
       "<div>\n",
       "<style scoped>\n",
       "    .dataframe tbody tr th:only-of-type {\n",
       "        vertical-align: middle;\n",
       "    }\n",
       "\n",
       "    .dataframe tbody tr th {\n",
       "        vertical-align: top;\n",
       "    }\n",
       "\n",
       "    .dataframe thead th {\n",
       "        text-align: right;\n",
       "    }\n",
       "</style>\n",
       "<table border=\"1\" class=\"dataframe\">\n",
       "  <thead>\n",
       "    <tr style=\"text-align: right;\">\n",
       "      <th></th>\n",
       "      <th>Open</th>\n",
       "      <th>High</th>\n",
       "      <th>Low</th>\n",
       "      <th>Close</th>\n",
       "      <th>Volume</th>\n",
       "    </tr>\n",
       "    <tr>\n",
       "      <th>Datetime</th>\n",
       "      <th></th>\n",
       "      <th></th>\n",
       "      <th></th>\n",
       "      <th></th>\n",
       "      <th></th>\n",
       "    </tr>\n",
       "  </thead>\n",
       "  <tbody>\n",
       "    <tr>\n",
       "      <th>2021-07-12 09:30:00</th>\n",
       "      <td>279.157013</td>\n",
       "      <td>279.769989</td>\n",
       "      <td>276.950012</td>\n",
       "      <td>277.144989</td>\n",
       "      <td>4237731</td>\n",
       "    </tr>\n",
       "    <tr>\n",
       "      <th>2021-07-12 10:30:00</th>\n",
       "      <td>277.160004</td>\n",
       "      <td>277.970001</td>\n",
       "      <td>276.825012</td>\n",
       "      <td>277.399994</td>\n",
       "      <td>1785328</td>\n",
       "    </tr>\n",
       "    <tr>\n",
       "      <th>2021-07-12 11:30:00</th>\n",
       "      <td>277.420013</td>\n",
       "      <td>277.449493</td>\n",
       "      <td>276.579987</td>\n",
       "      <td>277.029999</td>\n",
       "      <td>1483945</td>\n",
       "    </tr>\n",
       "    <tr>\n",
       "      <th>2021-07-12 12:30:00</th>\n",
       "      <td>277.070007</td>\n",
       "      <td>277.459991</td>\n",
       "      <td>277.029999</td>\n",
       "      <td>277.209991</td>\n",
       "      <td>969921</td>\n",
       "    </tr>\n",
       "    <tr>\n",
       "      <th>2021-07-12 13:30:00</th>\n",
       "      <td>277.220001</td>\n",
       "      <td>277.839996</td>\n",
       "      <td>277.100006</td>\n",
       "      <td>277.679993</td>\n",
       "      <td>1087531</td>\n",
       "    </tr>\n",
       "  </tbody>\n",
       "</table>\n",
       "</div>"
      ],
      "text/plain": [
       "                           Open        High         Low       Close   Volume\n",
       "Datetime                                                                    \n",
       "2021-07-12 09:30:00  279.157013  279.769989  276.950012  277.144989  4237731\n",
       "2021-07-12 10:30:00  277.160004  277.970001  276.825012  277.399994  1785328\n",
       "2021-07-12 11:30:00  277.420013  277.449493  276.579987  277.029999  1483945\n",
       "2021-07-12 12:30:00  277.070007  277.459991  277.029999  277.209991   969921\n",
       "2021-07-12 13:30:00  277.220001  277.839996  277.100006  277.679993  1087531"
      ]
     },
     "execution_count": 3,
     "metadata": {},
     "output_type": "execute_result"
    }
   ],
   "source": [
    "df = df[[\"Open\", \"High\", \"Low\", \"Close\", \"Volume\"]]\n",
    "df.dropna(inplace=True)\n",
    "\n",
    "df.head()"
   ]
  },
  {
   "cell_type": "code",
   "execution_count": 4,
   "metadata": {},
   "outputs": [
    {
     "name": "stderr",
     "output_type": "stream",
     "text": [
      "e:\\Programming\\stock-trading\\.conda\\lib\\site-packages\\tqdm\\auto.py:22: TqdmWarning: IProgress not found. Please update jupyter and ipywidgets. See https://ipywidgets.readthedocs.io/en/stable/user_install.html\n",
      "  from .autonotebook import tqdm as notebook_tqdm\n",
      "                                             \r"
     ]
    }
   ],
   "source": [
    "from backtesting import Backtest, Strategy\n",
    "from backtesting.lib import crossover, TrailingStrategy\n",
    "\n",
    "class SmaCross(TrailingStrategy):\n",
    "    n1 = 40\n",
    "    n2 = 200\n",
    "\n",
    "    def init(self):\n",
    "        super().init()\n",
    "        self.set_trailing_sl(2.5)\n",
    "\n",
    "        high = self.data.High\n",
    "        low = self.data.Low                \n",
    "        close = self.data.Close\n",
    "        self.sma1 = self.I(ta.EMA, close, self.n1)\n",
    "        self.sma2 = self.I(ta.EMA, close, self.n2)\n",
    "        self.atr = self.I(ta.ATR, high, low, close, 14)\n",
    "        self.upperChannel = np.roll(close, 1) + 3*self.atr\n",
    "        self.lowerChannel = np.roll(close, 1) - 3*self.atr\n",
    "\n",
    "    def next(self):\n",
    "        super().next()\n",
    "        for trade in self.trades:\n",
    "            if self.data.index[-1] - trade.entry_time >= pd.Timedelta(\"8 days\"):\n",
    "                if trade.is_long:\n",
    "                    trade.sl = max(trade.sl, self.data.Low[-1])\n",
    "                else:\n",
    "                    trade.sl = min(trade.sl, self.data.High[-1])\n",
    "\n",
    "        if crossover(self.sma1, self.sma2) or crossover(self.data.Close, self.upperChannel):\n",
    "            self.sl = self.data.Close[-1] - 2.5*self.atr[-1]\n",
    "            self.buy(size=0.75, sl=self.sl)\n",
    "\n",
    "        elif crossover(self.sma2, self.sma1) or crossover(self.data.Close, self.lowerChannel):\n",
    "            self.sl = self.data.Close[-1] + 2.5*self.atr[-1]\n",
    "            self.sell(size=0.75, sl=self.sl)"
   ]
  },
  {
   "cell_type": "code",
   "execution_count": null,
   "metadata": {},
   "outputs": [],
   "source": [
    "bt = Backtest(df, SmaCross,\n",
    "            cash=100000, trade_on_close=False, exclusive_orders=True)\n",
    "\n",
    "# stats = bt.optimize(n1=range(10, 50, 5), n2=range(40, 200, 5), maximize=\"Return [%]\", constraint=lambda p: p.n1 < p.n2)\n",
    "\n",
    "stats = bt.run()"
   ]
  },
  {
   "cell_type": "code",
   "execution_count": 5,
   "metadata": {},
   "outputs": [
    {
     "name": "stdout",
     "output_type": "stream",
     "text": [
      "OC-Range:  -0.0511464697356281\n",
      "HL-Range:  0.44387488335262104\n"
     ]
    }
   ],
   "source": [
    "print(\"OC-Range: \", (df[\"Close\"].iloc[-1]-df[\"Close\"].iloc[0])/df[\"Close\"].iloc[0])\n",
    "print(\"HL-Range: \", (np.max(df[\"Close\"])-np.min(df[\"Close\"]))/np.min(df[\"Close\"]))"
   ]
  },
  {
   "cell_type": "code",
   "execution_count": 6,
   "metadata": {},
   "outputs": [
    {
     "data": {
      "text/plain": [
       "Start                     2021-07-12 09:30:00\n",
       "End                       2022-07-05 15:30:00\n",
       "Duration                    358 days 06:00:00\n",
       "Exposure Time [%]                   34.218119\n",
       "Equity Final [$]                116823.414544\n",
       "Equity Peak [$]                 119894.141671\n",
       "Return [%]                          16.823415\n",
       "Buy & Hold Return [%]               -5.114647\n",
       "Return (Ann.) [%]                    17.11677\n",
       "Volatility (Ann.) [%]               14.982924\n",
       "Sharpe Ratio                         1.142419\n",
       "Sortino Ratio                          2.2714\n",
       "Calmar Ratio                         2.671732\n",
       "Max. Drawdown [%]                    -6.40662\n",
       "Avg. Drawdown [%]                   -1.301889\n",
       "Max. Drawdown Duration       73 days 02:00:00\n",
       "Avg. Drawdown Duration       10 days 14:00:00\n",
       "# Trades                                   30\n",
       "Win Rate [%]                             60.0\n",
       "Best Trade [%]                       6.249475\n",
       "Worst Trade [%]                     -2.605041\n",
       "Avg. Trade [%]                       0.687056\n",
       "Max. Trade Duration          11 days 18:00:00\n",
       "Avg. Trade Duration           4 days 02:00:00\n",
       "Profit Factor                        2.153792\n",
       "Expectancy [%]                       0.714389\n",
       "SQN                                  1.581699\n",
       "_strategy                 SmaCross(n1=15,n...\n",
       "_equity_curve                             ...\n",
       "_trades                       Size  EntryB...\n",
       "dtype: object"
      ]
     },
     "execution_count": 6,
     "metadata": {},
     "output_type": "execute_result"
    }
   ],
   "source": [
    "stats"
   ]
  }
 ],
 "metadata": {
  "kernelspec": {
   "display_name": "Python 3",
   "language": "python",
   "name": "python3"
  },
  "language_info": {
   "codemirror_mode": {
    "name": "ipython",
    "version": 3
   },
   "file_extension": ".py",
   "mimetype": "text/x-python",
   "name": "python",
   "nbconvert_exporter": "python",
   "pygments_lexer": "ipython3",
   "version": "3.10.8"
  },
  "orig_nbformat": 4
 },
 "nbformat": 4,
 "nbformat_minor": 2
}
