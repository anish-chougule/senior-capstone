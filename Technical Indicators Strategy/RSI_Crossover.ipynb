{
 "cells": [
  {
   "cell_type": "code",
   "execution_count": 2,
   "metadata": {},
   "outputs": [],
   "source": [
    "import numpy as np\n",
    "import pandas as pd\n",
    "import talib as ta\n",
    "import yfinance as yf"
   ]
  },
  {
   "cell_type": "code",
   "execution_count": 3,
   "metadata": {},
   "outputs": [
    {
     "data": {
      "text/html": [
       "<div>\n",
       "<style scoped>\n",
       "    .dataframe tbody tr th:only-of-type {\n",
       "        vertical-align: middle;\n",
       "    }\n",
       "\n",
       "    .dataframe tbody tr th {\n",
       "        vertical-align: top;\n",
       "    }\n",
       "\n",
       "    .dataframe thead th {\n",
       "        text-align: right;\n",
       "    }\n",
       "</style>\n",
       "<table border=\"1\" class=\"dataframe\">\n",
       "  <thead>\n",
       "    <tr style=\"text-align: right;\">\n",
       "      <th></th>\n",
       "      <th>Open</th>\n",
       "      <th>High</th>\n",
       "      <th>Low</th>\n",
       "      <th>Close</th>\n",
       "      <th>Adj Close</th>\n",
       "      <th>Volume</th>\n",
       "    </tr>\n",
       "    <tr>\n",
       "      <th>Datetime</th>\n",
       "      <th></th>\n",
       "      <th></th>\n",
       "      <th></th>\n",
       "      <th></th>\n",
       "      <th></th>\n",
       "      <th></th>\n",
       "    </tr>\n",
       "  </thead>\n",
       "  <tbody>\n",
       "    <tr>\n",
       "      <th>2021-07-12 09:30:00</th>\n",
       "      <td>2596.669922</td>\n",
       "      <td>2602.840088</td>\n",
       "      <td>2592.000000</td>\n",
       "      <td>2599.695068</td>\n",
       "      <td>2599.695068</td>\n",
       "      <td>177791</td>\n",
       "    </tr>\n",
       "    <tr>\n",
       "      <th>2021-07-12 10:30:00</th>\n",
       "      <td>2599.989990</td>\n",
       "      <td>2610.767578</td>\n",
       "      <td>2598.889893</td>\n",
       "      <td>2606.820068</td>\n",
       "      <td>2606.820068</td>\n",
       "      <td>76378</td>\n",
       "    </tr>\n",
       "    <tr>\n",
       "      <th>2021-07-12 11:30:00</th>\n",
       "      <td>2605.939941</td>\n",
       "      <td>2610.800049</td>\n",
       "      <td>2602.510010</td>\n",
       "      <td>2603.620117</td>\n",
       "      <td>2603.620117</td>\n",
       "      <td>64613</td>\n",
       "    </tr>\n",
       "    <tr>\n",
       "      <th>2021-07-12 12:30:00</th>\n",
       "      <td>2603.564941</td>\n",
       "      <td>2606.489990</td>\n",
       "      <td>2601.570068</td>\n",
       "      <td>2602.969971</td>\n",
       "      <td>2602.969971</td>\n",
       "      <td>67478</td>\n",
       "    </tr>\n",
       "    <tr>\n",
       "      <th>2021-07-12 13:30:00</th>\n",
       "      <td>2602.945068</td>\n",
       "      <td>2606.475098</td>\n",
       "      <td>2598.000000</td>\n",
       "      <td>2604.669922</td>\n",
       "      <td>2604.669922</td>\n",
       "      <td>72896</td>\n",
       "    </tr>\n",
       "  </tbody>\n",
       "</table>\n",
       "</div>"
      ],
      "text/plain": [
       "                            Open         High          Low        Close  \\\n",
       "Datetime                                                                  \n",
       "2021-07-12 09:30:00  2596.669922  2602.840088  2592.000000  2599.695068   \n",
       "2021-07-12 10:30:00  2599.989990  2610.767578  2598.889893  2606.820068   \n",
       "2021-07-12 11:30:00  2605.939941  2610.800049  2602.510010  2603.620117   \n",
       "2021-07-12 12:30:00  2603.564941  2606.489990  2601.570068  2602.969971   \n",
       "2021-07-12 13:30:00  2602.945068  2606.475098  2598.000000  2604.669922   \n",
       "\n",
       "                       Adj Close  Volume  \n",
       "Datetime                                  \n",
       "2021-07-12 09:30:00  2599.695068  177791  \n",
       "2021-07-12 10:30:00  2606.820068   76378  \n",
       "2021-07-12 11:30:00  2603.620117   64613  \n",
       "2021-07-12 12:30:00  2602.969971   67478  \n",
       "2021-07-12 13:30:00  2604.669922   72896  "
      ]
     },
     "execution_count": 3,
     "metadata": {},
     "output_type": "execute_result"
    }
   ],
   "source": [
    "df = yf.download(\"GOOG\", start=\"2021-07-10\", end=\"2022-07-06\", interval=\"1h\", progress=False)\n",
    "df.head()"
   ]
  },
  {
   "cell_type": "code",
   "execution_count": 4,
   "metadata": {},
   "outputs": [
    {
     "name": "stderr",
     "output_type": "stream",
     "text": [
      "C:\\Users\\anish\\AppData\\Local\\Temp\\ipykernel_12576\\1188362657.py:2: SettingWithCopyWarning: \n",
      "A value is trying to be set on a copy of a slice from a DataFrame\n",
      "\n",
      "See the caveats in the documentation: https://pandas.pydata.org/pandas-docs/stable/user_guide/indexing.html#returning-a-view-versus-a-copy\n",
      "  df.dropna(inplace=True)\n"
     ]
    },
    {
     "data": {
      "text/html": [
       "<div>\n",
       "<style scoped>\n",
       "    .dataframe tbody tr th:only-of-type {\n",
       "        vertical-align: middle;\n",
       "    }\n",
       "\n",
       "    .dataframe tbody tr th {\n",
       "        vertical-align: top;\n",
       "    }\n",
       "\n",
       "    .dataframe thead th {\n",
       "        text-align: right;\n",
       "    }\n",
       "</style>\n",
       "<table border=\"1\" class=\"dataframe\">\n",
       "  <thead>\n",
       "    <tr style=\"text-align: right;\">\n",
       "      <th></th>\n",
       "      <th>Open</th>\n",
       "      <th>High</th>\n",
       "      <th>Low</th>\n",
       "      <th>Close</th>\n",
       "      <th>Volume</th>\n",
       "    </tr>\n",
       "    <tr>\n",
       "      <th>Datetime</th>\n",
       "      <th></th>\n",
       "      <th></th>\n",
       "      <th></th>\n",
       "      <th></th>\n",
       "      <th></th>\n",
       "    </tr>\n",
       "  </thead>\n",
       "  <tbody>\n",
       "    <tr>\n",
       "      <th>2021-07-12 09:30:00</th>\n",
       "      <td>2596.669922</td>\n",
       "      <td>2602.840088</td>\n",
       "      <td>2592.000000</td>\n",
       "      <td>2599.695068</td>\n",
       "      <td>177791</td>\n",
       "    </tr>\n",
       "    <tr>\n",
       "      <th>2021-07-12 10:30:00</th>\n",
       "      <td>2599.989990</td>\n",
       "      <td>2610.767578</td>\n",
       "      <td>2598.889893</td>\n",
       "      <td>2606.820068</td>\n",
       "      <td>76378</td>\n",
       "    </tr>\n",
       "    <tr>\n",
       "      <th>2021-07-12 11:30:00</th>\n",
       "      <td>2605.939941</td>\n",
       "      <td>2610.800049</td>\n",
       "      <td>2602.510010</td>\n",
       "      <td>2603.620117</td>\n",
       "      <td>64613</td>\n",
       "    </tr>\n",
       "    <tr>\n",
       "      <th>2021-07-12 12:30:00</th>\n",
       "      <td>2603.564941</td>\n",
       "      <td>2606.489990</td>\n",
       "      <td>2601.570068</td>\n",
       "      <td>2602.969971</td>\n",
       "      <td>67478</td>\n",
       "    </tr>\n",
       "    <tr>\n",
       "      <th>2021-07-12 13:30:00</th>\n",
       "      <td>2602.945068</td>\n",
       "      <td>2606.475098</td>\n",
       "      <td>2598.000000</td>\n",
       "      <td>2604.669922</td>\n",
       "      <td>72896</td>\n",
       "    </tr>\n",
       "  </tbody>\n",
       "</table>\n",
       "</div>"
      ],
      "text/plain": [
       "                            Open         High          Low        Close  \\\n",
       "Datetime                                                                  \n",
       "2021-07-12 09:30:00  2596.669922  2602.840088  2592.000000  2599.695068   \n",
       "2021-07-12 10:30:00  2599.989990  2610.767578  2598.889893  2606.820068   \n",
       "2021-07-12 11:30:00  2605.939941  2610.800049  2602.510010  2603.620117   \n",
       "2021-07-12 12:30:00  2603.564941  2606.489990  2601.570068  2602.969971   \n",
       "2021-07-12 13:30:00  2602.945068  2606.475098  2598.000000  2604.669922   \n",
       "\n",
       "                     Volume  \n",
       "Datetime                     \n",
       "2021-07-12 09:30:00  177791  \n",
       "2021-07-12 10:30:00   76378  \n",
       "2021-07-12 11:30:00   64613  \n",
       "2021-07-12 12:30:00   67478  \n",
       "2021-07-12 13:30:00   72896  "
      ]
     },
     "execution_count": 4,
     "metadata": {},
     "output_type": "execute_result"
    }
   ],
   "source": [
    "df = df[[\"Open\", \"High\", \"Low\", \"Close\", \"Volume\"]]\n",
    "df.dropna(inplace=True)\n",
    "\n",
    "df.head()"
   ]
  },
  {
   "cell_type": "code",
   "execution_count": 5,
   "metadata": {},
   "outputs": [
    {
     "name": "stderr",
     "output_type": "stream",
     "text": [
      "e:\\Programming\\stock-trading\\.conda\\lib\\site-packages\\tqdm\\auto.py:22: TqdmWarning: IProgress not found. Please update jupyter and ipywidgets. See https://ipywidgets.readthedocs.io/en/stable/user_install.html\n",
      "  from .autonotebook import tqdm as notebook_tqdm\n",
      "e:\\Programming\\stock-trading\\.conda\\lib\\site-packages\\backtesting\\backtesting.py:1488: UserWarning: Searching for best of 530 configurations.\n",
      "  output = _optimize_grid()\n",
      "                                             \r"
     ]
    }
   ],
   "source": [
    "from backtesting import Backtest\n",
    "from backtesting.lib import crossover, TrailingStrategy\n",
    "\n",
    "class RsiBreakout(TrailingStrategy):\n",
    "    n1 = 40\n",
    "    n2 = 200\n",
    "    upper_bound = 60\n",
    "    lower_bound = 40\n",
    "\n",
    "    def init(self):\n",
    "        super().init()\n",
    "        self.set_trailing_sl(2.5)\n",
    "\n",
    "        high = self.data.High\n",
    "        low = self.data.Low                \n",
    "        close = self.data.Close\n",
    "        self.rsi = self.I(ta.RSI, close, self.n1)\n",
    "        self.sma = self.I(ta.SMA, close, self.n2)\n",
    "        self.atr = self.I(ta.ATR, high, low, close, 14)\n",
    "\n",
    "    def next(self):\n",
    "        super().next()\n",
    "        close = self.data.Close[-1]\n",
    "\n",
    "        if self.rsi[-1] < self.lower_bound and close<self.sma[-1] and not self.position:\n",
    "            self.sl = self.data.Close[-1] - 2.5*self.atr[-1]\n",
    "            self.buy(size=0.75, sl=self.sl)\n",
    "\n",
    "        elif self.rsi[-1] > self.upper_bound and close>self.sma[-1] and not self.position:\n",
    "            self.sl = self.data.Close[-1] + 2.5*self.atr[-1]\n",
    "            self.sell(size=0.75, sl=self.sl)"
   ]
  },
  {
   "cell_type": "code",
   "execution_count": null,
   "metadata": {},
   "outputs": [],
   "source": [
    "bt = Backtest(df, RsiBreakout,\n",
    "            cash=100000, trade_on_close=True, exclusive_orders=True)\n",
    "\n",
    "# stats = bt.optimize(n1=range(10, 80, 4), n2=range(40, 200, 5), maximize=\"Sharpe Ratio\", constraint=lambda p: p.n1 < p.n2)\n",
    "\n",
    "stats = bt.run()"
   ]
  },
  {
   "cell_type": "code",
   "execution_count": 6,
   "metadata": {},
   "outputs": [
    {
     "name": "stdout",
     "output_type": "stream",
     "text": [
      "OC-Range:  -0.12333177221524723\n",
      "HL-Range:  0.4586576948301164\n"
     ]
    }
   ],
   "source": [
    "print(\"OC-Range: \", (df[\"Close\"].iloc[-1]-df[\"Close\"].iloc[0])/df[\"Close\"].iloc[0])\n",
    "print(\"HL-Range: \", (np.max(df[\"Close\"])-np.min(df[\"Close\"]))/np.min(df[\"Close\"]))"
   ]
  },
  {
   "cell_type": "code",
   "execution_count": 7,
   "metadata": {},
   "outputs": [
    {
     "data": {
      "text/plain": [
       "Start                     2021-07-12 09:30:00\n",
       "End                       2022-07-05 15:30:00\n",
       "Duration                    358 days 06:00:00\n",
       "Exposure Time [%]                   23.023658\n",
       "Equity Final [$]                117141.824868\n",
       "Equity Peak [$]                 119764.671392\n",
       "Return [%]                          17.141825\n",
       "Buy & Hold Return [%]              -12.333177\n",
       "Return (Ann.) [%]                   17.441136\n",
       "Volatility (Ann.) [%]               12.367289\n",
       "Sharpe Ratio                         1.410263\n",
       "Sortino Ratio                        2.911868\n",
       "Calmar Ratio                         3.412092\n",
       "Max. Drawdown [%]                   -5.111567\n",
       "Avg. Drawdown [%]                   -1.205484\n",
       "Max. Drawdown Duration       97 days 21:00:00\n",
       "Avg. Drawdown Duration       15 days 08:00:00\n",
       "# Trades                                   23\n",
       "Win Rate [%]                        60.869565\n",
       "Best Trade [%]                      10.179319\n",
       "Worst Trade [%]                     -2.777816\n",
       "Avg. Trade [%]                       0.926979\n",
       "Max. Trade Duration          11 days 00:00:00\n",
       "Avg. Trade Duration           3 days 11:00:00\n",
       "Profit Factor                        3.022747\n",
       "Expectancy [%]                       0.964674\n",
       "SQN                                  1.580045\n",
       "_strategy                 RsiBreakout(n1=7...\n",
       "_equity_curve                             ...\n",
       "_trades                       Size  EntryB...\n",
       "dtype: object"
      ]
     },
     "execution_count": 7,
     "metadata": {},
     "output_type": "execute_result"
    }
   ],
   "source": [
    "stats"
   ]
  }
 ],
 "metadata": {
  "kernelspec": {
   "display_name": "Python 3",
   "language": "python",
   "name": "python3"
  },
  "language_info": {
   "codemirror_mode": {
    "name": "ipython",
    "version": 3
   },
   "file_extension": ".py",
   "mimetype": "text/x-python",
   "name": "python",
   "nbconvert_exporter": "python",
   "pygments_lexer": "ipython3",
   "version": "3.10.8"
  },
  "orig_nbformat": 4
 },
 "nbformat": 4,
 "nbformat_minor": 2
}
