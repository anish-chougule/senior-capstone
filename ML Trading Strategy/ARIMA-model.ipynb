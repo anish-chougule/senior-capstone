{
 "cells": [
  {
   "cell_type": "code",
<<<<<<< HEAD
   "execution_count": 42,
=======
   "execution_count": 2,
>>>>>>> 97ec36e8d79d8db448e80639dec329c58c5d9c34
   "metadata": {},
   "outputs": [],
   "source": [
    "import yfinance as yf\n",
    "import pandas as pd\n",
<<<<<<< HEAD
    "import numpy as np\n",
    "from sklearn.metrics import mean_absolute_error\n",
    "\n",
    "import warnings\n",
    "warnings.filterwarnings(\"ignore\")\n",
=======
>>>>>>> 97ec36e8d79d8db448e80639dec329c58c5d9c34
    "\n",
    "stock = yf.Ticker(\"GOOG\")"
   ]
  },
  {
   "cell_type": "code",
<<<<<<< HEAD
   "execution_count": 43,
=======
   "execution_count": 66,
>>>>>>> 97ec36e8d79d8db448e80639dec329c58c5d9c34
   "metadata": {},
   "outputs": [
    {
     "name": "stdout",
     "output_type": "stream",
     "text": [
      "[*********************100%***********************]  1 of 1 completed\n",
      "                           Open        High         Low       Close  \\\n",
      "Datetime                                                              \n",
<<<<<<< HEAD
      "2023-10-24 09:30:00  139.160004  139.369995  138.750000  139.369995   \n",
      "2023-10-24 09:31:00  139.364807  139.449997  139.179993  139.240005   \n",
      "2023-10-24 09:32:00  139.259995  139.279999  138.970001  138.970001   \n",
      "2023-10-24 09:33:00  138.960007  139.250000  138.839996  139.208298   \n",
      "2023-10-24 09:34:00  139.259995  139.529999  139.240005  139.447998   \n",
      "\n",
      "                      Adj Close  Volume  \n",
      "Datetime                                 \n",
      "2023-10-24 09:30:00  139.369995  748403  \n",
      "2023-10-24 09:31:00  139.240005   76096  \n",
      "2023-10-24 09:32:00  138.970001  118376  \n",
      "2023-10-24 09:33:00  139.208298   70437  \n",
      "2023-10-24 09:34:00  139.447998   80998  \n"
=======
      "2023-10-03 09:30:00  134.929993  135.110001  134.589996  134.649994   \n",
      "2023-10-03 09:31:00  134.619995  134.690002  134.160004  134.179993   \n",
      "2023-10-03 09:32:00  134.179993  134.320007  134.065002  134.300003   \n",
      "2023-10-03 09:33:00  134.304993  134.544998  134.304993  134.309998   \n",
      "2023-10-03 09:34:00  134.354996  134.491806  134.289993  134.419998   \n",
      "\n",
      "                      Adj Close  Volume  \n",
      "Datetime                                 \n",
      "2023-10-03 09:30:00  134.649994  543374  \n",
      "2023-10-03 09:31:00  134.179993   96864  \n",
      "2023-10-03 09:32:00  134.300003  107288  \n",
      "2023-10-03 09:33:00  134.309998   63752  \n",
      "2023-10-03 09:34:00  134.419998   49106  \n"
>>>>>>> 97ec36e8d79d8db448e80639dec329c58c5d9c34
     ]
    }
   ],
   "source": [
    "df = yf.download(tickers=\"GOOG\", period=\"1d\", interval=\"1m\")\n",
    "stock.history(period='1d', interval=\"1m\")\n",
    "print(df.head())"
   ]
  },
  {
   "cell_type": "code",
<<<<<<< HEAD
   "execution_count": 44,
=======
   "execution_count": 67,
>>>>>>> 97ec36e8d79d8db448e80639dec329c58c5d9c34
   "metadata": {},
   "outputs": [
    {
     "data": {
      "text/html": [
       "<div>\n",
       "<style scoped>\n",
       "    .dataframe tbody tr th:only-of-type {\n",
       "        vertical-align: middle;\n",
       "    }\n",
       "\n",
       "    .dataframe tbody tr th {\n",
       "        vertical-align: top;\n",
       "    }\n",
       "\n",
       "    .dataframe thead th {\n",
       "        text-align: right;\n",
       "    }\n",
       "</style>\n",
       "<table border=\"1\" class=\"dataframe\">\n",
       "  <thead>\n",
       "    <tr style=\"text-align: right;\">\n",
       "      <th></th>\n",
       "      <th>Open</th>\n",
       "      <th>High</th>\n",
       "      <th>Low</th>\n",
       "      <th>Close</th>\n",
       "      <th>Volume</th>\n",
       "    </tr>\n",
       "    <tr>\n",
       "      <th>Datetime</th>\n",
       "      <th></th>\n",
       "      <th></th>\n",
       "      <th></th>\n",
       "      <th></th>\n",
       "      <th></th>\n",
       "    </tr>\n",
       "  </thead>\n",
       "  <tbody>\n",
       "    <tr>\n",
<<<<<<< HEAD
       "      <th>2023-10-24 09:30:00</th>\n",
       "      <td>139.160004</td>\n",
       "      <td>139.369995</td>\n",
       "      <td>138.750000</td>\n",
       "      <td>139.369995</td>\n",
       "      <td>748403</td>\n",
       "    </tr>\n",
       "    <tr>\n",
       "      <th>2023-10-24 09:31:00</th>\n",
       "      <td>139.364807</td>\n",
       "      <td>139.449997</td>\n",
       "      <td>139.179993</td>\n",
       "      <td>139.240005</td>\n",
       "      <td>76096</td>\n",
       "    </tr>\n",
       "    <tr>\n",
       "      <th>2023-10-24 09:32:00</th>\n",
       "      <td>139.259995</td>\n",
       "      <td>139.279999</td>\n",
       "      <td>138.970001</td>\n",
       "      <td>138.970001</td>\n",
       "      <td>118376</td>\n",
       "    </tr>\n",
       "    <tr>\n",
       "      <th>2023-10-24 09:33:00</th>\n",
       "      <td>138.960007</td>\n",
       "      <td>139.250000</td>\n",
       "      <td>138.839996</td>\n",
       "      <td>139.208298</td>\n",
       "      <td>70437</td>\n",
       "    </tr>\n",
       "    <tr>\n",
       "      <th>2023-10-24 09:34:00</th>\n",
       "      <td>139.259995</td>\n",
       "      <td>139.529999</td>\n",
       "      <td>139.240005</td>\n",
       "      <td>139.447998</td>\n",
       "      <td>80998</td>\n",
=======
       "      <th>2023-10-03 09:30:00</th>\n",
       "      <td>134.929993</td>\n",
       "      <td>135.110001</td>\n",
       "      <td>134.589996</td>\n",
       "      <td>134.649994</td>\n",
       "      <td>543374</td>\n",
       "    </tr>\n",
       "    <tr>\n",
       "      <th>2023-10-03 09:31:00</th>\n",
       "      <td>134.619995</td>\n",
       "      <td>134.690002</td>\n",
       "      <td>134.160004</td>\n",
       "      <td>134.179993</td>\n",
       "      <td>96864</td>\n",
       "    </tr>\n",
       "    <tr>\n",
       "      <th>2023-10-03 09:32:00</th>\n",
       "      <td>134.179993</td>\n",
       "      <td>134.320007</td>\n",
       "      <td>134.065002</td>\n",
       "      <td>134.300003</td>\n",
       "      <td>107288</td>\n",
       "    </tr>\n",
       "    <tr>\n",
       "      <th>2023-10-03 09:33:00</th>\n",
       "      <td>134.304993</td>\n",
       "      <td>134.544998</td>\n",
       "      <td>134.304993</td>\n",
       "      <td>134.309998</td>\n",
       "      <td>63752</td>\n",
       "    </tr>\n",
       "    <tr>\n",
       "      <th>2023-10-03 09:34:00</th>\n",
       "      <td>134.354996</td>\n",
       "      <td>134.491806</td>\n",
       "      <td>134.289993</td>\n",
       "      <td>134.419998</td>\n",
       "      <td>49106</td>\n",
>>>>>>> 97ec36e8d79d8db448e80639dec329c58c5d9c34
       "    </tr>\n",
       "  </tbody>\n",
       "</table>\n",
       "</div>"
      ],
      "text/plain": [
       "                           Open        High         Low       Close  Volume\n",
       "Datetime                                                                   \n",
<<<<<<< HEAD
       "2023-10-24 09:30:00  139.160004  139.369995  138.750000  139.369995  748403\n",
       "2023-10-24 09:31:00  139.364807  139.449997  139.179993  139.240005   76096\n",
       "2023-10-24 09:32:00  139.259995  139.279999  138.970001  138.970001  118376\n",
       "2023-10-24 09:33:00  138.960007  139.250000  138.839996  139.208298   70437\n",
       "2023-10-24 09:34:00  139.259995  139.529999  139.240005  139.447998   80998"
      ]
     },
     "execution_count": 44,
=======
       "2023-10-03 09:30:00  134.929993  135.110001  134.589996  134.649994  543374\n",
       "2023-10-03 09:31:00  134.619995  134.690002  134.160004  134.179993   96864\n",
       "2023-10-03 09:32:00  134.179993  134.320007  134.065002  134.300003  107288\n",
       "2023-10-03 09:33:00  134.304993  134.544998  134.304993  134.309998   63752\n",
       "2023-10-03 09:34:00  134.354996  134.491806  134.289993  134.419998   49106"
      ]
     },
     "execution_count": 67,
>>>>>>> 97ec36e8d79d8db448e80639dec329c58c5d9c34
     "metadata": {},
     "output_type": "execute_result"
    }
   ],
   "source": [
    "#df = stock.history(period='7d', interval=\"1m\")\n",
    "df = df[[\"Open\", \"High\", \"Low\", \"Close\", \"Volume\"]]\n",
    "df.head()"
   ]
  },
  {
   "cell_type": "code",
<<<<<<< HEAD
   "execution_count": 45,
=======
   "execution_count": 68,
>>>>>>> 97ec36e8d79d8db448e80639dec329c58c5d9c34
   "metadata": {},
   "outputs": [],
   "source": [
    "X = df.index.values\n",
    "y = df['Low'].values# The split point is the 10% of the dataframe length\n",
<<<<<<< HEAD
    "offset = 6          # Number of candles in a day\n",
=======
    "offset = int(0.10*len(df))\n",
>>>>>>> 97ec36e8d79d8db448e80639dec329c58c5d9c34
    "\n",
    "X_train = X[:-offset]\n",
    "y_train = y[:-offset]\n",
    "X_test  = X[-offset:]\n",
    "y_test  = y[-offset:]"
   ]
  },
  {
   "cell_type": "code",
<<<<<<< HEAD
   "execution_count": 46,
=======
   "execution_count": 69,
>>>>>>> 97ec36e8d79d8db448e80639dec329c58c5d9c34
   "metadata": {},
   "outputs": [
    {
     "data": {
<<<<<<< HEAD
      "image/png": "iVBORw0KGgoAAAANSUhEUgAAAj4AAAGdCAYAAAASUnlxAAAAOXRFWHRTb2Z0d2FyZQBNYXRwbG90bGliIHZlcnNpb24zLjYuMiwgaHR0cHM6Ly9tYXRwbG90bGliLm9yZy8o6BhiAAAACXBIWXMAAA9hAAAPYQGoP6dpAACFrklEQVR4nO3deXxTdb4//tfJ0qRrum/QjX0VARHEBRCsdhBG9IrLHQavjl8dRUUUHWQWxhnBcX4CXhn1OpeL+8g4g4w7U0Q22ZdKAdlKW7pSuqV7kibn90dyTpM2bZM2adrk9Xw88oAmJ8k5FZt33+/35/0RRFEUQURERBQAFL4+ASIiIqK+wsCHiIiIAgYDHyIiIgoYDHyIiIgoYDDwISIiooDBwIeIiIgCBgMfIiIiChgMfIiIiChgqHx9Av2JxWJBaWkpwsPDIQiCr0+HiIiIXCCKIurr65GcnAyFouucDgMfO6WlpUhJSfH1aRAREVEPFBUVYfDgwV0ew8DHTnh4OADrNy4iIsLHZ0NERESuqKurQ0pKivw53hUGPnak8lZERAQDHyIiogHGlTYVNjcTERFRwGDgQ0RERAGDgQ8REREFDPb4uEkURbS2tsJsNvv6VAYspVIJlUrFkQFERNTnGPi4wWg0oqysDE1NTb4+lQEvJCQESUlJCAoK8vWpEBFRAGHg4yKLxYL8/HwolUokJycjKCiIGYseEEURRqMRV65cQX5+PoYPH97tsCkiIiJPYeDjIqPRCIvFgpSUFISEhPj6dAa04OBgqNVqFBYWwmg0QqvV+vqUiIgoQPBXbTcxO+EZ/D4SEZEv8NOHiIiIAgYDHyIiIgoYDHyoR2bOnImlS5f6+jSIiIjcwuZmP9fdyrPFixfjnXfecft1t2zZArVa3cOzIiIi8g0GPn6urKxM/vvmzZvx29/+FmfPnpXvCw4OdjjeZDK5FNBER0d77iSJiGx2nbuCK/UG/Mfkwb4+FfJTLHX1giiKaDK2+uQmiqJL55iYmCjfdDodBEGQv25paUFkZCT+/ve/Y+bMmdBqtfjggw9QVVWF++67D4MHD0ZISAjGjx+Pv/3tbw6v277UlZ6ejtWrV+PBBx9EeHg4UlNT8fbbb3vy201Efu67MxX4r02H8OwnP6CgstHXp0N+ihmfXmg2mTHmt9t88t6nX7wVIUGe+c/3/PPP49VXX8WmTZug0WjQ0tKCyZMn4/nnn0dERAS+/PJLLFq0CEOGDMHUqVM7fZ1XX30Vf/jDH/DCCy/gH//4B375y1/ipptuwqhRozxynkTkv86W1+OJvx2HxfY73dnL9UiPDfXtSZFfYuBDWLp0Ke68806H+5599ln570888QS++eYbfPLJJ10GPj/5yU/w2GOPAbAGU+vWrcPOnTsZ+BBRlyobDHjwncNoMLTK9128wowPeQcDn14IVitx+sVbffbennLNNdc4fG02m/Hyyy9j8+bNKCkpgcFggMFgQGho1799XXXVVfLfpZJaRUWFx86TiPzPxSsNWLo5ByW1zUiPCcGsUfHY9H0BLl5p8PWpkZ9yu8dn9+7dmDdvHpKTkyEIArZu3drpsY888ggEQcD69esd7jcYDHjiiScQGxuL0NBQzJ8/H8XFxV2+76pVqyAIgsMtMTHR4RhRFLFq1SokJycjODgYM2fOxKlTp9y9RJcJgoCQIJVPbp7cJ6x9QPPqq69i3bp1eO6557Bjxw7k5OTg1ltvhdFo7PJ12jdFC4IAi8XisfMkIv/RZGzFn745g1vX78aJYj0itCpsfGAKJqVGAQAusseHvMTtwKexsRETJkzAhg0bujxu69atOHjwIJKTkzs8tnTpUnz66af4+OOPsXfvXjQ0NOD222+H2Wzu8jXHjh2LsrIy+Zabm+vw+CuvvIK1a9diw4YNOHz4MBITE3HLLbegvr7e3csMaHv27MFPf/pT/OxnP8OECRMwZMgQnD9/3tenRUR+orCqEbes3Y03d+bBZBYxc2QcPltyA4bGhWFInPUXMWZ8yFvcLnVlZWUhKyury2NKSkqwZMkSbNu2DXPnznV4TK/XY+PGjXj//fcxZ84cAMAHH3yAlJQUbN++Hbfe2nnpSKVSdcjySERRxPr167Fy5Uq5X+Xdd99FQkICPvroIzzyyCPuXGZAGzZsGP75z39i3759iIqKwtq1a1FeXo7Ro0f7+tSIaICrazHhoXePoKS2GYMig/G7eWNwy5gEOYudYWtormkyobrRiOjQIF+eLvkhjy9nt1gsWLRoEZYvX46xY8d2ePzo0aMwmUzIzMyU70tOTsa4ceOwb9++Ll/7/PnzSE5ORkZGBu69915cvHhRfiw/Px/l5eUOr6vRaDBjxoxOX9dgMKCurs7hRsBvfvMbTJo0CbfeeitmzpyJxMRE3HHHHb4+LSIa4FrNFjz+4TFcqGhAYoQWWx6bjsyxiQ6l+5AgFZJ1WgDM+pB3eLy5+U9/+hNUKhWefPJJp4+Xl5cjKCgIUVFRDvcnJCSgvLy809edOnUq3nvvPYwYMQKXL1/GH//4R0yfPh2nTp1CTEyM/NyEhIQOr1tYWOj0NdesWYPf//737lzegPbAAw/ggQcekL9OT093Og8oOjq6y94tANi5c6fD1wUFBR2OycnJcf8kichv/eGL09hzvhLBaiX+d/E1SIjQOj1uSFwYSvUtuHilEdekc1gqeZZHMz5Hjx7Fa6+9hnfeecft5ltRFLt8TlZWFu666y6MHz8ec+bMwZdffgnAWs6y1/41unrdFStWQK/Xy7eioiK3zpmIiFyz5/wVvLvf+kvounuuxrhBuk6PHWrr88mrZMaHPM+jgc+ePXtQUVGB1NRUqFQqqFQqFBYW4plnnkF6ejoA6yRho9GImpoah+dWVFR0yNZ0JTQ0FOPHj5ebbqXen/ZZo65eV6PRICIiwuFGRBTIWs0W7DxbgS9PlOGbk2XYceYy6ltMvX7dE8V6AMC8Ccm4bZzzXk3JkLgwAJzlQ97h0cBn0aJFOHHiBHJycuRbcnIyli9fjm3brBOOJ0+eDLVajezsbPl5ZWVlOHnyJKZPn+7yexkMBvz4449ISkoCAGRkZCAxMdHhdY1GI3bt2uXW6xIRBbK/HS7CA5sO4/GPjuHRD47hwXeO4Jm//9Dr1y2tbQYAZMSEdHuss5Vd1Y1G/P1IEYytHJFBveN2j09DQwMuXLggf52fn4+cnBxER0cjNTUVMTExDser1WokJiZi5MiRAACdToeHHnoIzzzzDGJiYhAdHY1nn31WLmFJZs+ejQULFmDJkiUArJOE582bh9TUVFRUVOCPf/wj6urqsHjxYgDWEtfSpUuxevVqDB8+HMOHD8fq1asREhKC+++/3/3vDBFRANp11jp0dEhcKMI0Kpwo1uNQQXW37QjdKdO3AACSIoO7ObIt43OpugmtZgtUSgV+vTUXX+WWI7+yEc/fxmnw1HNuBz5HjhzBrFmz5K+XLVsGAFi8eDHeeecdl15j3bp1UKlUWLhwIZqbmzF79my88847UCrbphHn5eWhsrJS/rq4uBj33XcfKisrERcXh2nTpuHAgQNIS0uTj3nuuefQ3NyMxx57DDU1NZg6dSr+/e9/Izw83N3LJCIKOBaLiMMF1jaEtQuvxuikcIz97TbUNplQpm9BsgtBS2ekjE+iznlDs72kCC20agVaTBYU1TQjMliN7NOXAQDv7y/EozOGQhes7uZViJxzO/CZOXOmyzuDA85X+2i1Wrz++ut4/fXXXX7exx9/3O17CYKAVatWYdWqVS6fHxGRJ+w+dwXl+hbcfc1gj05W70vnKxqgbzYhWK3E2OQIqJUKDIsPw5nyepwurXMIfHaerUCLyYzbxiW59NrlddaMT7Ku++BJoRCQERuGH8vqcPFKA0prm2EyWz93Ggyt+OBAIR6fNawHV0jkhTk+RESBZs/5K/ivdw7juX+ewLZTnY/l6O8O5VcBACanRUGttH48jEmyLvo4XdY256yuxYT/995RPPrBMRwuqO72dZuNZtQ2WRukXcn4APZ9Po34x7ES+bwAYNP3+WgxdT3pn6gzDHyIiHrhQkUDHvvwGMwWa0bi5a/PDNgG3EO2MtcUu9k5Y5Ktgc+PdoHP0cIaGM3Wa/zjlz/CYum6ClCqt5a5QoOUiNC6VmgYapvgnH36Mn4oqoVSIeAv90/C4KhgVDZYG50BawP0b7aexL68yq5ejkjGwIeIqIdqGo146N3DqG9pxaTUSMSGaVBQ1YT3DzgfmtqfiaKIw/nW7M2UjLYBs6OdZHyk4wDgh6JafH6itMvXLrdrbHa1DCg1OB+yZZRmjIhDok6LR24aAgD4n10X5U1O3z9QiBc/P+3S6xIx8PFz7Xe0b3+zn+TsrvT0dKxfv95j50o0kBhbLXj0g6MorGrC4KhgvP3za/Bs5ggAwH9/ex61TUYfn6F7imuaUV7XArVSwMSUjoFPYVWTPM9HKm+NSrQuHHnlm7Ndlp6kxuYkF8tcQFupS3LnpEEAgLuvSUFsWBBKapvlTU4B4Ozleuibej9viPwfAx8/Z7+b/fr16xEREeFw32uvvebrUyQacERRxG+2nsTB/GqEaVTYuHgKYsM0uPuaFIxKDIe+2YT//vZC9y/Ujxy0ZXHGD9IhOKhthW10aJAcsJwpr0eLyYwfiqzDCNfdczWSdFqU1Dbj/77P7/S15aXsbgQ+0malABCuVWHOaOsgWq1aiV/OtDY2p0QH468/vwZDYkMhisCRwu77jYgY+Pi5xMRE+abT6SAIgsN9u3fvxuTJk6HVajFkyBD8/ve/R2trq/z8VatWITU1FRqNBsnJyfIebDNnzkRhYSGefvppOXtEFCj+d08+Nh8pgkIAXr9vIkbaMh9KhYAXfjIaAPD+gQIUVTf58jTd0lbm6rg3ltzgXFqHH4pqYTRbEBeuwajEcCy/1Tqj7Y3v8lDT6DzL1Rb4uL4cPlyrRny4BgBw+1XJ0KrbgrEHr0/HV0/eiOynZ+CWMQm41nbOh/IZ+FD3GPj0higCxkbf3NwYKdCZbdu24Wc/+xmefPJJnD59Gv/zP/+Dd955By+99BIA4B//+AfWrVuH//mf/8H58+exdetWjB8/HgCwZcsWDB48GC+++KKcPSIKBNtPX8bqr38EAKycOwazRsU7PH7TiDhMSo2EySziwMUqX5xij0jlq6lOAh+p3PVjWZ0cXFybEQ1BEHDH1YMwJDYUDYZWOWvUXpne/VIXAMwaGQ+tWoFF09Ic7hcEAWOSI+RgSGrGPuTCCjMij+/OHlBMTcDqZN+89wulQFBo98d14aWXXsKvfvUrefr1kCFD8Ic//AHPPfccfve73+HSpUtITEzEnDlzoFarkZqaimuvvRaAdQd3pVKJ8PBweZ80In93pd6Apz4+DlEE7rs2FQ9en+70uDHJETh2qRaFVQMj41NR34KLlY0QBGBympOMT3Jbg3OJrV/nWluwoVAImJQWhYuVjfixrM7pPlxlta5Pbba3+s7x+PXtoxGu7XpYoZTxyS3Wo8nYipAgfrRR55jxCWBHjx7Fiy++iLCwMPn28MMPo6ysDE1NTbj77rvR3NyMIUOG4OGHH8ann37qUAYjCjRHC6vRaDRjSFwoXvzp2E5LvGnR1l9KCqoGxiabR2zL2EcmhDudiCyVus6U1+NYofXYa+0yQ85m/diTMj7JbmZ8lAqh26AHAAZHBSNJp0WrRUTOpVq33qMr+iYTWs0DczQBdY5hcW+oQ6yZF1+9dy9ZLBb8/ve/x5133tnhMa1Wi5SUFJw9exbZ2dnYvn07HnvsMfz5z3/Grl27oFZzXDwFnjzbbuFXDdLJA/6cSbNtxDlQMj5S+cpZmQsAUqNDEBqkRKPRDCOACK0KIxPatgKSM0KlHQOfRkMr6lqsvzC5OrzQXYIg4NqMaPwrpxQH86sxfVhsr15P32zCuuxzeP9AIa4arMNHv5jm0PBNAxsDn94QhF6Xm3xp0qRJOHv2LIYN63z0e3BwMObPn4/58+fj8ccfx6hRo5Cbm4tJkyYhKCgIZjOnp1LguGgLfKQZM51Jj23L+PR2c8++cKiLxmbAWs4anRSBI4VtAw4VirZrGp1oDXxKapuhbzJBF9L2i5GU7QnXqFzK3vTUlHRr4OPKJOmu/ONoMV7++kdUNlgbtY9fqsUzn+Rgw32THK6ZBi6WugLYb3/7W7z33ntYtWoVTp06hR9//BGbN2/Gr3/9awDAO++8g40bN+LkyZO4ePEi3n//fQQHB8sbw6anp2P37t0oKSlx2FCWyF9drGwA0HHGTHup0daMT31LK2r6+WyZuhYTfiy3ZmquTXce+ABtDc5AxwBJF6LGIFv/jvRakrZd2b2T7ZFIpbdjl2p6PDn72x8v49lPfkBlgxFD40Lx29vHQK0U8FVuOdZtP+fJ0yUfYuATwG699VZ88cUXyM7OxpQpUzBt2jSsXbtWDmwiIyPx17/+Fddffz2uuuoqfPvtt/j8888RExMDAHjxxRdRUFCAoUOHIi4uzpeXQuR1oii2ZXxiu874aNVKeQVTYT/v8zlaWANRBNJjQhAf0XlwIpWzAMf+nvaPty93SY3NiW4sZe+JYXFhiApRo8VkwclSfY9eY+8F6y9wc8cn4eunbsKDN2RgzZ1XAQBe33EBW4+XeOx8yXcY+ASQBx54ALW1tQ733Xrrrfj+++/R1NQEvV6PgwcP4uGHHwYA3HHHHThw4AD0ej0aGhqwf/9+zJ49W37utGnT8MMPP6ClpQWiB5bXE/Vn1Y1G6Jut2Rv74XqdkbI+/b3PRy5zdZHtAYBxyToAQLBaKf/dXmcNzqU9bGx2l0Ih4BrbNRzu4TwfKWibNSoeQSrrx+N/TB6MR2cMBQD8eutJbo7qBxj4EBG54GKlNXMzKDLYpUbX9Jj+t7LraGE1vsp1nLl12G4uT1fGDYrAiqxRWHfPBDkosNdZxqe8B8MLe2pqLwYZiqIoB21j7Mp6APDcrSOREKFBg6FVXgFHAxcDHyIiF1y84lp/jyQttn9lfERRxMPvHcVjHx6TA4MWkxkniq1loe4CH0EQ8MiMobhtXJLTx6Vg4UJFg0OPTWkPtqvoqclp1j3GTpS4X+oqrmlGfUsr1EoBw+IdS5kKhYCbhlvL+bvOVfT+RMmnGPgQ0YCVd6UBf/jitDxUz5uk/p6h3azokvS3jE9xTTOqbVtKvLu/AACQY9t+Ij5cI5fmempwVDDCtSoYzRbk2YJEACiTNij1cnMzALlHqSeblf5oy/YMjw93mtG6aYQ18Nl9znEhx4GLVVj777Oc9zOAMPAhogHrL99dwMa9+Vj8f4dQ1+Ld1VN58lJ2FzM+/WyWz9nyevnv206W43Jdi0OZq7dL7gVBkFd+2Ze7+rLUFa61Tmgxmi1u9+LIZa7kCKeP3zAsFgrBugu8tETf0GrGko+O4b93XMC2U5d7cebUlxj4ENGAdabM+mF+oaIBSz467tXfuuWl7N2s6JKk2TI+1Y1Grwdlrjh7uS3wabWI+OjgJXlvq+7KXK5q3+Bc32JCvcE6vLAvSl1hQSpI8Zu733MpWBud5DzwiQoNwoSUSADA7nNXAADfnCyX5/3kFLH3Z6Bg4OMmrl7yDH4fqbfMFlEuqaiVAnafu4I/fvmjV97LZLbgki1z42rGJ0yjQmxYEADIz/UlqZQzbpD1g/2jQ5fk7Se6W9HlKilbIr2XNMMnQqtCqMb783IVCgFhtvepb3Fve53OGpvtSX0+Urnrvf2F8mM/FPdsCX1AMTYB/99I4H/nACbvl6c7w8DHRdIWDU1Nvv8B5g+k7yO3vqCeulTdBEOrBVq1Aq/dOxEA8M6+Anx6vNgr79VqERGsViKxi1k37aX1oz4fqdT15M3DERumwZV6AxqN5g7bT/SGfcZHFEU58El2c3PS3oiwTYd2J/DRN5tQXGP9IO4q8Jkx0hr47Dl/BT8U1eJoYVuWJ7dYzz6f7uiLgIZy4Mo5QN13/yba45YVLlIqlYiMjERFhbWjPyQkpN+Poe+PRFFEU1MTKioqEBkZCaWS+99Qz5yzlW6GxYfhJ+OT8MiMIfifXRfxdW45Fkwc7NH3khqbM2JD3dq2IC0mBEcLa3ze52NoNcvL8ccN0uH+qan472/PA+i4/URvDE8Ig0ohoLbJhKLqZhTXWK/bW3t0OSP1+dQ1u17qkjJUgyKDHbbbaG/C4EjogtXQN5vwqy25AKzDDnedu4IGQysuXGnAqMTOA6eAV3vJ+mdkqk9Pg4GPGxITEwFADn6o5yIjI+XvJ1FPnLcFPiPirdmKa9Oj8T+7LsoD8zzJ3aXsEnllV6VvMz4XKhpgtoiI0KqQpNPi/mtT8ZfvLsBsETvdn6snNColhsWH4Ux5PW7683fy/X3R2CzpScZHCnw66++RKBUCbhweiy9OlMnPeeD6dFQ3GrH/YhV+KKpl4NOVWltpkIHPwCEIApKSkhAfHw+TyffNigOVWq1mpod67dxlazAy3FamkcopJTXeCHxc25y0vf6ysksqc41KjIAgCEjUabH4unR8erwYP+lkLk9PzZuQjDPlZ+WvVQoBM0b03ZY2EcG2jI8bzc1SY3NnK7rs3TQiDl+csA6BHJ0UgWvSojAhJdIa+BTrcc8U9863xWSGUiFArQyAzhM545Pi09Ng4NMDSqWSH9xEPiaVukYkWIORQVHWwKemyYQmYytCgjz3401a0TW0pxkfH/f4SIHPyMS2Xp7f3D4av503xuPv9fisYXhgejpaLdYFDEFKhUuTrj0lXM74uBH4uNDYLLEP4hZflwZBEDBhsHULjx+Kat04U6DB0Irb/3sPLCKwfdkMp/OD/EptkfVPH2d8/Py7TET+qNVskbMwI2wZnwitWu7vKPXwQEN3hxdKpIxPRb0BTUb3Vhn1xqWqJoeMxxkp45PUFvh4s0cxVKOCLlgNXbC6T4MeoK3Hx9VSl7HVgvO27OFYFzI+CRFa/GxaKm4cHoufXj0IAORl7mfK692aH/TmzgsoqGrCpeomuXTm1/pJjw8DHyIacAqqmmA0WxCsVmKQ3Yoh6e/FHix36ZtMqLJNPHZlc1J7kSFB0AVbMxB9Ve46WaLHza/uxH/+9SAstqzLmXLrh+qoRM+s3urPpB4fV5ub8640wGi2IFyjwuAo13qR/njHeLz/0FQ5qEvSaREXroHZIuKUizvDl9Q243/35Mtfnyiudel5AxoDHyKinpEam4cnhDmsSJICH09uYZFnK3MlRmh7NIsmvY/7fP5vbz5aLSJyS/TI/vEyapuMuFxnANCWHfNn7mZ87Bube5oFcyx3uRb4/PmbMzC0WuSBizkuPm/AMjUDjbaFQQx8iIjcIzc2xzt+kEt9Pp5scL7o5lYV7fXlLJ+qBoPceAsAb3x3QS5zWffS8v+5WdI11rkQ+Fyua8Hbuy8CcK2xuSsTBkcCAH5wIXPzQ1EttuaUQhCAp+eMcPl5A5rU36OJALSRPj0VBj5E1G98lVvmsM9TZ85VODY2S6SVXZ7s8enpUnaJ1Odzqdr7GZ+PDxfBaLZgeHwYtGoFfijWy+WUQChzAa6v6rpQUY8739iHM+X1iAvX4IHp6b16X6nPR2pwLtM3Y+Pe/A7/Fi0WES/ZJowvmDgI90+1Zj/yrjS41ZA94NiXuXw8A4+BDxH1C0cLa/DYh8ew5KNj3R4rz/BpV7rxRqlLzvi4uEdXeym2Xc+LvBz4tJot+Oig9cPlkRlDcd+11g/U7T9aN88cGSCBT7gLc3xyi/W46839KKltxpDYUGz55XSku9m/1d5VtlJXQVUT1mafw+xXd+EPX5zGT//yPU6WWMtYhlYzlm7OwaGCamjVCiy/dSRiwzQYFBkMUQRyS/y43NVPZvgADHyIqJ/Yd8G6/9HFykbomzr/zddktiDfNhBweLuMjzdKXXm9zPikRvdNj8+3ZypQUtuMqBA1br8qCf/vpiFQK9t+sx4ZIIP1XJncvH77OeibTbg6JRL/+OV0OTjtjciQILmf67+/PY8moxkhQUpcqTfg3rcP4JuTZfivTYfx2Q+lUCkEvPIfE+TBjlfL2aLuAx99swmrv/px4K0CkzI+Ot/O8AEY+BBRPyHtFA60zVVxpqCyESaziNAgxxVdQFvGp7yuxSP7JpktohywuLuUXSKVukpqm726l9P7tg0z75mSCq1aiSRdMO6a1LZ1x+gAyfhEuDDHRyo7PpM5AtGhQR57b2mz19gwDV69ewL2r5iN64bEoMHQikc/OIZ9eVUIDVJi039NwfwJyfLzJqS4Pgdoy7FivL37Il7bft5j590n9P1jhg/AwIeI+lhBZSMe/+gYLtj6dABrmeaY3YaPXQU+UmPzsITwDqtw4sI0CFIqYBGtwU9vFddYl80HqRQ93mgzIVyLIJUCZkvbpp2edqGiAXsvVEIhAP85te2D5ZczhyJIqUB0aFCvSzkDRYQt49NgaJWX87cn/dtwZ8NZV/wqaxRevXsCdjw7A3dNHgxdsBrvPDgF82xBTly4BpsfuQ43DnecZO1OY7T079/XQzHd1k+WsgOc3ExEfex/dl/ElyfKYGy14K8/vwaANdBpNLYNfuuqwVme2BzfMQOjUAhIitSisKoJJTXNGBzVuxKGvDlpTCiUPdzIU6EQkBIVjLwrjSisavJIWaW93eeuAABuGB7n8PppMaH415LrEaRSBMaWCAAibHOTLCLQaGztsJKtydgq9/8keHjz1JgwDe6a7LhBrkalxGv3XI27Jw/GmOQIxIZpOjxv3CAdFAJQpm9BRV0L4rsIyKRm+6LqJoiiOHA2y+5HgU9g/J9ARP2GlM7fdfaKXI44lG8tc4XYBsJ11b8gbb/Q2Uwaqdzlic1Ke9vfI5H6fLy1sks6z/GDOvbxjE6K6HGZbiDSqBRyb5OzBmdpplFIkBLhPZjL1BMKhYCbRsQ5DXoA66RraTTDD8Vd9/lctPW3NRrNqOmiF65fMTUDDdYm+wEZ+OzevRvz5s1DcnIyBEHA1q1bOz32kUcegSAIWL9+vcP9BoMBTzzxBGJjYxEaGor58+ejuLi4y/dds2YNpkyZgvDwcMTHx+OOO+7A2bNnHY554IEHIAiCw23atGnuXiIReUmLyYyztoyN0WyRVxxJgc+dk6xbAJyvqIextWM/TGFVI3acsQ5Bm5ga6fQ9PLlZqfQh09vAQZrlU1jtnfJEb1ee+RNBELpc2VWubytz9adsiSt9PvUtJlypN8hfe3uloMfobZ/vQeFAcJRvzwU9CHwaGxsxYcIEbNiwocvjtm7dioMHDyI5ObnDY0uXLsWnn36Kjz/+GHv37kVDQwNuv/12mM2d73Gya9cuPP744zhw4ACys7PR2tqKzMxMNDY6/iC57bbbUFZWJt+++uordy+RiLzkVKkeZru+iy9PlMFiEXHY1ti8YOJghGtVMJlFXKho6PD8P31zBkazBTcOj8XkNOc/QD25pL23M3wk3l7SLm2i2tvz9BdSn4+zWT6Xbf09CR7u7+kteQ5QF30+UoArKaoZIIGP/VL2fhBsup3ny8rKQlZWVpfHlJSUYMmSJdi2bRvmzp3r8Jher8fGjRvx/vvvY86cOQCADz74ACkpKdi+fTtuvfVWp6/5zTffOHy9adMmxMfH4+jRo7jpppvk+zUaDRITE929LCLqA9JY/iFxobh4pRG7z1XieFEtappM0KoVGD9IhzFJETiYX43TZXUO03SPFFTjq9xyKARg5dzRnf62Li9pr+19I3Hb1ObeZVK8uaS9wdAql296e57+oqsd2svlwMd52clX5AbnotpOe3ekAFdSVO3ZzXi9Ru7v8f1SdsALPT4WiwWLFi3C8uXLMXbs2A6PHz16FCaTCZmZmfJ9ycnJGDduHPbt2+fy++j11h+g0dHRDvfv3LkT8fHxGDFiBB5++GFUVFR0+hoGgwF1dXUONyLyHmkjxgVXD8KIhDAYzRas/so6xXZSahSCVAo52LHv87FYRPzBNu124TUpGNXFTBo549PL34brW0yoqJcCit5lUuTpzVXWhlRPyrcFZ7FhbRuiBrqu9uuSSl2ebmzurZGJ4dCoFKhraZXnVLU3cDM+/WcpO+CFwOdPf/oTVCoVnnzySaePl5eXIygoCFFRjmnqhIQElJeXu/Qeoihi2bJluOGGGzBu3Dj5/qysLHz44YfYsWMHXn31VRw+fBg333wzDAaD09dZs2YNdDqdfEtJ6R/RKJG/kvoXJqREYu54axn8qG0ZuzQDZUySNaixX9n1+YlS/FBUi5AgJZZljujyPexLXb0JMqQPn9gwjTwbpqdSbKvL6g2t0Lu4a7ir5DIX+3tkXe3QftlLS9l7S61UYLT0b7+T5n6piV3afmTA9Pj0oxVdgIcDn6NHj+K1117DO++843bTmDvL8pYsWYITJ07gb3/7m8P999xzD+bOnYtx48Zh3rx5+Prrr3Hu3Dl8+eWXTl9nxYoV0Ov18q2oqMitcyYi19U2GVFgK/VcNViHuVc5lqSvzbAGPvY//EVRRIvJjFe+sS5k+OWMoYgP7/oDKynS+niLydKrVS+93ZzUXnCQEvHh1tKKp8tdeR48T38hT292lvHpp4EP0LZRamfjHKR/kzNGWOcAFXtwQrlX+XPgs2fPHlRUVCA1NRUqlQoqlQqFhYV45plnkJ6eDgBITEyE0WhETU2Nw3MrKiqQkJDQ7Xs88cQT+Oyzz/Ddd99h8ODBXR6blJSEtLQ0nD/vfMKlRqNBRESEw42IPKPVbHHIbkjLdNNjQhAZEoRh8eHyb64qhSCv0hqeEAaVQoC+2YRSfQs2fV+AktpmJEZo8Ysbh3T7vhqVEnG2IKM3K7uk366Heiig8NaSdk81YPuTth3anWR8+mmpC0CXGR+LRZSzkFLgU1LT3OmQxj7XagDydgBmJ3uk+XPgs2jRIpw4cQI5OTnyLTk5GcuXL8e2bdsAAJMnT4ZarUZ2drb8vLKyMpw8eRLTp0/v9LVFUcSSJUuwZcsW7NixAxkZGd2eT1VVFYqKipCUlNT7iyMitzzxt+O4bs23yLUFPCfsylySueOt/2+OG6RDSJD1t3SNSolhtuGEe89fwV++uwAAWH7rSATb5vx0p63c1fMgw9NLxFO9tEt7HpeydyDt0N6+x8diEeW+rX6Z8XFS5pWU1DbD0GqBWilgcnoUVAoBRrMFl+u9Mw3cbbteAd5fABz+q+P9phagwdbGEpnW9+flhNuruhoaGnDhwgX56/z8fOTk5CA6OhqpqamIiYlxOF6tViMxMREjR44EAOh0Ojz00EN45plnEBMTg+joaDz77LMYP368vMoLAGbPno0FCxZgyZIlAIDHH38cH330Ef71r38hPDxc7gfS6XQIDg5GQ0MDVq1ahbvuugtJSUkoKCjACy+8gNjYWCxYsMD97wwR9Zix1YJvz1TA2GrB7z47iX/+crq8TFdavQIAD1yfjop6A+6Y6Dj2YkxyBM6U1+OPX/yIBkMrxg2KwIKJg1x+/0FRwcgpqu1VKcBTwwslcsbHg6UuaxaAGZ/2OpvjU9VoRKtFhCBAzgr2J6MSwyEIQEW9AZUNBoeBh9JMqbSYUGhUSiRHBuNSdROKqpvlzU596pw1uYGCvcC0X7bdL8/wCesXM3yAHmR8jhw5gokTJ2LixIkAgGXLlmHixIn47W9/6/JrrFu3DnfccQcWLlyI66+/HiEhIfj888+hVLb9NpeXl4fKykr56zfffBN6vR4zZ85EUlKSfNu8eTMAQKlUIjc3Fz/96U8xYsQILF68GCNGjMD+/fsRHh4Ym/MR9RdnyuvkAYTHLtVia06JvJTdPuMTrlXjD3eMw+Q0x9WZ0m++9QbrB9ev546Bwo0tI+TpzT1c0m6xiPJeSJ5aIu6NUldZXQtaTBaoFIJXtsIYqCI62aFdamyODdP0yy08QjUqZNiGXbafXi6XNG17rqVEW/+Ne2sauFuaa4DLJ61/L891fKz6ovXPfjLDB+hBxmfmzJlurZQoKCjocJ9Wq8Xrr7+O119/3eXndfeewcHBcjmNiHwrx1bWClIqYDRbsOqz09A3m6BSCBib3H0vnRT4AMAtYxIwbUhMF0d31NtSV6m+GS0ma1khJcozv02neaHUJX0YpsaE9MsPcl/pbI6PvJS9n83wsTc6KQIXKxtxurTOYTNTqfQ61FYGTo0Owfeo6h8ruy4dBGD7jK4tBJprgeBI69elx61/Jl7lgxNzjv+nEJHHSYHPf92QjtToELnJeWRiOLTq7vt0xibrEKRSQKUQsCJrlNvvL2VXpJ2s3SV9yKTFhELloYBCysiU6pudbsfRE/KHIQcXOojoZI5Pf17RJZFXdrXP+FQ6ZnykDXh9MsvH0u7fb+H3jl9fPtX295Kj1j8HTfLuObmBgQ8ReZwU+EzNiMav546W77cvc3VFF6LGh7+Yir8/el2PSk2T06OgVAjIr2zs0W/E7csKnhAXpkGwWglRBIq7+bDa9H0+1mWf6zbTzRVdzkk7tLdf1dVft6uwJ2U7O5a6HEuvUiBd3JfTmw31wDcvABsmWzcelRTahg8rg6x/SmUvUbQLfCb33Xl2g4EPkYcdu1Qjf/AHIn2zSf4hPWFwJG4Zk4CZI60p+xuGxbr8OlPSozEptWfNkBFaNSbZlsfvOnfF7efvv1gFwJqh8hRBEFzq82k0tOLFL07jtW/Py+fRGXkTVa7octDZ5Gb7DUr7Kynjk3elES0m6/6VjYZWlNnOXRqvIJVg+zTjowoGfvzc2rdz8p/W+wwNQFmO9e/j7rL+WX7C+mftJaCpElCogYRxHV7OVxj4EHlQi8mM//zrQdz39gE0GpzMswgA0vL1lOhgxIRpIAgC3vrZZPz9keuQNa7v9tGTZp3sdjPwqW40yjvA335Vx02We0Na0t5VFqqgqhFSouf9/YVdvp4nhyz6E6nHp8lohsncVpaR9+nqhzN8JPHhGkSHBsFsEXHucj2Atini0aFBiAyxZlWkjE95XQsMrZ1v8O1RShUw5SHr3w++Zc3oFB8GLK1AxGBg5E+sj0kNzqXHrH8mjAXU/ed7zsCHyIOqGo1oNpnRbDJ3Onbe3+UUWYeTXp3Slq3RqpW4NiPa7YnuvTFjRDwAYF9elVs9NZ/llMBkFjF+kM6jGR/Atc1K7fdp+vfpyyjTOy9lNBvN8g703JzUkZTxAYAGu6xPRV3/neEjEQShwzyfPCel15jQILl02tPViz0y6efWzE95LnDpQFuZK/16IHG89e8VPwJmU78scwEMfIg8Sm+3RcIJW+Yj0MjL1gfrfHoeY5MjEBMahAZDK45dqun+CTb/OGadO3LXJNfnBrkq3Zbx6WwTSgAosHvMbBHx0cFLTo+Tml0jQ9SIDg3y4FkOfGqlAsG2Jnr7cpfc3NyPMz5AxwZnKYtqn9kTBEFe0t6nK7tCooGrFlr/fvCttsAnbbp1QKEmAjAbgcrzQIkt48PAh8h/1TYb5b/n2gb2BRJRFOX+JmkLCl9RKATcONzaU+RquetMeR1OltRBrRQw/2rPBz7SUuQLVzpfbSb17YwbZP3w+9uhS05LGW2TpVnmcqZtvy7rLyMtJrO8urA/NzcDwOgka6bxx7I67Dxbgf/7Ph8AMH2oY49ciq9Wdk19xPrnj58DxYesf0+7HlAo2np5So+3LWVn4EPkvxwyPiWBl/Ep1begssFgm9fj24wPANxk6/NxtcH5n0et2Z6bR8V7JYsibcVRVN0kN662J2V8Hr5xCBIjtKhsMOKbk+UdjrtQIa3oYpnLmfYru6TGZq1aIS9376/GJFn/3zlZUocnPjoOiwjcPXkwfnq1Y8+Z1OdT1JcruwBrz076jYBotmZ3QuOAmGHWx6Ry18l/AKYm68Tm2OF9e37dYOBD5EH2m3JevNLYYYCav8u5VAsAGJXk2rweb5MGwJ0qrUNFN3samcwWfHq8FADwH5NTvHI+cWEaRGhVsIidl7ukHeyHxYfh/qnWTR3f3VfQ4bjvzlobsK92cURAoGm/sst+hk9f9pr1xJC4UASpFGg2mVFvaMW16dF4acH4Duc92BcruyRS1gewlrmkc5MCn7zvrH8mTwQUvv9ZYI+BD5EH1bYbkX/KyWaD/szZfly+FBeukUtGe85Vdnns7nNXUNlgQExokLz83tMEQWgrd1V0LHfpm0yobrSWS9NjQnHvtSlQKwUcu1SLk3YZxEtVTThRrIdCAG7rw5VyA0mEtEO77f/JgTDDR6JWKjAywVruSo0OwVuLJiNI1fHjWmqW/yq3DHe+8T3+8t2FbmdEecyILEBn+wUh7fq2+xOlZeu2pYn9aHChhIEPkQfVNjkGPrkB1uAsZXz6UxbiJlvW5x9Hi7H1eAm2Hi9xCCIkfztUBAD46dWDvLr9w7C4zgOffNv+YAkRGoRqVIgP1yJrnHUH+/f2F8jHfZlbBgC4bmiMw0aW1KZDxkc/MBqbJY/OGIobhsXi/x64ptOy67ShMZicFgVRtO6J9+dtZ3HXm/vc2laqx5Qq4M63gWv/HzDxZ233x40GBLsMTz/r7wF6sFcXEXVOKnWFBinRaDQHVJ+PxSIit6TjRqS+NmNEHN7YmYf9F6vkgYBqpYCvn7oRw+Ktv1WfKa/D9h8vQxAgl5e8ZVgXDc7STuvpMW0Ny4unp+GzH0rxr5xSvPCT0YgMCcKXudaS3Nzxnp0z5E/a79A+ELarsDf3qiTMvSqpy2MitGr885fTUVrbjO/OVuB3/zqFy3UGlOpb5P3qvCptuvVmT60F4kYCFaetXycz40Pk1/S2VV3XDbVuqhlIK7tKapvRbDIjSKnoVyuNpqRH46EbMnDj8FjcODwWqdEhMJlFrPnqjHzMG9/lAQCyxiXKgYm3SK+f5yzjU2ktU9gvW56UGoUxSREwtFrw9yNFKKhsxMmSOigVAm4dm+DVcx3IIoIdV3VJM3wGQqnLXcmRwfjPqWnyvxtp8KHPSH0+ofGAbrBvz8UJBj5EHiSVuqStGQqqmhwanv2ZNGQtLSbEYxt7eoJCIeA3t4/B+w9NxfsPTcWm/5oClULAt2cqsO9CJQoqG/HFCWsG5bGZw7x+PlLgc7GyEWaLY0lCani2z/gIgoDF09MAAO8fKMTnP1jPdfrQGMSwzNWpiHY7tA+UGT69MdzWF3Te14FP8kTrnynXtjU99yP956cTkR+QAp/02FB5uNipACl3DZSdwofGheFn06yBxB+//BF/+e4CLCIwa2Qcxg3y/hL8wVEhCFIpYGy1dGhElZayp7fLmM2fMAi6YDWKqpvx1i5rdmru+K7LIIFOnuPT3Ir6FhPOlVuDgeS+KAH5yAhb6fbc5c7nRPWJyQ8AN/8ayPyjb8+jEwx8iDxIyu7ogtUYb/sQDZQ+HynjMzS+/5S5OvPk7OEI16pwuqwOn9hm9yy52fvZHgBQKgS5FGjf4CyKohz4tC8VBgcpsfAaa8mg0Wi2lbm4mqsrcsbHYML7BwpRb2jFsPgwXNUHwa2vjEiw/tLh84yPOhi4aTkQneHb8+gEAx8iD5ICn8iQIIwfFAkgcFZ2te0n1L8zPoB1s8cn7AKdaUOiMTktus/ef5iTJe2VDUbUG1ohCG2D6ez9bFqaXDW4flgsorhNRZekjM+VegP+b6918vFjM4dCoeh/pRdPkUtdFQ2wWPpgZdcAxcCHyENMZgsabDuyRwarcdVgKeNT68Oz6jtyqcvLzcGesnh6urx31pM39+1kWWeBT4FtKfugyGCnwx/TYkJxy2hrM7M39hHzN9KqrnOXG1DZYMTgqGDMm+Dfq+DSY0IQpFSgyW4DW+qIy9mJPKTOrok5IliNcbYtG4qqm1HdaPTrjSTrWkyoqLeumrFfkdSfaVRK/P2R61BS24yJqVHdP8GDnC1pz7cFjhldrIh7deEEnCqtw9SMvstODVTSqi7JIzOGenU+U3+gUiowJC4UZ8rrcb6i3mnmkJjxIfIYaWpzuFYFpUKALkQt19y/sg2c81dSticuXCP3VgwE8RHaPg96AMeMjzRsThpe2FXgE65VY9qQmH6/5UJ/EG737zAuXIO7J/e/ZdXeIJW7fN7g3I8x8CHyEGlFV2RI2w/ce6dYh+G9t7+gb6ap+shFqbF5gGR7fC0jNhQKwTpc74otU1bgZCk79Zz9RqQP35jRL/aO6wsjbEG1z2f59GMMfIg8RCp1RQa3lbTumjwYwWolzl1uwMH8al+dmtfJK7r6+VL2/kKjUsr7LEl9PtIMn64yPuS6MI0KEwbrMDQuFPdPTfP16fSZtlk+nWd8ahqNqKhvQUV9C/RN3c8ZO1Fci2aj2WPn6Gvs8SHykFrb1GZdcFvGRxesxoJJg/DRwUt4b38Bpg2J8dXpeVVehW0ZNgMflw2LD0NBVRMuXGnAtCExcnMzAx/PEAQBWx+/Hq0W0e97e+xJ5fULtpVd7Vexvf7tebyafc7hvlXzxuCB650vPTe2WrD4/w7BZBbxz19Ox8jEcO+ceB8KnH8NRF4mlbp0IY49Lj+/zvrb5rZTl+WNEv3NxUqWutwlrX7bfLgIP/3L92gxWaBSCBgc5b8D9vqaIAgBFfQA1tV/QSoFmk1mFNc4ruxqNprx1z0XAVgHKkutYm/uyoPJbHH6ejvOVKCmyYTgIKXf/P8dWP8iiLxInuET7Bj4jEqMwLUZ0TBbRHx0sNAXp+ZVrWYLCmx7TLHU5Tppl/ZTpXXy5q53X5PSr7b7oIFHqRDk/w/b9/n8K6cEdS2tSI0OQd5LP8GZP9yG2LAgXK4zIPv0Zaev989j1gGfd04c5Df/Nv3jKoj6ATnjE9xxVZOU9fnoUBGMrc5/sxooRFHE0cJquTeguKYZRrMFGpWib3aE9hOZYxJx4/BYZI5JwCt3XYVDK2djzZ3jfX1a5Aekcte5irbARxRFvLff+ovXomlpUCgEaFRK3Hdt2wKM9qoaDPjuTAUAa7+iv2CPD5GHtE1t7hj43Do2EfHhGlTUG/D1yTL89OqBOYDuVKkev/vXKRwprMGoxHB88cQNcpkrIzbUr6fiepouRI33H5rq69MgPzTCSYPz0cIanC6rg0alwN3XtAUx909NxRs783DgYjXOltc79PD8K6cUrRYRVw3Wya/pD5jxoYAhiiI++6FUXj3jabVN1uZm+1VdErVSgfunWn+zen//wCt3mcwW/PZfJzHv9b04UlgDADhTXo/3DxTKjc0DZWIzkb8b7mRJu5TtuePqQYgMafsZlaQLRuYY60Tw9w8UOLzOP2z72P2HH2V7AAY+FEAO5Vfjyb8dx9LNOV55fSnjE+Gk1AUA91+bCpVCwJHCGpwq7Z/7d12oaMB7+wtgbrfPz9+PFOG9/YWwiMDtVyVh2S0jAABrs8/hUIF1mf5QrkYi6hek7MyFigbkXWlARX0Lvj5pHaK66LqOS/t/fl06AGDLsRLUtVh/jp0urcPpsjqolQLmXeVfW30w8KGAcdb228/pUr1X+mxquyh1AdYpwbeNs+6o3V+zPr///BR++69TyD5d7nD/iSJroPbwjRnYcP8kPD5rGMYNikB9S6vcFMmMD1H/kBIdgtAgJQytFsx+dRfmvLoLJrOIyWlRGOdkd/ppQ6IxIiEMTUYz1v77HC7XtchNzXNGJ/jdhrgMfChgSCuPTGYR5ys8P9VU72Ryc3vSb1Zbc0pcGhzW1y5VW79Hp0rrHO6X9pSSfmgqFQJ+P3+swzFc0UXUPygVAl67dyJuHB4LtVJAXYt18+SfO8n2ANZl/4unpwMA3tlXgKmrv8W7+woAAHdN8q8yF8DmZgogl6rbent+LKvH2OSOv/n0lCiKcqnL2aouyZT0KIxKDMeZ8np8crQIv7hxiMfOobdEUcTlOuucIfveAFEU5enCw+yyOpPTonHnxEHYcrwEAAfvEfUnc8YkYM6YBDQYWrH3/BU0Gc2Y38Xu9PdNSYXBZMHnJ0qRU1SLVouIhAgNZoyM68Oz7hsMfChgFFQ1yX8/XVoHTPbcazcazWi19cU4a26WCIKAn1+Xjhc+zcX7Bwrx4PUZ/WYlVF1LK1pM1hKg/WqQygYj9M0mCELHrM6vskbhYH41hsSFIlTDHydE/U2YRoXbxiV1e5xCIeDBGzLw4A0ZqGww4MDFKoxKjPDLAZD+d0VETpgtIi7ZBz5lnm0ullZ0BakU0Kq7/t/qjonJCNeqUFjVhF3nr3j0PHqjoq5tqnRBVSNaTNa9eaRsz+Co4A4bPcZHaLFr+UwuyybyI7FhGtx+VbJDhtefMPChgFBe1wKj3Uj206V1Ht0t3X5qsyB0ncEJCVLJKec95yo9dg69dbnOIP/dIgIXr1hLg1J/z7BOenj8ZZorEQUG/sSigFBom90zKDIYKoW12a/Ug/tm6buY2uzMeFuTsDtN1ks/Po57396P1k721Omty3WO3w/p3PKc9PcQEQ1Ubgc+u3fvxrx585CcnGzd/Xbr1k6PfeSRRyAIAtavX+9wv8FgwBNPPIHY2FiEhoZi/vz5KC4u7va933jjDWRkZECr1WLy5MnYs2ePw+OiKGLVqlVITk5GcHAwZs6ciVOnTrl7ieSHCm2rlUYkhMkf4KfbrVzqje6Wsrc33DZno/1eOp2pbzFha04pDlyslnfx9rTL9Y6Bj3RuzhqbiYgGKrcDn8bGRkyYMAEbNmzo8ritW7fi4MGDSE7u2EW+dOlSfPrpp/j444+xd+9eNDQ04Pbbb4fZbO709TZv3oylS5di5cqVOH78OG688UZkZWXh0qVL8jGvvPIK1q5diw0bNuDw4cNITEzELbfcgvp6zy9dpoFFChbSYkIxJjkCgIcDHznj49q8i+G2vXQu1xnkMllXpLITAJTWemeH9wpbqStca21SPmdrcGbgQ0T+xO3AJysrC3/84x9x5513dnpMSUkJlixZgg8//BBqteNvwHq9Hhs3bsSrr76KOXPmYOLEifjggw+Qm5uL7du3d/qaa9euxUMPPYRf/OIXGD16NNavX4+UlBS8+eabAKzZnvXr12PlypW48847MW7cOLz77rtoamrCRx995O5lkp8ptM3wSYsJwZgka+DzY5nnAh9XlrLbi9CqkaTTAgDOu5D1kfbDAoByD5bo7Emve92QGPm86ltMKLeVwIbF+c9ePUQUuDze42OxWLBo0SIsX74cY8eO7fD40aNHYTKZkJmZKd+XnJyMcePGYd++fU5f02g04ujRow7PAYDMzEz5Ofn5+SgvL3c4RqPRYMaMGZ2+rsFgQF1dncON/JOU8UmPCZUDn9MeDHxqm237dLlY6gLsy10N3RwJeT8sACjVN7t5dq6RSl03jrDO7SisbpKzYrFhGujcuDYiov7K44HPn/70J6hUKjz55JNOHy8vL0dQUBCioqIc7k9ISEB5ebnT51RWVsJsNiMhIaHT50h/dnVMe2vWrIFOp5NvKSkp3V8g9XuGVjOOX6qRV22JoojCqraMz2hb4HOpuknel6a35KnNLmZ8AGCEk40EO2Of8SnzcqlrbHIEIkPUEEVg2ynrdhTD4jmckIj8g0cDn6NHj+K1117DO++80+2S3vZEUez2Oe0fd/YcV46RrFixAnq9Xr4VFRW5dc7UP/3vnnwseGMfNu7NBwBcqTeg2WSGQgAGR4UgKjQIybYy05kyz/R/yaUuN7Ii0kaCrqzssu/xKavzfOBjsYiosGV8EiO0GBFvPbdvbBsbsr+HiPyFRwOfPXv2oKKiAqmpqVCpVFCpVCgsLMQzzzyD9PR0AEBiYiKMRiNqamocnltRUdEhWyOJjY2FUqnskLmxf05ionXzx66OaU+j0SAiIsLhRgNfTlEtAOCTI9aVgtKKrkFRwQhSWf/JSw3OnurzqXVzOTvQ1uDcXanLYhGRX2kX+NR6vtRV02SEyWzNkMWFa+Rzk5b8dzbDh4hooPFo4LNo0SKcOHECOTk58i05ORnLly/Htm3bAACTJ0+GWq1Gdna2/LyysjKcPHkS06dPd/q6QUFBmDx5ssNzACA7O1t+TkZGBhITEx2OMRqN2LVrV6evS/6p1BYYnL1cj/OX61FQ2dbfI5H7fDy0sqttObvruxhLPT5X6g3y5GdnSmqbYbDbTb7MC83N0vDC2LAgqJUKORslGRbPxmYi8g9ub67T0NCACxcuyF/n5+cjJycH0dHRSE1NRUxMjMPxarUaiYmJGDlyJABAp9PhoYcewjPPPIOYmBhER0fj2Wefxfjx4zFnzhz5ebNnz8aCBQuwZMkSAMCyZcuwaNEiXHPNNbjuuuvw9ttv49KlS3j00UcBWEtcS5cuxerVqzF8+HAMHz4cq1evRkhICO6//373vzM0YJXYZUS+zC1Dqy2TkRYTIt8/2sMNznVuruoCrHvoDIoMRkltM85dbsC1GdFOj7toN3yxpLYZDYZW1LeYEK71XLOx1NgcH24tAUoZHwlLXUTkL9wOfI4cOYJZs2bJXy9btgwAsHjxYrzzzjsuvca6deugUqmwcOFCNDc3Y/bs2XjnnXegVLbtA5SXl4fKyrZx/vfccw+qqqrw4osvoqysDOPGjcNXX32FtLQ0+ZjnnnsOzc3NeOyxx1BTU4OpU6fi3//+N8LD+dtqoGg0tMplJwD4KrdMzl6kRbdlfKTA5+zlerSaLb3edkHK2LjT3AxYAwxr4FPfeeBj2zJi3KAI1LeYUNfSijJ9i0cDH2mfroQIDQBgpF3GJ0yjku8nIhro3A58Zs6c6dYeRwUFBR3u02q1eP311/H666+79bzHHnsMjz32WKfPEQQBq1atwqpVq1w+P/IvUrYnJEiJVrOIc5cbcKXeWsaxz/ikRodAq1agxWTBpeomDOlFD4vJbEGj0Tp8053l7IC1wXnn2StdzvKRGpuHxIWhsKoJdeX1KK1t7lCO6g2p1JUQYc34xIRpEBMahKpGI4bGh7m9WIGIqL/iXl3kV6TAJzU6BDeNiAUA1NgyQOmxbRkfhUKQyzeuzNHpirSiSxDgdhZmuAvnIC1lHxIbKg899PQQQ2mfrnhb4AO0lbvY2ExE/oSBD/mVkhpr4DM4Khhzr0pyeCw1OsTha2nJtiuTk7silbnCNSooFe5lRlxZ0m6f8UnUBQOARzdYBewzPm0lrclp1llbE1MjPfpeRES+5Hapi6g/kzI+gyKDMXt0AoKUChjNFiTptNCqlQ7HypOTK3qX8flXTikAIDUmpJsjO5KyTpUNRlQ3GhEd6rgqrNHQKq/iGhoXKs8f8vSSdmmGT0J4W8bniZuHY+bIeExMifToexER+RIzPuRXpKXsyZHBiNCqcZNt+4U0J0HJCFsppzcZnzJ9M/665yIAYMmsYW4/P1SjwuAoaxbH2QRnaX5PdGgQIkOCkBRpPbbcw0MML8vNzW2Bj1atxJT06F43fhMR9Sf8iUZ+RSp1DbIFE4unp0GpEDBzZHyHY6Uy08UrjWg1Wzo87oo/bzuLFpMF16ZH49axiT16Dbnc5STwybvS1t8DQO7xKfVgxsdsEeUGcK7eIiJ/x8CH/Ip9qQsAbhweh1O/vxWP3DSkw7GDIoMRrFbCaLagwLaXlztyi/XYcqwEALBy7uger3ySmoh/LO8Y+LT19zgGPmX6FrdWV3alssEAiwgoBOtqLiIif8bAh/yGyWyRSzZS4ANYSzbOghKFQpCDDnfLXaIo4o9fngYA3HF1Mib0og/m2nTr/J6vc8vQYjI7PCYNL5SW2yfZmpubjGbUtbT2+D3tSd+zuHCN283ZREQDDQMf8hvl+hZYRCBIqUCsi5mL4baVXe4uad+fV4WD+dXQqBRYftsot8/V3syR8RgUGYyaJhM+/6HU4TFpeOFQW+ATHKSUZwWV6T1T7mo/w4eIyJ8x8CG/USI3NmuhcDFzITU4n3Nhh3R7xy5ZN9m9bVyiQ3apJ5QKAf85LRUA8N7+QrmEJYptm5NKpS6gLetTVuuZBmd5hk84Ax8i8n8MfMhvSI3NyW4EIl01FndFyhCNSoxw63mdueeaFAQpFcgt0cu7y+86dwVNRjNUCsFhBlGyXZ+PJ7TfroKIyJ8x8CG/UdqusdkVUo9PfmUjTG6s7JKWno9I8MxU45gwDW6fYB24+P7+QlyoaMATfzsOALj7mhSo7ZaUJ8qBD0tdRETuYuBDfkNe0RXleuAzKDIYoUFKmMwiCmxlpe60mi3yaitP7pf18+vSAQBfnCjDf71zCPUtrZiSHoVV88c4HCdltEo9VeqqZ8aHiAIHAx/yG+2XsrtCEAQMS3CvwbmwuglGswXBamWv+3vsXZ0SiQmDdTCaLSiqbkZKdDDe+tlkaFSOE6fl/brqPJvxiWfGh4gCAAMf8hvy8EI3g5ER8kahrvX5SP1AwxPCXG6idpWU9QnXqLBx8RSnc3XkUpcHMj6iKKKkxjrDKJGBDxEFAO7VRX5BFMUelboA1zYKtSdlhqSl8J60YOIgNJnMmJgS2WkZLVneqLQZoij2eHAiYM321LW0QqkQkGG3ez0Rkb9i4EN+oarRCEOrBYLQlhFxldTg7Gqpy9ONzfYUCgGLpqV1eYx0fS0mC/TNJkSGBHV5fFfOlNcBADJiQzts4kpE5I9Y6iK/IJW54sI0HXpiuiNlVgoqG2Fs7X5l13lbgOTJxmZ3aNVKeRf33jY4n7FtkzEy0TfXQkTU1xj4kF/oaZkLsDYLB6uVaLW0lcs6YzJbcLHSVuryQsbHVcmR1qxPd+fbnbO2wGeUj4I4IqK+xsCH/EJPZvhIBEFAvG0pd2WDoctjC6saYTKLCA3y7Ioud6VEWQcaFlW7v7mqPWZ8iCjQMPAhv1DcwxVdkjjb6qkr9V0HPlIf0LCE8F41FfdWim2Sc1FNzwMfk9mCvArr9YxO8swEaiKi/o6BD/kFOfDpQakLsO5MDrgS+Ngam+N9V+YCgBTbdRZV97zUlV/ZCKPZ4vPsFRFRX2LgQwOeodWMgxerAPQ8cyEFPt2Vunzd2CwZbMv4FPci4yOVuUYkhnt8HhERUX/FwIcGvD3nKlFvaEV8uAaTU6N69Bqul7rahhf6kn2Pj7Sbu7vO2payj2J/DxEFEAY+NOB9mVsGAPjJ+KQeZy5cKXUZWy3Ir/T8Hl09MdhW6mo0mlHTZOrRa8grujy0wzwR0UDAwIcGtBaTGdtPXwYA3H5VUo9fRw58uih1FVQ1otUiIlyjkvfL8hWtWol42zn3dGUXV3QRUSBi4EMD2p7z1jJXYoQWk3pY5gJcy/hIZa5hCWE+XdEl6c3KrvoWk9wQzlIXEQUSBj40oH15ohRA78pcgGNzs8XivGfmnNQM7IU9unqiNyu7pCAuIULTqy0viIgGGgY+NGC1mMzItpW55vaizAUAMaHWwMdkFqFvdt4zc6rU2gw8OqmfBD69yPicYX8PEQUoBj40YO06dwWNRjOSdVpMTIns1WsFqRSIDFED6LzPRwp8xg7S9eq9PKU305vbGpv7RxBHRNRXGPjQgPXlid6v5rLX1ZL2ygYDyutaIAj9Z8rx4Gip1NWDjE8ZG5uJKDAx8KEBa++FSgDAbeMSPfJ6XQ0xlLI9GTGhCNOoPPJ+vZVqK3WV1DbD3ElfkjOiKOKMbYYPAx8iCjQMfGhAqmk0orrRCAAYk+yZDExXK7tOleo9+l6ekKQLhkohwGQWcbmuxeXn6ZtNqGtpBQAMjfPtIEYior7GwIcGpIuV1q0jknRahAR5JgPTVanrVIk1QzKun/T3AIBSISA50v1yV61t4GFokBJatdIr50ZE1F8x8KEBKe+KdYLykLhQj72mKxmfsf0o4wMAKVKfT43rS9prbavWdMFqr5wTEVF/xsCHBqSLUuAT67lSTWfTm+tbTCiosmZUxib3n4wP0LOVXdJyfR3n9xBRAGLgQwPSxSvWUtfQPsj4nLY1NifrtIgO7V/BQk9m+ciBT3D/aNImIupLbgc+u3fvxrx585CcnAxBELB161aHx1etWoVRo0YhNDQUUVFRmDNnDg4ePOhwTF5eHhYsWIC4uDhERERg4cKFuHz5cpfvm56eDkEQOtwef/xx+ZgHHnigw+PTpk1z9xJpALhYKZW6vJDxaRf4SCu6xvSzbA/QtllpsRvTm/UsdRFRAHM78GlsbMSECROwYcMGp4+PGDECGzZsQG5uLvbu3Yv09HRkZmbiypUr8vMzMzMhCAJ27NiB77//HkajEfPmzYPFYun0fQ8fPoyysjL5lp2dDQC4++67HY677bbbHI776quv3L1E6udazRYUVnmhx8fW3FzdZITJ3PZvUR5c2M/6e4CeZXzqGPgQUQBzO9edlZWFrKysTh+///77Hb5eu3YtNm7ciBMnTmD27Nn4/vvvUVBQgOPHjyMiwvpBsmnTJkRHR2PHjh2YM2eO09eNi4tz+Prll1/G0KFDMWPGDIf7NRoNEhM9M9eF+qeimmaYzCK0agWSdcEee92okCAoFQLMFhHVjUYkRFh3YJcam/vTii6J1ONTXtcCQ6sZGlX3q7Rqm6xjABj4EFEg8mqPj9FoxNtvvw2dTocJEyYAAAwGAwRBgEajkY/TarVQKBTYu3evy6/7wQcf4MEHH+ywS/bOnTsRHx+PESNG4OGHH0ZFRUWnr2MwGFBXV+dwo/5P6u9Jjwn1yMRmiUIhIMbWwyOVu1pMZpyvsL5ff8z4xIYFIVithCgCpbWuzfKRSl3cnJSIApFXAp8vvvgCYWFh0Gq1WLduHbKzsxEbGwsAmDZtGkJDQ/H888+jqakJjY2NWL58OSwWC8rKylx6/a1bt6K2thYPPPCAw/1ZWVn48MMPsWPHDrz66qs4fPgwbr75ZhgMzvdeWrNmDXQ6nXxLSUnp1XVT35BWdHlj+F77lV3nLtfDbBERFaJGkk7r8ffrLUEQ5D6fSy6u7JICnwhmfIgoAHkl8Jk1axZycnKwb98+3HbbbVi4cKGceYmLi8Mnn3yCzz//HGFhYdDpdNDr9Zg0aRKUSteGqW3cuBFZWVlITk52uP+ee+7B3LlzMW7cOMybNw9ff/01zp07hy+//NLp66xYsQJ6vV6+FRUV9e7CqU9Iwws92d8jad/gfNJucGH77GJ/Iff5uBn4sNRFRIHIK+tZQ0NDMWzYMAwbNgzTpk3D8OHDsXHjRqxYsQIAkJmZiby8PFRWVkKlUiEyMhKJiYnIyMjo9rULCwuxfft2bNmypdtjk5KSkJaWhvPnzzt9XKPROJTcaGDwxvBCSfvpzbkl/W+rivZS3WxwliY3M/AhokDUJ4M8RFF0Wm6Syl87duxARUUF5s+f3+1rbdq0CfHx8Zg7d263x1ZVVaGoqAhJSUnunzT1W94YXiixz/gYWs3YdqocADA1I9rj7+Up7i5p56ouIgpkbpe6GhoakJOTg5ycHABAfn4+cnJycOnSJTQ2NuKFF17AgQMHUFhYiGPHjuEXv/gFiouLHZadb9q0CQcOHEBeXh4++OAD3H333Xj66acxcuRI+ZjZs2d3WDJvsViwadMmLF68GCqVY8zW0NCAZ599Fvv370dBQQF27tyJefPmITY2FgsWLHD3MqmfqGowYF32OWSfts55qmsxybune7XU1WDA9tMVttVdGtw0PK6bZ/qOu0va5eZmBj5EFIDczvgcOXIEs2bNkr9etmwZAGDx4sV46623cObMGbz77ruorKxETEwMpkyZgj179mDs2LHyc86ePYsVK1aguroa6enpWLlyJZ5++mmH95FKYfa2b9+OS5cu4cEHH+xwXkqlErm5uXjvvfdQW1uLpKQkzJo1C5s3b0Z4eLi7l0k+1mq24KNDl/D/bTuLupZWBCkV+PaZGaiy7cgeH65BuNbzH9z2GZ+PD18CANw9OQUqZf8dcu7OthUmswWNRjMAZnyIKDC5HfjMnDkToih2+rgrvTcvv/wyXn755S6PKSgo6HBfZmZmp+8dHByMbdu2dfve1H+JoogLFQ349kwFPj1WgrOX6wEAQUoFjGYLXv7mDGaPigfgnWwP0Nbjc7a8Xs6MLLymf6/2kzYqrWkyocHQijBN5/9bS2UugKu6iCgwcbMe8jmLRcQ/jhXjL99dQGFVW9ZCF6zGs7eOxMSUSMzbsBdfniiD3taY68mtKuxJGR8p6LlhWCxSY0K88l6eEq5VIzJEjdomE4qqmzA6qfNGbGln9nCNCkoPzkAiIhooGPgEmMt1LXj0g6NYeE0K7rs21dengxPFtfjtv04hp6gWgDW7c93QGNw8Kh7zJiTLm4LePXkw/n6kGHsvWMufQ2K9lPEJd1zld++1/TvbI0mJCkFtk77bwIczfIgo0DHwCTDfX6jE8Uu1uKxvwb1TUnw6m+bvR4rw/D9PQBSB0CAlnpozHP85NQ2hTko1z2SOxBcnytBk60/xxvBCAAjTqKBVK9BisiAqRI1bxiR45X08LSU6GLklehTVdL2yq21qMwMfIgpM/bdjk7xC6vEo1bcgz7b1g6/s+LECogjMGBGHHc/OxP+7aajToAcAEiK0eOSmofLX3urxEQRBzvrcNWmwS3tf9QeuNjhzKTsRBToGPgGmrqVV/vvOs1d8eCZAo9F6Lj+9OlneELQrD9+UgTFJEZgwWIfBUd7ru7lldCLiwjX4+XXpXnsPTxtsW9Je3M2Sdk5tJqJAx1JXgLFf1bPr3BX84sYhPjuXRoM18Oksy9NeSJAKXzxxg0c3JnXmt/PG4De3j+63W1Q4k+Lifl2c2kxEgY4ZnwBT19IW+BzKr0aLySx/XdlgkIcD9oVGg/W9Q4Ncj7+9HfRIBlLQA9htW1Hd3OW4CWZ8iCjQMfAJMHXNbaUuQ6sFBy5WAbAGPbeu243b1u9Bs9Hc2dM9Sip1hWoGRh9NfzYoKhiCADSbzPKQR2fkwIfNzUQUoBj4BBgp4xOhtWZZdp2z9vms334OVY1GVDYYcLyopk/Oxd1SF3VOo1IiIdzaJ9VVgzMzPkQU6Bj4BBgp8MkaZ924dfe5Kzh/uR4fHbwkH3M4v48CH1tmiYGPZ0gTnLta0s7Ah4gCHQOfAFNvW9V127hEKBUC8q404plPfoBFhLzVweGCaq+fh8lsgbHVAsA6w4d6z5Ul7Xo2NxNRgGPgE2CkVV2Do4IxMSUSAHCiWA+VQsD/d/dVAICjhTUwmS1ePY8mQ1sfUYgbzc3UOVeWtDPjQ0SBjoFPABFFUZ7jExGsxowRcfJji65LQ+aYROiC1Wg2mXGqtM6r59Jga2wOUioQpOI/Q0+QlrQXVXdf6ooMDuqTcyIi6m/4iRNAmoxmmC3Wpc4RWjVuHm3d6VwXrMaTNw+HQiFgSnoUAOBQfpV3z8XW2BzCFV0ekyItae8k42NstaDZNr6AGR8iClQMfAKI1NisVgrQqhUYm6zDO/81BZ88eh2ibJuBXpsRDQA45OUG5wZpRRfLXB4jBT6ltc1ygGtPyvYIAhCu5fediAITf/oFEGmGT4RWLQ/omzky3uGYKenWwOdwQTUsFtFrAwOb5BVdzPh4SmKEFmqlAJNZRHldCwZFBjs8rm+2zvcJ16j6bBAkEVF/w4xPAJFn+HRR5hg3SIdgtRL6ZhPOV3hvE1PO8PE8pUJAcqTU59Ox3MXhhUREDHwCirSiK6KLModaqcCktEgAwCEvLmuXpzaz1OVR0pJ2Z3t2sbGZiIiBT0BxJeMDANemxwCw7uXlLfI+XSx1eZTc4NxVxoeNzUQUwBj4BBD7Hp+uTMmwruw6nF/d5YaXvdHI5mavGJMUDgDYe6Gyw2PcmZ2IiIFPQJFLXcFdBxsTU6KgVgoor2tBcRfbH/QGt6vwjlvHJkIQgOOXajsMMtQ3u5bxIyLyZwx8AkjbBqVdf/AFBymRHhMKACis6nwKcG80co6PV8RHaHGtbWXe17nlDo+x1EVExMAnoEilLldmuCREWHf6rqhv8cq5NNmam8NY6vK426+ybkD7RW6Zw/0MfIiIGPgEFFebmwEgPlwDALhcZ/DKuTTYmptDWOryuFvHJUIhAD8U1To0OUulzkguZyeiAMbAJ4BIO7N3V+oCgLgIa+DjtYyP3NzMUpenxYdrMTXDujLv65NtWR82NxMRMfAJKG0Zn+6zLPHhUqnLWxkfDjD0prm2cteXJ9oCH5a6iIgY+ASUtgGG3X/wJUgZnzpv9fhwjo833SaVu4r1crmLgQ8REQOfgFInlbpc6vHxbsaHc3y8KzZMg+uGWstdn/1QCoCBDxERwE1KA4Yoim5lfKTm5oo6A0RRlDc19RR5ywqWurxm3lXJ+P5CFdZvP4f4cA0MrRYA3KuLiAIbMz4BotlkRqvFOoXZpR4fW6mr2WSW+3E8qcnAAYbedtfkwZg7Pgkms4jl/zgBAFAIHCFARIGNgU+AkGb4qBQCgtXd99WEBKkQbgtKPL2kXRRFu01K2ePjLWqlAq/fNxEPTE+X74sIVkOh8Gz2johoIGHgEyDsZ/i4Wrby1pL2FpMFtuQTMz5eplAI+N28MViRNQoAMCwuzMdnRETkW/zUCRBt/T2u/yePD9fg4pVGXPFwg7N96cyV7BP1jiAIeGTGUMwZk4DYUI2vT4eIyKcY+AQIKeMT7kJjs0TatuKyh5e0N9mVuVh26TtDme0hImKpK1BIPT6uNDZL7Fd2eVKDvEEp424iIupbDHwChKs7s9vz1iwfaXhhGAMfIiLqY24HPrt378a8efOQnJwMQRCwdetWh8dXrVqFUaNGITQ0FFFRUZgzZw4OHjzocExeXh4WLFiAuLg4REREYOHChbh8+XKX77tq1SoIguBwS0xMdDhGFEWsWrUKycnJCA4OxsyZM3Hq1Cl3L9EvuTPDRxLvpeZmOePDFV1ERNTH3A58GhsbMWHCBGzYsMHp4yNGjMCGDRuQm5uLvXv3Ij09HZmZmbhy5Yr8/MzMTAiCgB07duD777+H0WjEvHnzYLFYunzvsWPHoqysTL7l5uY6PP7KK69g7dq12LBhAw4fPozExETccsstqK+vd/cy/U7b1GZ3Sl22jI+HS13yDB/OkyEioj7m9idPVlYWsrKyOn38/vvvd/h67dq12LhxI06cOIHZs2fj+++/R0FBAY4fP46IiAgAwKZNmxAdHY0dO3Zgzpw5nZ+sStUhyyMRRRHr16/HypUrceeddwIA3n33XSQkJOCjjz7CI4884u6l+pX6npS65IyPZwMfebsK7tNFRER9zKs9PkajEW+//TZ0Oh0mTJgAADAYDBAEARpN27JarVYLhUKBvXv3dvl658+fR3JyMjIyMnDvvffi4sWL8mP5+fkoLy9HZmamfJ9Go8GMGTOwb98+p69nMBhQV1fncPNXbc3N7vT4WP8bNRha5WDFE6ThhWxuJiKivuaVwOeLL75AWFgYtFot1q1bh+zsbMTGxgIApk2bhtDQUDz//PNoampCY2Mjli9fDovFgrKysk5fc+rUqXjvvfewbds2/PWvf0V5eTmmT5+OqqoqAEB5eTkAICEhweF5CQkJ8mPtrVmzBjqdTr6lpKR44vL7pbYBhq4HG2EaldyH48msjxREcesEIiLqa14JfGbNmoWcnBzs27cPt912GxYuXIiKigoAQFxcHD755BN8/vnnCAsLg06ng16vx6RJk6BUdl76yMrKwl133YXx48djzpw5+PLLLwFYy1n22k8l7mqDzRUrVkCv18u3oqKi3lx2v9aT5mZBEOyWtHuuwbnRtqorhKUuIiLqY175lTs0NBTDhg3DsGHDMG3aNAwfPhwbN27EihUrAACZmZnIy8tDZWUlVCoVIiMjkZiYiIyMDLfeY/z48Th//jwAyL0/5eXlSEpKko+rqKjokAWSaDQah5KbP2trbnZvZ+74cC0Kqpo8mvFpkjI+LHUREVEf65M5PqIowmDo+MEZGxuLyMhI7NixAxUVFZg/f77Lr2kwGPDjjz/KQU5GRgYSExORnZ0tH2M0GrFr1y5Mnz699xcxwPUk4wO0NTh7cnpzg21VVwhLXURE1Mfc/uRpaGjAhQsX5K/z8/ORk5OD6OhoxMTE4KWXXsL8+fORlJSEqqoqvPHGGyguLsbdd98tP2fTpk0YPXo04uLisH//fjz11FN4+umnMXLkSPmY2bNnY8GCBViyZAkA4Nlnn8W8efOQmpqKiooK/PGPf0RdXR0WL14MwFqWWbp0KVavXo3hw4dj+PDhWL16NUJCQjqsNAs0oij2qMcHaFvS7sn9uqQtK8JY6iIioj7mduBz5MgRzJo1S/562bJlAIDFixfjrbfewpkzZ/Duu++isrISMTExmDJlCvbs2YOxY8fKzzl79ixWrFiB6upqpKenY+XKlXj66acd3kcqhUmKi4tx3333obKyEnFxcZg2bRoOHDiAtLQ0+ZjnnnsOzc3NeOyxx1BTU4OpU6fi3//+N8LDw929TL/SYrLAZLZuh+7OXl2Ad5a0tw0wZMaHiIj6liCKoujrk+gv6urq5GZracaQP7hc14Kpq7+FQgDyVv+k02ZvZ7YcK8ayv/+A64fF4MNfTPPI+dz15j4cLazBWz+bjNvGOZ/LRERE5Cp3Pr+5V1cAkPt7gtVuBT2A/Q7tnl/OzgGGRETU1xj4BICebFAq8c5ydinwYamLiIj6FgOfANA2tdn9QENqbq5raUWLyeyR82nkXl1EROQjDHwCQG8yPhHBKmhU1n8mntqstJG7sxMRkY8w8AkAPZ3hA9imN8sru1wvd+mbTPKydXutZgsMrRYAHGBIRER9j4FPAJCmNodrexZoSOWuchf7fCobDLj51Z248419aL9oUNquAuCWFURE1PcY+AQAafhgTFjPtucYEhsKADhXXu/S8R8fuoSqRiPOlNejVO8YLEllLrVSgEbFwIeIiPoWA58AIAU+0gotd40bpAMA5Jbouz221WzBBwcuyV+favccqfzF4YVEROQLDHwCgNSbI/XquEsKfE6W1nV7bPbpyw4lsVPtniOt6GJ/DxER+QIDnwAgDR+UhhG6a0xSBBSCNXPU3Wal7+0vBNCWXeoY+HBFFxER+Q4DHz8nimJbxqeHpa7gICWGxYcBAHKL20pXhlYz3t6dh6OF1QCAc5frsf9iFRQCsHLuaADAqVLHUpfU3MzhhURE5Av89PFz9YZWtJisy8el1Vk9MS5Zh3OXG3CyVI85YxIAAP+7Jx9/3nYWAHDnpEFotW2EmjkmETePigcAlOlbUN1oRHRoEABuV0FERL7FjI+fk7aaCNeqENyL8pLc52PXrPzv05flv285VoLPfigFAPz8ujSEa9VIjwkB4Jj1kberYHMzERH5AAMfPydNW+5pmUsyfrDjyq6Kuhb8UFQLAHh70WRcZXt8VGI4rhsaAwAYm2y9z77Ppy3jw8CHiIj6Hj99/FyFvJS952UuwNrgLAjWRumK+hZ8e6YCADAhJRKZYxMxZ3QCDuRXYVh8mLwD/JjkCHyZW9Yu8LH2+LC5mYiIfIEZHz8nrcJK6OFSdkmoRiUPMjxVUofttjJXpq3fR6EQMH1orEOANTY5wnq8fanLlvHhcnYiIvIFBj5+Ts749HApuz2pz+dQQTX2XqgEAMwZndDp8VKpK7+yUQ54pFVdHGBIRES+wMDHz1X0cmqzvfG2wOfDA4UwtFqQEh2MEQlhnR4fF65BfLgGogicKbeWu7iqi4iIfImBj5+TSl2ezPhIm57OGZ0g9/N09xypz0fasoLNzURE5AsMfPxcb/fpsjfG1rMjuaWLMpdE7vMpsQY+DVzVRUREPsTAx89Jc3w8EfhEaNXIsDU4R2hVmJIR3e1zpMDn6KUa/HnbGZywTX4O5aouIiLyAf7a7ccaDK1yM7EnSl2ANZDJr2zErFHxUCu7j5ulBucLFQ24UNEAABgaF4qJqVEeOR8iIiJ3MPDxY1K2JzRI6bHl4//vpiHQN5uwZNYwl44fHBWMjNhQ5Fc24pq0KPzixiG4ZUwClIque4OIiIi8gYGPH/PkUnbJVYMj8f5DU10+XhAE/P2R66BvNskbnRIREfkKAx8/JgU+cR7o7+mNuHCNz8+BiIgIYHOzX6uQpzZ7LuNDREQ0kDHw8WOeHF5IRETkDxj4+JG95yvx8tdnYGy1APDsUnYiIiJ/wB4fPyGKIp7/5wmU1DYjPSYE916bist11owPS11ERERWzPj4ibwrDSipbQYAfJlbBgCoqGfGh4iIyB4DHz+x61yl/Pd9eVWobjTaLWdn4ENERAQw8PEbu85dkf9utojYerwE9bbNRD05x4eIiGggY+DjB1pMZhy8WAUAuHPiIADAu/sLAABatQLh3BCUiIgIAAMfv3DgYhUMrRYk67R4as5wAEBhVRMAID5cC0Hg9hBEREQAAx+/sNvW33PTiDikxYRi/CCd/Bgbm4mIiNq4Hfjs3r0b8+bNQ3JyMgRBwNatWx0eX7VqFUaNGoXQ0FBERUVhzpw5OHjwoMMxeXl5WLBgAeLi4hAREYGFCxfi8uXLXb7vmjVrMGXKFISHhyM+Ph533HEHzp4963DMAw88AEEQHG7Tpk1z9xIHnF3nKgAAM0bEAQDmXpUkP8al7ERERG3cDnwaGxsxYcIEbNiwwenjI0aMwIYNG5Cbm4u9e/ciPT0dmZmZuHLlivz8zMxMCIKAHTt24Pvvv4fRaMS8efNgsVg6fd9du3bh8ccfx4EDB5CdnY3W1lZkZmaisbHR4bjbbrsNZWVl8u2rr75y9xIHlOKaJuRdaYRSIWD6sFgAwNzxbYEP98giIiJq43bXa1ZWFrKysjp9/P7773f4eu3atdi4cSNOnDiB2bNn4/vvv0dBQQGOHz+OiIgIAMCmTZsQHR2NHTt2YM6cOU5f95tvvnH4etOmTYiPj8fRo0dx0003yfdrNBokJia6e1kDllTmmpgSCV2wGgCQEh2CCSmR+KGolhkfIiIiO17t8TEajXj77beh0+kwYcIEAIDBYIAgCNBo2jIRWq0WCoUCe/fudfm19Xo9ACA6Otrh/p07dyI+Ph4jRozAww8/jIqKCg9cSf/Vvswl+e3to3Hb2ETcNWmQL06LiIioX/JK4PPFF18gLCwMWq0W69atQ3Z2NmJjrWWYadOmITQ0FM8//zyamprQ2NiI5cuXw2KxoKyszKXXF0URy5Ytww033IBx48bJ92dlZeHDDz/Ejh078Oqrr+Lw4cO4+eabYTAYnL6OwWBAXV2dw22gOZhfDQC4sV3gMzktGm8tmswZPkRERHa8EvjMmjULOTk52LdvH2677TYsXLhQzrzExcXhk08+weeff46wsDDodDro9XpMmjQJSqXSpddfsmQJTpw4gb/97W8O999zzz2YO3cuxo0bh3nz5uHrr7/GuXPn8OWXXzp9nTVr1kCn08m3lJSU3l24BzUZW7Fxbz6Kqps6PcZktqC2yQQASI8J6atTIyIiGrC8EviEhoZi2LBhmDZtGjZu3AiVSoWNGzfKj2dmZiIvLw8VFRWorKzE+++/j5KSEmRkZHT72k888QQ+++wzfPfddxg8eHCXxyYlJSEtLQ3nz593+viKFSug1+vlW1FRkXsX6kVf5ZbjD1+cxrrsc50eo2+2Bj2CAIRr1X11akRERANWn4z0FUXRablJKn/t2LEDFRUVmD9/fpev8cQTT+DTTz/Fzp07XQqSqqqqUFRUhKSkJKePazQah16j/qSqwfr9qm4ydnqMlO2J0KqhVHBIIRERUXfcDnwaGhpw4cIF+ev8/Hzk5OQgOjoaMTExeOmllzB//nwkJSWhqqoKb7zxBoqLi3H33XfLz9m0aRNGjx6NuLg47N+/H0899RSefvppjBw5Uj5m9uzZWLBgAZYsWQIAePzxx/HRRx/hX//6F8LDw1FeXg4A0Ol0CA4ORkNDA1atWoW77roLSUlJKCgowAsvvIDY2FgsWLCgx98gX2kymgFYt6PojL7ZGhRFhjDbQ0RE5Aq3A58jR45g1qxZ8tfLli0DACxevBhvvfUWzpw5g3fffReVlZWIiYnBlClTsGfPHowdO1Z+ztmzZ7FixQpUV1cjPT0dK1euxNNPP+3wPnl5eaisbNtx/M033wQAzJw50+G4TZs24YEHHoBSqURubi7ee+891NbWIikpCbNmzcLmzZsRHh7u7mX6XLMt4Gk2dT7bSMr4RAYz8CEiInKF24HPzJkzIYpip49v2bKl29d4+eWX8fLLL3d5TEFBgcPXXb0nAAQHB2Pbtm3dvvdA0WzL+Bi6yPhIgY8uJKhPzomIiGig415d/ZRU6mruKvCxNTfrmPEhIiJyCQOffqrZ1Aqgmx4fW+MzS11ERESuYeDTT8kZH2P3GR82NxMREbmGgU8/1Syv6uq+uZmlLiIiItcw8OmnpN4eo9kCs8V5Y3dbxofNzURERK5g4OMDdS0mFFQ2dnlMk12Jq7M+H/b4EBERuYeBjw/84p0jmL12F0pqmzs9ptmFwIc9PkRERO5h4OMD+VWNMFtEXKho6PQY+2XsnS1p1zPwISIicgsDHx9osWVzaho734erydjadryTBmeLRZQDH10we3yIiIhcwcDHB6QMTnUngY/FIjoEO85KXfUtrZCGWXNVFxERkWsY+PQxk9mCVtsqrc4Cn/alLWeBT61tg9LQICWCVPzPSERE5Ap+YvYx+6Cmusm1wMdZjw9n+BAREbmPgU8fa7FbrVXd0Eng025as7PpzfI+XZzhQ0RE5DIGPn3MlYxPU7tAp6W1Y3NzLWf4EBERuY2BTx9zCHw66fGxX9EFOGaJJFzKTkRE5D4GPn3MvmzV2XL2Ds3NrZ33+DDwISIich0Dnz5mH9TUNBlhcbIPl0s9Pk2c4UNEROQuBj59zH5pukVsK1nZ69Dj42SAobScnRkfIiIi1zHw6WPNRscgpspJuatDxsfJcvY6qceHzc1EREQuY+DTx9oHMTVOVna5NMCQPT5ERERuY+DTx9oHNc5WdnUsdXUxx4c9PkRERC5j4NPH2i9Ndxb4NLdfzs6MDxERkUcw8Olj7mR8wjUqp88RRRF6W3Mzt6wgIiJyHQOfPuZK4CMdExUaZPvasSG6yWiGyWxdBs+MDxERkesY+PQxacVWkNL6rXc2xFA6Rgp82pe6pP6eIKUCwWql186ViIjI3zDw6WNSEJMcqQXgfDm7VOqKtmVzOgQ+tpVguhA1BEHw2rkSERH5GwY+faxZDnyCAThfzt5kOyY6VAOgY+Cjb+IMHyIiop5g4NPHpDKWFPhUNXQMfKSVX9Gh1sCmfV9QLTcoJSIi6hEGPn3MtYyPdTl7W4+PY3Mz9+kiIiLqGQY+fUwqWw22BT5NRnOHUlZbj48t8DG2z/hwny4iIqKeYODTx6SMT1y4BmqltTG5/ZL2tlKXLfBpbdfjw326iIiIeoSBTx+TenyCg5SIsmV02gc+bc3N1sdNZhEmc1u5S8+pzURERD3CwKePSf06wWqlHNh0CHzazfGxPq8t6yP3+ISwx4eIiMgdDHz6mFTqCg5qC3zsG5zNFhHGVmtwFBUSBGlMj32Dcy23qyAiIuoRBj59TC51qZVyRsd+Sbv90vWQICW0KutkZmcZH/b4EBERuYeBTx8SRVEObLRqJWKcZHyabDuzCwKgUSmgVVv/E9kHPnrO8SEiIuoRtwOf3bt3Y968eUhOToYgCNi6davD46tWrcKoUaMQGhqKqKgozJkzBwcPHnQ4Ji8vDwsWLEBcXBwiIiKwcOFCXL58udv3fuONN5CRkQGtVovJkydjz549Do+LoohVq1YhOTkZwcHBmDlzJk6dOuXuJXqNobWtXGXf3Gy/bYV9RkgQBHkvrmanGR/2+BAREbnD7cCnsbEREyZMwIYNG5w+PmLECGzYsAG5ubnYu3cv0tPTkZmZiStXrsjPz8zMhCAI2LFjB77//nsYjUbMmzcPFovF6WsCwObNm7F06VKsXLkSx48fx4033oisrCxcunRJPuaVV17B2rVrsWHDBhw+fBiJiYm45ZZbUF9f7+5lekWz3TwerUqBmDBbxqfRPuNjPSYkyBrwaNVSqcti+9MsB0E6ZnyIiIjconL3CVlZWcjKyur08fvvv9/h67Vr12Ljxo04ceIEZs+eje+//x4FBQU4fvw4IiIiAACbNm1CdHQ0duzYgTlz5jh93bVr1+Khhx7CL37xCwDA+vXrsW3bNrz55ptYs2YNRFHE+vXrsXLlStx5550AgHfffRcJCQn46KOP8Mgjj7h7qR4nBSxBSgVUSoXc3OyQ8bFrfgbaAh/p/jpbmUshAOEat//zERERBTSv9vgYjUa8/fbb0Ol0mDBhAgDAYDBAEARoNBr5OK1WC4VCgb1793b6OkePHkVmZqbD/ZmZmdi3bx8AID8/H+Xl5Q7HaDQazJgxQz7G19r6e6zfdmkyc42TUleIWuVwrNTjUyPP8AmCQsGd2YmIiNzhlcDniy++QFhYGLRaLdatW4fs7GzExsYCAKZNm4bQ0FA8//zzaGpqQmNjI5YvXw6LxYKysjKnr1dZWQmz2YyEhASH+xMSElBeXg4A8p9dHdOewWBAXV2dw82b7IcXAkB0WMc5PlKpS2s7RjpWCnykY9nYTERE5D6vBD6zZs1CTk4O9u3bh9tuuw0LFy5ERUUFACAuLg6ffPIJPv/8c4SFhUGn00Gv12PSpElQKpVdvq4gOGY4RFHscJ8rx0jWrFkDnU4n31JSUty9VLdIwYvUsCxnfJqMsFhEAG2rukJsx8jNzbaAqNa2AiyawwuJiIjc5pXAJzQ0FMOGDcO0adOwceNGqFQqbNy4UX48MzMTeXl5qKioQGVlJd5//32UlJQgIyPD6evFxsZCqVR2yNxUVFTIGZ7ExEQA6PKY9lasWAG9Xi/fioqKenzNrrBfyg60TWa2iG1L1KXgSGpu1qjbZXxsgY/9VGciIiJyTZ/M8RFFEQaDocP9sbGxiIyMxI4dO1BRUYH58+c7fX5QUBAmT56M7Oxsh/uzs7Mxffp0AEBGRgYSExMdjjEajdi1a5d8THsajQYREREON29qX+pSKxUI11p7eaSApqndMW3L2a2ruqR+oCiWuoiIiNzm9rKghoYGXLhwQf46Pz8fOTk5iI6ORkxMDF566SXMnz8fSUlJqKqqwhtvvIHi4mLcfffd8nM2bdqE0aNHIy4uDvv378dTTz2Fp59+GiNHjpSPmT17NhYsWIAlS5YAAJYtW4ZFixbhmmuuwXXXXYe3334bly5dwqOPPgrAWuJaunQpVq9ejeHDh2P48OFYvXo1QkJCOqw085XmdqUuAIgJDUJ9SyuqG40YGmcX+KilVV3Om5uZ8SEiInKf24HPkSNHMGvWLPnrZcuWAQAWL16Mt956C2fOnMG7776LyspKxMTEYMqUKdizZw/Gjh0rP+fs2bNYsWIFqqurkZ6ejpUrV+Lpp592eJ+8vDxUVlbKX99zzz2oqqrCiy++iLKyMowbNw5fffUV0tLS5GOee+45NDc347HHHkNNTQ2mTp2Kf//73wgPD3f3Mr2ifY8PYA1gCqqa5Kbl5nZzfILblbraMj4MfIiIiNzlduAzc+ZMiKLY6eNbtmzp9jVefvllvPzyy10eU1BQ0OG+xx57DI899linzxEEAatWrcKqVau6PQdfaG63YgsA4sKsy/or6lqsx8hzfKTl7O0CHzY3ExER9Rj36upDUp+OfcZncFQIAKCophlA55Obm+XmZu7TRURE1FMMfPqQsx6flOhgAEBRdZP1GNty9rYeH8ctK+Tl7OzxISIichsDnz7U0m47CgBIkTM+1sCn81Vd7QcYMvAhIiJyFwOfPiT3+DhkfKyBz6UqW8bH1L7U1baqy2S2oL7FmhFixoeIiMh9DHz6kLNS1+Aoa6mrrqUV+mZTl6u6am39PYIA6ILZ40NEROQuBj59qC3wafu2h2pUiLFlb4qqm9r26pJ6fILaSl3Sii5dsBpKblBKRETkNgY+fajF2LHHB2grdxXXNNmVumzL2VVtzc2c4UNERNQ7DHz6UPu9uiRS4FNU3dyx1CVlfIxtGR9uV0FERNQzDHz6kLMeHwBIsfX5FNU0ybuzB7drbja0muXtKtjYTERE1DMMfPpQ+01KJW0Zn6YOwZG8nN1o5lJ2IiKiXmLg04ec7dUFtM3yya9shMls3Q6k/eTmlta2Hh9mfIiIiHqGgU8f6rzHx1rqKrRNbwbsS13WP80WERX1BgDcroKIiKinGPj0oc5KXcmRwVAIgLT3q1IhIEhp/U+jtVv6Xqa37ufFDUqJiIh6hoFPH2pxskkpAKiVCiTpguWvg9VKCIJ1Tk+QUgFpZE9prXUHd/b4EBER9QwDnz7SarbAaHYe+ABtE5wBx4yQIAjy8ZfrrIEPe3yIiIh6hoFPH2lptch/b1/qAtpWdgFtjc0Sqc+n1WKthXGODxERUc8w8OkjUn8PAGhUHb/t0souoGNGqH0zdBQzPkRERD3CwKeP2C9ll/p37Ekru4COGSH7BmcAiOQGpURERD3CwKePyIMJnZS5gK5LXfbPidCqoFLyPxsREVFP8BO0j8hL2Z00NgNAarR9qUvl8Ji0USnAMhcREVFvMPDpI23DC51/y+PCNAiy9f60zwrZf82d2YmIiHqOgU8f6a7UpVAI8pL2kHZZIY1dxodL2YmIiHqOgU8faemm1AW0rezqKuPD7SqIiIh6joFPH+lsny57GbGhAABdu1VbWrvl79yugoiIqOdU3R9CntDcyc7s9h66IQNatRL3T011uN+hx4elLiIioh5j4NNHOtug1F5KdAh+lTWqw/32wRKbm4mIiHqOpa4+0uJCxqczGofAhz0+REREPcXAp4+40uPTGYeMD0tdREREPcbAp480G207s3dR6uqM/ewflrqIiIh6joFPH3GlubkzjhkflrqIiIh6ioFPH+lNj499eSwymBkfIiKinmLg00ekVV3aHpW6rM8J16jkbS2IiIjIffwU7SO9KXVJPT5sbCYiIuodBj59pDeBz1WDIzEoMhhZ4xI9fVpEREQBhQMM+4jc4xPkfqwZHRqEvc/PgiAInj4tIiKigMKMTx+Re3x6kPEBwKCHiIjIA9wOfHbv3o158+YhOTkZgiBg69atDo+vWrUKo0aNQmhoKKKiojBnzhwcPHjQ4Zjy8nIsWrQIiYmJCA0NxaRJk/CPf/yjy/dNT0+HIAgdbo8//rh8zAMPPNDh8WnTprl7iV7Rm1IXEREReYbbgU9jYyMmTJiADRs2OH18xIgR2LBhA3Jzc7F3716kp6cjMzMTV65ckY9ZtGgRzp49i88++wy5ubm48847cc899+D48eOdvu/hw4dRVlYm37KzswEAd999t8Nxt912m8NxX331lbuX6BVtpS4GPkRERL7ido9PVlYWsrKyOn38/vvvd/h67dq12LhxI06cOIHZs2cDAPbv348333wT1157LQDg17/+NdatW4djx45h4sSJTl83Li7O4euXX34ZQ4cOxYwZMxzu12g0SEzsf03A8ialzPgQERH5jFd7fIxGI95++23odDpMmDBBvv+GG27A5s2bUV1dDYvFgo8//hgGgwEzZ850+XU/+OADPPjggx16X3bu3In4+HiMGDECDz/8MCoqKjp9HYPBgLq6OoebN4iiyFIXERFRP+CVwOeLL75AWFgYtFot1q1bh+zsbMTGxsqPb968Ga2trYiJiYFGo8EjjzyCTz/9FEOHDnXp9bdu3Yra2lo88MADDvdnZWXhww8/xI4dO/Dqq6/i8OHDuPnmm2EwGJy+zpo1a6DT6eRbSkpKj6+5K0azBRbR+veeDDAkIiIizxBEURR7/GRBwKeffoo77rjD4f7GxkaUlZWhsrISf/3rX7Fjxw4cPHgQ8fHxAIAnnngChw4dwurVqxEbG4utW7di3bp12LNnD8aPH9/t+956660ICgrC559/3uVxZWVlSEtLw8cff4w777yzw+MGg8EhKKqrq0NKSgr0ej0iIiJc+A64xtBqxps789BsMuPZzJFQK7mYjoiIyFPq6uqg0+lc+vz2yhyf0NBQDBs2DMOGDcO0adMwfPhwbNy4EStWrEBeXh42bNiAkydPYuzYsQCACRMmYM+ePfjLX/6Ct956q8vXLiwsxPbt27Fly5ZuzyMpKQlpaWk4f/6808c1Gg00Go37F+gmjUqJpXNGeP19iIiIqGt9knoQRVHOrDQ1NVnfWOH41kqlEhaLpdvX2rRpE+Lj4zF37txuj62qqkJRURGSkpJ6cNZERETkb9wOfBoaGpCTk4OcnBwAQH5+PnJycnDp0iU0NjbihRdewIEDB1BYWIhjx47hF7/4BYqLi+Vl56NGjcKwYcPwyCOP4NChQ8jLy8Orr76K7Oxsh5LZ7NmzOyyZt1gs2LRpExYvXgyVyjFZ1dDQgGeffRb79+9HQUEBdu7ciXnz5iE2NhYLFixw9zKJiIjID7ld6jpy5AhmzZolf71s2TIAwOLFi/HWW2/hzJkzePfdd1FZWYmYmBhMmTIFe/bskctaarUaX331FX71q19h3rx5aGhowLBhw/Duu+/iJz/5ify6eXl5qKysdHjv7du349KlS3jwwQc7nJdSqURubi7ee+891NbWIikpCbNmzcLmzZsRHh7u7mUSERGRH+pVc7O/cac5ioiIiPoHdz6/ubyIiIiIAgYDHyIiIgoYDHyIiIgoYDDwISIiooDBwIeIiIgCBgMfIiIiChgMfIiIiChgMPAhIiKigMHAh4iIiAKGV3ZnH6ikIdZ1dXU+PhMiIiJylfS57cpmFAx87NTX1wMAUlJSfHwmRERE5K76+nrodLouj+FeXXYsFgtKS0sRHh4OQRA8+tp1dXVISUlBUVFRwO0DxmvntfPaAwevndfui2sXRRH19fVITk6GQtF1Fw8zPnYUCgUGDx7s1feIiIgIuP8hJLx2Xnug4bXz2gONL6+9u0yPhM3NREREFDAY+BAREVHAYODTRzQaDX73u99Bo9H4+lT6HK+d1x5oeO289kAzkK6dzc1EREQUMJjxISIiooDBwIeIiIgCBgMfIiIiChgMfIiIiChgMPDpA2+88QYyMjKg1WoxefJk7Nmzx9en5HFr1qzBlClTEB4ejvj4eNxxxx04e/aswzGiKGLVqlVITk5GcHAwZs6ciVOnTvnojL1nzZo1EAQBS5cule/z52svKSnBz372M8TExCAkJARXX301jh49Kj/ur9fe2tqKX//618jIyEBwcDCGDBmCF198ERaLRT7Gn6599+7dmDdvHpKTkyEIArZu3erwuCvXajAY8MQTTyA2NhahoaGYP38+iouL+/AqeqarazeZTHj++ecxfvx4hIaGIjk5GT//+c9RWlrq8Br+eO3tPfLIIxAEAevXr3e4v79dOwMfL9u8eTOWLl2KlStX4vjx47jxxhuRlZWFS5cu+frUPGrXrl14/PHHceDAAWRnZ6O1tRWZmZlobGyUj3nllVewdu1abNiwAYcPH0ZiYiJuueUWeY80f3D48GG8/fbbuOqqqxzu99drr6mpwfXXXw+1Wo2vv/4ap0+fxquvvorIyEj5GH+99j/96U946623sGHDBvz444945ZVX8Oc//xmvv/66fIw/XXtjYyMmTJiADRs2OH3clWtdunQpPv30U3z88cfYu3cvGhoacPvtt8NsNvfVZfRIV9fe1NSEY8eO4Te/+Q2OHTuGLVu24Ny5c5g/f77Dcf547fa2bt2KgwcPIjk5ucNj/e7aRfKqa6+9Vnz00Ucd7hs1apT4q1/9ykdn1DcqKipEAOKuXbtEURRFi8UiJiYmii+//LJ8TEtLi6jT6cS33nrLV6fpUfX19eLw4cPF7OxsccaMGeJTTz0liqJ/X/vzzz8v3nDDDZ0+7s/XPnfuXPHBBx90uO/OO+8Uf/azn4mi6N/XDkD89NNP5a9dudba2lpRrVaLH3/8sXxMSUmJqFAoxG+++abPzr232l+7M4cOHRIBiIWFhaIo+v+1FxcXi4MGDRJPnjwppqWlievWrZMf64/XzoyPFxmNRhw9ehSZmZkO92dmZmLfvn0+Oqu+odfrAQDR0dEAgPz8fJSXlzt8LzQaDWbMmOE334vHH38cc+fOxZw5cxzu9+dr/+yzz3DNNdfg7rvvRnx8PCZOnIi//vWv8uP+fO033HADvv32W5w7dw4A8MMPP2Dv3r34yU9+AsC/r709V6716NGjMJlMDsckJydj3Lhxfvf90Ov1EARBznz687VbLBYsWrQIy5cvx9ixYzs83h+vnZuUelFlZSXMZjMSEhIc7k9ISEB5ebmPzsr7RFHEsmXLcMMNN2DcuHEAIF+vs+9FYWFhn5+jp3388cc4duwYDh8+3OExf772ixcv4s0338SyZcvwwgsv4NChQ3jyySeh0Wjw85//3K+v/fnnn4der8eoUaOgVCphNpvx0ksv4b777gPg3//d23PlWsvLyxEUFISoqKgOx/jTz8OWlhb86le/wv333y9v1unP1/6nP/0JKpUKTz75pNPH++O1M/DpA4IgOHwtimKH+/zJkiVLcOLECezdu7fDY/74vSgqKsJTTz2Ff//739BqtZ0e54/XbrFYcM0112D16tUAgIkTJ+LUqVN488038fOf/1w+zh+vffPmzfjggw/w0UcfYezYscjJycHSpUuRnJyMxYsXy8f547V3pifX6k/fD5PJhHvvvRcWiwVvvPFGt8cP9Gs/evQoXnvtNRw7dszt6/DltbPU5UWxsbFQKpUdotqKiooOvxn5iyeeeAKfffYZvvvuOwwePFi+PzExEQD88ntx9OhRVFRUYPLkyVCpVFCpVNi1axf++7//GyqVSr4+f7z2pKQkjBkzxuG+0aNHy837/vzfffny5fjVr36Fe++9F+PHj8eiRYvw9NNPY82aNQD8+9rbc+VaExMTYTQaUVNT0+kxA5nJZMLChQuRn5+P7OxsOdsD+O+179mzBxUVFUhNTZV/9hUWFuKZZ55Beno6gP557Qx8vCgoKAiTJ09Gdna2w/3Z2dmYPn26j87KO0RRxJIlS7Blyxbs2LEDGRkZDo9nZGQgMTHR4XthNBqxa9euAf+9mD17NnJzc5GTkyPfrrnmGvznf/4ncnJyMGTIEL+99uuvv77D2IJz584hLS0NgH//d29qaoJC4fgjVKlUysvZ/fna23PlWidPngy1Wu1wTFlZGU6ePDngvx9S0HP+/Hls374dMTExDo/767UvWrQIJ06ccPjZl5ycjOXLl2Pbtm0A+um1+6SlOoB8/PHHolqtFjdu3CiePn1aXLp0qRgaGioWFBT4+tQ86pe//KWo0+nEnTt3imVlZfKtqalJPubll18WdTqduGXLFjE3N1e87777xKSkJLGurs6HZ+4d9qu6RNF/r/3QoUOiSqUSX3rpJfH8+fPihx9+KIaEhIgffPCBfIy/XvvixYvFQYMGiV988YWYn58vbtmyRYyNjRWfe+45+Rh/uvb6+nrx+PHj4vHjx0UA4tq1a8Xjx4/LK5dcudZHH31UHDx4sLh9+3bx2LFj4s033yxOmDBBbG1t9dVluaSrazeZTOL8+fPFwYMHizk5OQ4//wwGg/wa/njtzrRf1SWK/e/aGfj0gb/85S9iWlqaGBQUJE6aNEle4u1PADi9bdq0ST7GYrGIv/vd78TExERRo9GIN910k5ibm+u7k/ai9oGPP1/7559/Lo4bN07UaDTiqFGjxLffftvhcX+99rq6OvGpp54SU1NTRa1WKw4ZMkRcuXKlw4edP137d9995/T/8cWLF4ui6Nq1Njc3i0uWLBGjo6PF4OBg8fbbbxcvXbrkg6txT1fXnp+f3+nPv++++05+DX+8dmecBT797doFURTFvsgsEREREfkae3yIiIgoYDDwISIiooDBwIeIiIgCBgMfIiIiChgMfIiIiChgMPAhIiKigMHAh4iIiAIGAx8iIiIKGAx8iIiIKGAw8CEiIqKAwcCHiIiIAgYDHyIiIgoY/z9oyHjPzGE18QAAAABJRU5ErkJggg==",
=======
      "image/png": "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",
>>>>>>> 97ec36e8d79d8db448e80639dec329c58c5d9c34
      "text/plain": [
       "<Figure size 640x480 with 1 Axes>"
      ]
     },
     "metadata": {},
     "output_type": "display_data"
    }
   ],
   "source": [
    "import matplotlib.pyplot as plt\n",
    "\n",
    "plt.plot(range(0,len(y_train)),y_train, label='Train')\n",
    "plt.plot(range(len(y_train),len(y)),y_test,label='Test')\n",
    "plt.legend()\n",
    "plt.show()"
   ]
  },
  {
   "cell_type": "code",
<<<<<<< HEAD
   "execution_count": 47,
   "metadata": {},
   "outputs": [],
   "source": [
    "from statsmodels.tsa.arima.model import ARIMA\n",
    "\n",
    "model = ARIMA(y, order=(5,0,1)).fit()\n",
    "forecast = model.forecast(steps=6)[0]"
   ]
  },
  {
   "cell_type": "code",
   "execution_count": 48,
   "metadata": {},
   "outputs": [],
   "source": [
    "test_pred = model.forecast(steps=6)"
   ]
  },
  {
   "cell_type": "code",
   "execution_count": 49,
   "metadata": {},
   "outputs": [
    {
     "data": {
      "image/png": "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",
      "text/plain": [
       "<Figure size 640x480 with 1 Axes>"
      ]
     },
     "metadata": {},
     "output_type": "display_data"
    }
   ],
   "source": [
    "# Visualize the predictions\n",
    "# demo.plot(forecast[:3300])\n",
    "plt.plot(test_pred, label=\"Prediction Line\")\n",
    "plt.plot(y_test, label=\"Actual prices\")\n",
    "plt.legend()\n",
    "plt.title(\"Stock price\")\n",
    "\n",
    "plt.xlabel('Date')\n",
    "plt.ylabel('Price ($)')\n",
    "plt.show()"
   ]
  },
  {
   "cell_type": "code",
   "execution_count": 50,
   "metadata": {},
   "outputs": [
    {
     "name": "stdout",
     "output_type": "stream",
     "text": [
      "RMSE of Prophet is:  0.10357337234067773\n",
      "MAE of Prophet is:  0.09809795567376038\n"
=======
   "execution_count": 70,
   "metadata": {},
   "outputs": [
    {
     "name": "stderr",
     "output_type": "stream",
     "text": [
      "e:\\Programming\\stock-trading\\.conda\\lib\\site-packages\\statsmodels\\base\\model.py:607: ConvergenceWarning: Maximum Likelihood optimization failed to converge. Check mle_retvals\n",
      "  warnings.warn(\"Maximum Likelihood optimization failed to \"\n"
>>>>>>> 97ec36e8d79d8db448e80639dec329c58c5d9c34
     ]
    }
   ],
   "source": [
<<<<<<< HEAD
    "print(\"RMSE of Prophet is: \", np.sqrt(np.mean(np.array(test_pred-y_test)**2)))\n",
    "print(\"MAE of Prophet is: \", mean_absolute_error(y_test, test_pred))"
=======
    "from statsmodels.tsa.arima.model import ARIMA\n",
    "\n",
    "model = ARIMA(y, order=(5,0,1)).fit()\n",
    "forecast = model.forecast(steps=1)[0]"
>>>>>>> 97ec36e8d79d8db448e80639dec329c58c5d9c34
   ]
  },
  {
   "cell_type": "code",
<<<<<<< HEAD
   "execution_count": 59,
=======
   "execution_count": 71,
   "metadata": {},
   "outputs": [
    {
     "data": {
      "text/plain": [
       "array([133.52518122])"
      ]
     },
     "execution_count": 71,
     "metadata": {},
     "output_type": "execute_result"
    }
   ],
   "source": [
    "model.forecast(steps=1)"
   ]
  },
  {
   "cell_type": "code",
   "execution_count": 72,
>>>>>>> 97ec36e8d79d8db448e80639dec329c58c5d9c34
   "metadata": {},
   "outputs": [],
   "source": [
    "from backtesting import Backtest\n",
    "from backtesting.lib import TrailingStrategy, crossover\n",
    "\n",
    "class ARIMA_model(TrailingStrategy):\n",
    "    def init(self):\n",
    "        super().init()\n",
    "        self.set_trailing_sl(3)\n",
<<<<<<< HEAD
    "        self.cnt = 5\n",
    "\n",
    "    def next(self):\n",
    "        super().next()\n",
    "        self.cnt += 1\n",
    "\n",
    "        if self.cnt>=5:\n",
    "            self.cnt = 0\n",
    "            self.y = self.data.Low\n",
    "            model = ARIMA(self.y, order=(5,0,1)).fit()\n",
    "            self.forecast = model.forecast(steps=7)\n",
    "\n",
    "        if self.data.Close[-1]<self.forecast[self.cnt]:\n",
    "            self.buy(size=0.6)\n",
    "        if self.data.Close[-1]>self.forecast[self.cnt]:\n",
    "            self.sell(size=0.6)"
=======
    "        self.y = self.data.Low\n",
    "\n",
    "    \n",
    "\n",
    "    def next(self):\n",
    "        super().next()\n",
    "\n",
    "        model = ARIMA(self.y, order=(5,0,1)).fit()\n",
    "        self.forecast = model.forecast(steps=1)[0]\n",
    "\n",
    "        if self.data.Close[-1]<self.forecast:\n",
    "            self.buy(size=0.6)\n",
    "        if self.data.Close[-1]>self.forecast:\n",
    "            self.sell(size=0.6)\n",
    "        \n"
>>>>>>> 97ec36e8d79d8db448e80639dec329c58c5d9c34
   ]
  },
  {
   "cell_type": "code",
<<<<<<< HEAD
   "execution_count": 60,
   "metadata": {},
   "outputs": [],
=======
   "execution_count": 73,
   "metadata": {},
   "outputs": [
    {
     "data": {
      "text/html": [
       "<div>\n",
       "<style scoped>\n",
       "    .dataframe tbody tr th:only-of-type {\n",
       "        vertical-align: middle;\n",
       "    }\n",
       "\n",
       "    .dataframe tbody tr th {\n",
       "        vertical-align: top;\n",
       "    }\n",
       "\n",
       "    .dataframe thead th {\n",
       "        text-align: right;\n",
       "    }\n",
       "</style>\n",
       "<table border=\"1\" class=\"dataframe\">\n",
       "  <thead>\n",
       "    <tr style=\"text-align: right;\">\n",
       "      <th></th>\n",
       "      <th>Open</th>\n",
       "      <th>High</th>\n",
       "      <th>Low</th>\n",
       "      <th>Close</th>\n",
       "      <th>Volume</th>\n",
       "    </tr>\n",
       "    <tr>\n",
       "      <th>Datetime</th>\n",
       "      <th></th>\n",
       "      <th></th>\n",
       "      <th></th>\n",
       "      <th></th>\n",
       "      <th></th>\n",
       "    </tr>\n",
       "  </thead>\n",
       "  <tbody>\n",
       "    <tr>\n",
       "      <th>2023-10-03 09:30:00</th>\n",
       "      <td>134.929993</td>\n",
       "      <td>135.110001</td>\n",
       "      <td>134.589996</td>\n",
       "      <td>134.649994</td>\n",
       "      <td>543374</td>\n",
       "    </tr>\n",
       "    <tr>\n",
       "      <th>2023-10-03 09:31:00</th>\n",
       "      <td>134.619995</td>\n",
       "      <td>134.690002</td>\n",
       "      <td>134.160004</td>\n",
       "      <td>134.179993</td>\n",
       "      <td>96864</td>\n",
       "    </tr>\n",
       "    <tr>\n",
       "      <th>2023-10-03 09:32:00</th>\n",
       "      <td>134.179993</td>\n",
       "      <td>134.320007</td>\n",
       "      <td>134.065002</td>\n",
       "      <td>134.300003</td>\n",
       "      <td>107288</td>\n",
       "    </tr>\n",
       "    <tr>\n",
       "      <th>2023-10-03 09:33:00</th>\n",
       "      <td>134.304993</td>\n",
       "      <td>134.544998</td>\n",
       "      <td>134.304993</td>\n",
       "      <td>134.309998</td>\n",
       "      <td>63752</td>\n",
       "    </tr>\n",
       "    <tr>\n",
       "      <th>2023-10-03 09:34:00</th>\n",
       "      <td>134.354996</td>\n",
       "      <td>134.491806</td>\n",
       "      <td>134.289993</td>\n",
       "      <td>134.419998</td>\n",
       "      <td>49106</td>\n",
       "    </tr>\n",
       "    <tr>\n",
       "      <th>...</th>\n",
       "      <td>...</td>\n",
       "      <td>...</td>\n",
       "      <td>...</td>\n",
       "      <td>...</td>\n",
       "      <td>...</td>\n",
       "    </tr>\n",
       "    <tr>\n",
       "      <th>2023-10-03 12:01:00</th>\n",
       "      <td>133.380005</td>\n",
       "      <td>133.460007</td>\n",
       "      <td>133.365005</td>\n",
       "      <td>133.399994</td>\n",
       "      <td>59169</td>\n",
       "    </tr>\n",
       "    <tr>\n",
       "      <th>2023-10-03 12:02:00</th>\n",
       "      <td>133.388504</td>\n",
       "      <td>133.470001</td>\n",
       "      <td>133.350006</td>\n",
       "      <td>133.449997</td>\n",
       "      <td>26518</td>\n",
       "    </tr>\n",
       "    <tr>\n",
       "      <th>2023-10-03 12:03:00</th>\n",
       "      <td>133.455002</td>\n",
       "      <td>133.529999</td>\n",
       "      <td>133.430099</td>\n",
       "      <td>133.430099</td>\n",
       "      <td>23474</td>\n",
       "    </tr>\n",
       "    <tr>\n",
       "      <th>2023-10-03 12:04:00</th>\n",
       "      <td>133.429993</td>\n",
       "      <td>133.600006</td>\n",
       "      <td>133.429993</td>\n",
       "      <td>133.570007</td>\n",
       "      <td>36264</td>\n",
       "    </tr>\n",
       "    <tr>\n",
       "      <th>2023-10-03 12:05:00</th>\n",
       "      <td>133.500000</td>\n",
       "      <td>133.500000</td>\n",
       "      <td>133.500000</td>\n",
       "      <td>133.500000</td>\n",
       "      <td>0</td>\n",
       "    </tr>\n",
       "  </tbody>\n",
       "</table>\n",
       "<p>155 rows × 5 columns</p>\n",
       "</div>"
      ],
      "text/plain": [
       "                           Open        High         Low       Close  Volume\n",
       "Datetime                                                                   \n",
       "2023-10-03 09:30:00  134.929993  135.110001  134.589996  134.649994  543374\n",
       "2023-10-03 09:31:00  134.619995  134.690002  134.160004  134.179993   96864\n",
       "2023-10-03 09:32:00  134.179993  134.320007  134.065002  134.300003  107288\n",
       "2023-10-03 09:33:00  134.304993  134.544998  134.304993  134.309998   63752\n",
       "2023-10-03 09:34:00  134.354996  134.491806  134.289993  134.419998   49106\n",
       "...                         ...         ...         ...         ...     ...\n",
       "2023-10-03 12:01:00  133.380005  133.460007  133.365005  133.399994   59169\n",
       "2023-10-03 12:02:00  133.388504  133.470001  133.350006  133.449997   26518\n",
       "2023-10-03 12:03:00  133.455002  133.529999  133.430099  133.430099   23474\n",
       "2023-10-03 12:04:00  133.429993  133.600006  133.429993  133.570007   36264\n",
       "2023-10-03 12:05:00  133.500000  133.500000  133.500000  133.500000       0\n",
       "\n",
       "[155 rows x 5 columns]"
      ]
     },
     "execution_count": 73,
     "metadata": {},
     "output_type": "execute_result"
    }
   ],
   "source": [
    "df"
   ]
  },
  {
   "cell_type": "code",
   "execution_count": 74,
   "metadata": {},
   "outputs": [
    {
     "name": "stderr",
     "output_type": "stream",
     "text": [
      "e:\\Programming\\stock-trading\\.conda\\lib\\site-packages\\statsmodels\\base\\model.py:607: ConvergenceWarning: Maximum Likelihood optimization failed to converge. Check mle_retvals\n",
      "  warnings.warn(\"Maximum Likelihood optimization failed to \"\n",
      "e:\\Programming\\stock-trading\\.conda\\lib\\site-packages\\statsmodels\\base\\model.py:607: ConvergenceWarning: Maximum Likelihood optimization failed to converge. Check mle_retvals\n",
      "  warnings.warn(\"Maximum Likelihood optimization failed to \"\n",
      "e:\\Programming\\stock-trading\\.conda\\lib\\site-packages\\statsmodels\\base\\model.py:607: ConvergenceWarning: Maximum Likelihood optimization failed to converge. Check mle_retvals\n",
      "  warnings.warn(\"Maximum Likelihood optimization failed to \"\n",
      "e:\\Programming\\stock-trading\\.conda\\lib\\site-packages\\statsmodels\\base\\model.py:607: ConvergenceWarning: Maximum Likelihood optimization failed to converge. Check mle_retvals\n",
      "  warnings.warn(\"Maximum Likelihood optimization failed to \"\n",
      "e:\\Programming\\stock-trading\\.conda\\lib\\site-packages\\statsmodels\\base\\model.py:607: ConvergenceWarning: Maximum Likelihood optimization failed to converge. Check mle_retvals\n",
      "  warnings.warn(\"Maximum Likelihood optimization failed to \"\n",
      "e:\\Programming\\stock-trading\\.conda\\lib\\site-packages\\statsmodels\\base\\model.py:607: ConvergenceWarning: Maximum Likelihood optimization failed to converge. Check mle_retvals\n",
      "  warnings.warn(\"Maximum Likelihood optimization failed to \"\n",
      "e:\\Programming\\stock-trading\\.conda\\lib\\site-packages\\statsmodels\\base\\model.py:607: ConvergenceWarning: Maximum Likelihood optimization failed to converge. Check mle_retvals\n",
      "  warnings.warn(\"Maximum Likelihood optimization failed to \"\n",
      "e:\\Programming\\stock-trading\\.conda\\lib\\site-packages\\statsmodels\\base\\model.py:607: ConvergenceWarning: Maximum Likelihood optimization failed to converge. Check mle_retvals\n",
      "  warnings.warn(\"Maximum Likelihood optimization failed to \"\n",
      "e:\\Programming\\stock-trading\\.conda\\lib\\site-packages\\statsmodels\\base\\model.py:607: ConvergenceWarning: Maximum Likelihood optimization failed to converge. Check mle_retvals\n",
      "  warnings.warn(\"Maximum Likelihood optimization failed to \"\n",
      "e:\\Programming\\stock-trading\\.conda\\lib\\site-packages\\statsmodels\\base\\model.py:607: ConvergenceWarning: Maximum Likelihood optimization failed to converge. Check mle_retvals\n",
      "  warnings.warn(\"Maximum Likelihood optimization failed to \"\n",
      "e:\\Programming\\stock-trading\\.conda\\lib\\site-packages\\statsmodels\\base\\model.py:607: ConvergenceWarning: Maximum Likelihood optimization failed to converge. Check mle_retvals\n",
      "  warnings.warn(\"Maximum Likelihood optimization failed to \"\n",
      "e:\\Programming\\stock-trading\\.conda\\lib\\site-packages\\statsmodels\\base\\model.py:607: ConvergenceWarning: Maximum Likelihood optimization failed to converge. Check mle_retvals\n",
      "  warnings.warn(\"Maximum Likelihood optimization failed to \"\n",
      "e:\\Programming\\stock-trading\\.conda\\lib\\site-packages\\statsmodels\\base\\model.py:607: ConvergenceWarning: Maximum Likelihood optimization failed to converge. Check mle_retvals\n",
      "  warnings.warn(\"Maximum Likelihood optimization failed to \"\n",
      "e:\\Programming\\stock-trading\\.conda\\lib\\site-packages\\statsmodels\\base\\model.py:607: ConvergenceWarning: Maximum Likelihood optimization failed to converge. Check mle_retvals\n",
      "  warnings.warn(\"Maximum Likelihood optimization failed to \"\n",
      "e:\\Programming\\stock-trading\\.conda\\lib\\site-packages\\statsmodels\\base\\model.py:607: ConvergenceWarning: Maximum Likelihood optimization failed to converge. Check mle_retvals\n",
      "  warnings.warn(\"Maximum Likelihood optimization failed to \"\n",
      "e:\\Programming\\stock-trading\\.conda\\lib\\site-packages\\statsmodels\\base\\model.py:607: ConvergenceWarning: Maximum Likelihood optimization failed to converge. Check mle_retvals\n",
      "  warnings.warn(\"Maximum Likelihood optimization failed to \"\n",
      "e:\\Programming\\stock-trading\\.conda\\lib\\site-packages\\statsmodels\\base\\model.py:607: ConvergenceWarning: Maximum Likelihood optimization failed to converge. Check mle_retvals\n",
      "  warnings.warn(\"Maximum Likelihood optimization failed to \"\n",
      "e:\\Programming\\stock-trading\\.conda\\lib\\site-packages\\statsmodels\\base\\model.py:607: ConvergenceWarning: Maximum Likelihood optimization failed to converge. Check mle_retvals\n",
      "  warnings.warn(\"Maximum Likelihood optimization failed to \"\n",
      "e:\\Programming\\stock-trading\\.conda\\lib\\site-packages\\statsmodels\\base\\model.py:607: ConvergenceWarning: Maximum Likelihood optimization failed to converge. Check mle_retvals\n",
      "  warnings.warn(\"Maximum Likelihood optimization failed to \"\n",
      "e:\\Programming\\stock-trading\\.conda\\lib\\site-packages\\statsmodels\\base\\model.py:607: ConvergenceWarning: Maximum Likelihood optimization failed to converge. Check mle_retvals\n",
      "  warnings.warn(\"Maximum Likelihood optimization failed to \"\n",
      "e:\\Programming\\stock-trading\\.conda\\lib\\site-packages\\statsmodels\\base\\model.py:607: ConvergenceWarning: Maximum Likelihood optimization failed to converge. Check mle_retvals\n",
      "  warnings.warn(\"Maximum Likelihood optimization failed to \"\n",
      "e:\\Programming\\stock-trading\\.conda\\lib\\site-packages\\statsmodels\\base\\model.py:607: ConvergenceWarning: Maximum Likelihood optimization failed to converge. Check mle_retvals\n",
      "  warnings.warn(\"Maximum Likelihood optimization failed to \"\n",
      "e:\\Programming\\stock-trading\\.conda\\lib\\site-packages\\statsmodels\\base\\model.py:607: ConvergenceWarning: Maximum Likelihood optimization failed to converge. Check mle_retvals\n",
      "  warnings.warn(\"Maximum Likelihood optimization failed to \"\n",
      "e:\\Programming\\stock-trading\\.conda\\lib\\site-packages\\statsmodels\\base\\model.py:607: ConvergenceWarning: Maximum Likelihood optimization failed to converge. Check mle_retvals\n",
      "  warnings.warn(\"Maximum Likelihood optimization failed to \"\n",
      "e:\\Programming\\stock-trading\\.conda\\lib\\site-packages\\statsmodels\\base\\model.py:607: ConvergenceWarning: Maximum Likelihood optimization failed to converge. Check mle_retvals\n",
      "  warnings.warn(\"Maximum Likelihood optimization failed to \"\n",
      "e:\\Programming\\stock-trading\\.conda\\lib\\site-packages\\statsmodels\\base\\model.py:607: ConvergenceWarning: Maximum Likelihood optimization failed to converge. Check mle_retvals\n",
      "  warnings.warn(\"Maximum Likelihood optimization failed to \"\n",
      "e:\\Programming\\stock-trading\\.conda\\lib\\site-packages\\statsmodels\\base\\model.py:607: ConvergenceWarning: Maximum Likelihood optimization failed to converge. Check mle_retvals\n",
      "  warnings.warn(\"Maximum Likelihood optimization failed to \"\n",
      "e:\\Programming\\stock-trading\\.conda\\lib\\site-packages\\statsmodels\\base\\model.py:607: ConvergenceWarning: Maximum Likelihood optimization failed to converge. Check mle_retvals\n",
      "  warnings.warn(\"Maximum Likelihood optimization failed to \"\n",
      "e:\\Programming\\stock-trading\\.conda\\lib\\site-packages\\statsmodels\\base\\model.py:607: ConvergenceWarning: Maximum Likelihood optimization failed to converge. Check mle_retvals\n",
      "  warnings.warn(\"Maximum Likelihood optimization failed to \"\n",
      "e:\\Programming\\stock-trading\\.conda\\lib\\site-packages\\statsmodels\\base\\model.py:607: ConvergenceWarning: Maximum Likelihood optimization failed to converge. Check mle_retvals\n",
      "  warnings.warn(\"Maximum Likelihood optimization failed to \"\n",
      "e:\\Programming\\stock-trading\\.conda\\lib\\site-packages\\statsmodels\\base\\model.py:607: ConvergenceWarning: Maximum Likelihood optimization failed to converge. Check mle_retvals\n",
      "  warnings.warn(\"Maximum Likelihood optimization failed to \"\n",
      "e:\\Programming\\stock-trading\\.conda\\lib\\site-packages\\statsmodels\\base\\model.py:607: ConvergenceWarning: Maximum Likelihood optimization failed to converge. Check mle_retvals\n",
      "  warnings.warn(\"Maximum Likelihood optimization failed to \"\n",
      "e:\\Programming\\stock-trading\\.conda\\lib\\site-packages\\statsmodels\\base\\model.py:607: ConvergenceWarning: Maximum Likelihood optimization failed to converge. Check mle_retvals\n",
      "  warnings.warn(\"Maximum Likelihood optimization failed to \"\n",
      "e:\\Programming\\stock-trading\\.conda\\lib\\site-packages\\statsmodels\\base\\model.py:607: ConvergenceWarning: Maximum Likelihood optimization failed to converge. Check mle_retvals\n",
      "  warnings.warn(\"Maximum Likelihood optimization failed to \"\n",
      "e:\\Programming\\stock-trading\\.conda\\lib\\site-packages\\statsmodels\\base\\model.py:607: ConvergenceWarning: Maximum Likelihood optimization failed to converge. Check mle_retvals\n",
      "  warnings.warn(\"Maximum Likelihood optimization failed to \"\n",
      "e:\\Programming\\stock-trading\\.conda\\lib\\site-packages\\statsmodels\\base\\model.py:607: ConvergenceWarning: Maximum Likelihood optimization failed to converge. Check mle_retvals\n",
      "  warnings.warn(\"Maximum Likelihood optimization failed to \"\n",
      "e:\\Programming\\stock-trading\\.conda\\lib\\site-packages\\statsmodels\\base\\model.py:607: ConvergenceWarning: Maximum Likelihood optimization failed to converge. Check mle_retvals\n",
      "  warnings.warn(\"Maximum Likelihood optimization failed to \"\n",
      "e:\\Programming\\stock-trading\\.conda\\lib\\site-packages\\statsmodels\\base\\model.py:607: ConvergenceWarning: Maximum Likelihood optimization failed to converge. Check mle_retvals\n",
      "  warnings.warn(\"Maximum Likelihood optimization failed to \"\n",
      "e:\\Programming\\stock-trading\\.conda\\lib\\site-packages\\statsmodels\\base\\model.py:607: ConvergenceWarning: Maximum Likelihood optimization failed to converge. Check mle_retvals\n",
      "  warnings.warn(\"Maximum Likelihood optimization failed to \"\n",
      "e:\\Programming\\stock-trading\\.conda\\lib\\site-packages\\statsmodels\\base\\model.py:607: ConvergenceWarning: Maximum Likelihood optimization failed to converge. Check mle_retvals\n",
      "  warnings.warn(\"Maximum Likelihood optimization failed to \"\n",
      "e:\\Programming\\stock-trading\\.conda\\lib\\site-packages\\statsmodels\\base\\model.py:607: ConvergenceWarning: Maximum Likelihood optimization failed to converge. Check mle_retvals\n",
      "  warnings.warn(\"Maximum Likelihood optimization failed to \"\n",
      "e:\\Programming\\stock-trading\\.conda\\lib\\site-packages\\statsmodels\\base\\model.py:607: ConvergenceWarning: Maximum Likelihood optimization failed to converge. Check mle_retvals\n",
      "  warnings.warn(\"Maximum Likelihood optimization failed to \"\n",
      "e:\\Programming\\stock-trading\\.conda\\lib\\site-packages\\statsmodels\\base\\model.py:607: ConvergenceWarning: Maximum Likelihood optimization failed to converge. Check mle_retvals\n",
      "  warnings.warn(\"Maximum Likelihood optimization failed to \"\n",
      "e:\\Programming\\stock-trading\\.conda\\lib\\site-packages\\statsmodels\\base\\model.py:607: ConvergenceWarning: Maximum Likelihood optimization failed to converge. Check mle_retvals\n",
      "  warnings.warn(\"Maximum Likelihood optimization failed to \"\n",
      "e:\\Programming\\stock-trading\\.conda\\lib\\site-packages\\statsmodels\\base\\model.py:607: ConvergenceWarning: Maximum Likelihood optimization failed to converge. Check mle_retvals\n",
      "  warnings.warn(\"Maximum Likelihood optimization failed to \"\n",
      "e:\\Programming\\stock-trading\\.conda\\lib\\site-packages\\statsmodels\\base\\model.py:607: ConvergenceWarning: Maximum Likelihood optimization failed to converge. Check mle_retvals\n",
      "  warnings.warn(\"Maximum Likelihood optimization failed to \"\n",
      "e:\\Programming\\stock-trading\\.conda\\lib\\site-packages\\statsmodels\\base\\model.py:607: ConvergenceWarning: Maximum Likelihood optimization failed to converge. Check mle_retvals\n",
      "  warnings.warn(\"Maximum Likelihood optimization failed to \"\n",
      "e:\\Programming\\stock-trading\\.conda\\lib\\site-packages\\statsmodels\\base\\model.py:607: ConvergenceWarning: Maximum Likelihood optimization failed to converge. Check mle_retvals\n",
      "  warnings.warn(\"Maximum Likelihood optimization failed to \"\n",
      "e:\\Programming\\stock-trading\\.conda\\lib\\site-packages\\statsmodels\\base\\model.py:607: ConvergenceWarning: Maximum Likelihood optimization failed to converge. Check mle_retvals\n",
      "  warnings.warn(\"Maximum Likelihood optimization failed to \"\n",
      "e:\\Programming\\stock-trading\\.conda\\lib\\site-packages\\statsmodels\\base\\model.py:607: ConvergenceWarning: Maximum Likelihood optimization failed to converge. Check mle_retvals\n",
      "  warnings.warn(\"Maximum Likelihood optimization failed to \"\n",
      "e:\\Programming\\stock-trading\\.conda\\lib\\site-packages\\statsmodels\\base\\model.py:607: ConvergenceWarning: Maximum Likelihood optimization failed to converge. Check mle_retvals\n",
      "  warnings.warn(\"Maximum Likelihood optimization failed to \"\n",
      "e:\\Programming\\stock-trading\\.conda\\lib\\site-packages\\statsmodels\\base\\model.py:607: ConvergenceWarning: Maximum Likelihood optimization failed to converge. Check mle_retvals\n",
      "  warnings.warn(\"Maximum Likelihood optimization failed to \"\n",
      "e:\\Programming\\stock-trading\\.conda\\lib\\site-packages\\statsmodels\\base\\model.py:607: ConvergenceWarning: Maximum Likelihood optimization failed to converge. Check mle_retvals\n",
      "  warnings.warn(\"Maximum Likelihood optimization failed to \"\n",
      "e:\\Programming\\stock-trading\\.conda\\lib\\site-packages\\statsmodels\\base\\model.py:607: ConvergenceWarning: Maximum Likelihood optimization failed to converge. Check mle_retvals\n",
      "  warnings.warn(\"Maximum Likelihood optimization failed to \"\n",
      "e:\\Programming\\stock-trading\\.conda\\lib\\site-packages\\statsmodels\\base\\model.py:607: ConvergenceWarning: Maximum Likelihood optimization failed to converge. Check mle_retvals\n",
      "  warnings.warn(\"Maximum Likelihood optimization failed to \"\n",
      "e:\\Programming\\stock-trading\\.conda\\lib\\site-packages\\statsmodels\\base\\model.py:607: ConvergenceWarning: Maximum Likelihood optimization failed to converge. Check mle_retvals\n",
      "  warnings.warn(\"Maximum Likelihood optimization failed to \"\n",
      "e:\\Programming\\stock-trading\\.conda\\lib\\site-packages\\statsmodels\\base\\model.py:607: ConvergenceWarning: Maximum Likelihood optimization failed to converge. Check mle_retvals\n",
      "  warnings.warn(\"Maximum Likelihood optimization failed to \"\n",
      "e:\\Programming\\stock-trading\\.conda\\lib\\site-packages\\statsmodels\\base\\model.py:607: ConvergenceWarning: Maximum Likelihood optimization failed to converge. Check mle_retvals\n",
      "  warnings.warn(\"Maximum Likelihood optimization failed to \"\n",
      "e:\\Programming\\stock-trading\\.conda\\lib\\site-packages\\statsmodels\\base\\model.py:607: ConvergenceWarning: Maximum Likelihood optimization failed to converge. Check mle_retvals\n",
      "  warnings.warn(\"Maximum Likelihood optimization failed to \"\n",
      "e:\\Programming\\stock-trading\\.conda\\lib\\site-packages\\statsmodels\\base\\model.py:607: ConvergenceWarning: Maximum Likelihood optimization failed to converge. Check mle_retvals\n",
      "  warnings.warn(\"Maximum Likelihood optimization failed to \"\n",
      "e:\\Programming\\stock-trading\\.conda\\lib\\site-packages\\statsmodels\\base\\model.py:607: ConvergenceWarning: Maximum Likelihood optimization failed to converge. Check mle_retvals\n",
      "  warnings.warn(\"Maximum Likelihood optimization failed to \"\n",
      "e:\\Programming\\stock-trading\\.conda\\lib\\site-packages\\statsmodels\\base\\model.py:607: ConvergenceWarning: Maximum Likelihood optimization failed to converge. Check mle_retvals\n",
      "  warnings.warn(\"Maximum Likelihood optimization failed to \"\n",
      "e:\\Programming\\stock-trading\\.conda\\lib\\site-packages\\statsmodels\\base\\model.py:607: ConvergenceWarning: Maximum Likelihood optimization failed to converge. Check mle_retvals\n",
      "  warnings.warn(\"Maximum Likelihood optimization failed to \"\n",
      "e:\\Programming\\stock-trading\\.conda\\lib\\site-packages\\statsmodels\\base\\model.py:607: ConvergenceWarning: Maximum Likelihood optimization failed to converge. Check mle_retvals\n",
      "  warnings.warn(\"Maximum Likelihood optimization failed to \"\n",
      "e:\\Programming\\stock-trading\\.conda\\lib\\site-packages\\statsmodels\\base\\model.py:607: ConvergenceWarning: Maximum Likelihood optimization failed to converge. Check mle_retvals\n",
      "  warnings.warn(\"Maximum Likelihood optimization failed to \"\n",
      "e:\\Programming\\stock-trading\\.conda\\lib\\site-packages\\statsmodels\\base\\model.py:607: ConvergenceWarning: Maximum Likelihood optimization failed to converge. Check mle_retvals\n",
      "  warnings.warn(\"Maximum Likelihood optimization failed to \"\n",
      "e:\\Programming\\stock-trading\\.conda\\lib\\site-packages\\statsmodels\\base\\model.py:607: ConvergenceWarning: Maximum Likelihood optimization failed to converge. Check mle_retvals\n",
      "  warnings.warn(\"Maximum Likelihood optimization failed to \"\n",
      "e:\\Programming\\stock-trading\\.conda\\lib\\site-packages\\statsmodels\\base\\model.py:607: ConvergenceWarning: Maximum Likelihood optimization failed to converge. Check mle_retvals\n",
      "  warnings.warn(\"Maximum Likelihood optimization failed to \"\n",
      "e:\\Programming\\stock-trading\\.conda\\lib\\site-packages\\statsmodels\\base\\model.py:607: ConvergenceWarning: Maximum Likelihood optimization failed to converge. Check mle_retvals\n",
      "  warnings.warn(\"Maximum Likelihood optimization failed to \"\n",
      "e:\\Programming\\stock-trading\\.conda\\lib\\site-packages\\statsmodels\\base\\model.py:607: ConvergenceWarning: Maximum Likelihood optimization failed to converge. Check mle_retvals\n",
      "  warnings.warn(\"Maximum Likelihood optimization failed to \"\n",
      "e:\\Programming\\stock-trading\\.conda\\lib\\site-packages\\statsmodels\\base\\model.py:607: ConvergenceWarning: Maximum Likelihood optimization failed to converge. Check mle_retvals\n",
      "  warnings.warn(\"Maximum Likelihood optimization failed to \"\n",
      "e:\\Programming\\stock-trading\\.conda\\lib\\site-packages\\statsmodels\\base\\model.py:607: ConvergenceWarning: Maximum Likelihood optimization failed to converge. Check mle_retvals\n",
      "  warnings.warn(\"Maximum Likelihood optimization failed to \"\n",
      "e:\\Programming\\stock-trading\\.conda\\lib\\site-packages\\statsmodels\\base\\model.py:607: ConvergenceWarning: Maximum Likelihood optimization failed to converge. Check mle_retvals\n",
      "  warnings.warn(\"Maximum Likelihood optimization failed to \"\n",
      "e:\\Programming\\stock-trading\\.conda\\lib\\site-packages\\statsmodels\\base\\model.py:607: ConvergenceWarning: Maximum Likelihood optimization failed to converge. Check mle_retvals\n",
      "  warnings.warn(\"Maximum Likelihood optimization failed to \"\n",
      "e:\\Programming\\stock-trading\\.conda\\lib\\site-packages\\statsmodels\\base\\model.py:607: ConvergenceWarning: Maximum Likelihood optimization failed to converge. Check mle_retvals\n",
      "  warnings.warn(\"Maximum Likelihood optimization failed to \"\n",
      "e:\\Programming\\stock-trading\\.conda\\lib\\site-packages\\statsmodels\\base\\model.py:607: ConvergenceWarning: Maximum Likelihood optimization failed to converge. Check mle_retvals\n",
      "  warnings.warn(\"Maximum Likelihood optimization failed to \"\n",
      "e:\\Programming\\stock-trading\\.conda\\lib\\site-packages\\statsmodels\\base\\model.py:607: ConvergenceWarning: Maximum Likelihood optimization failed to converge. Check mle_retvals\n",
      "  warnings.warn(\"Maximum Likelihood optimization failed to \"\n",
      "e:\\Programming\\stock-trading\\.conda\\lib\\site-packages\\statsmodels\\base\\model.py:607: ConvergenceWarning: Maximum Likelihood optimization failed to converge. Check mle_retvals\n",
      "  warnings.warn(\"Maximum Likelihood optimization failed to \"\n",
      "e:\\Programming\\stock-trading\\.conda\\lib\\site-packages\\statsmodels\\base\\model.py:607: ConvergenceWarning: Maximum Likelihood optimization failed to converge. Check mle_retvals\n",
      "  warnings.warn(\"Maximum Likelihood optimization failed to \"\n",
      "e:\\Programming\\stock-trading\\.conda\\lib\\site-packages\\statsmodels\\base\\model.py:607: ConvergenceWarning: Maximum Likelihood optimization failed to converge. Check mle_retvals\n",
      "  warnings.warn(\"Maximum Likelihood optimization failed to \"\n",
      "e:\\Programming\\stock-trading\\.conda\\lib\\site-packages\\statsmodels\\base\\model.py:607: ConvergenceWarning: Maximum Likelihood optimization failed to converge. Check mle_retvals\n",
      "  warnings.warn(\"Maximum Likelihood optimization failed to \"\n",
      "e:\\Programming\\stock-trading\\.conda\\lib\\site-packages\\statsmodels\\base\\model.py:607: ConvergenceWarning: Maximum Likelihood optimization failed to converge. Check mle_retvals\n",
      "  warnings.warn(\"Maximum Likelihood optimization failed to \"\n",
      "e:\\Programming\\stock-trading\\.conda\\lib\\site-packages\\statsmodels\\base\\model.py:607: ConvergenceWarning: Maximum Likelihood optimization failed to converge. Check mle_retvals\n",
      "  warnings.warn(\"Maximum Likelihood optimization failed to \"\n",
      "e:\\Programming\\stock-trading\\.conda\\lib\\site-packages\\statsmodels\\base\\model.py:607: ConvergenceWarning: Maximum Likelihood optimization failed to converge. Check mle_retvals\n",
      "  warnings.warn(\"Maximum Likelihood optimization failed to \"\n",
      "e:\\Programming\\stock-trading\\.conda\\lib\\site-packages\\statsmodels\\base\\model.py:607: ConvergenceWarning: Maximum Likelihood optimization failed to converge. Check mle_retvals\n",
      "  warnings.warn(\"Maximum Likelihood optimization failed to \"\n",
      "e:\\Programming\\stock-trading\\.conda\\lib\\site-packages\\statsmodels\\base\\model.py:607: ConvergenceWarning: Maximum Likelihood optimization failed to converge. Check mle_retvals\n",
      "  warnings.warn(\"Maximum Likelihood optimization failed to \"\n",
      "e:\\Programming\\stock-trading\\.conda\\lib\\site-packages\\statsmodels\\base\\model.py:607: ConvergenceWarning: Maximum Likelihood optimization failed to converge. Check mle_retvals\n",
      "  warnings.warn(\"Maximum Likelihood optimization failed to \"\n",
      "e:\\Programming\\stock-trading\\.conda\\lib\\site-packages\\statsmodels\\base\\model.py:607: ConvergenceWarning: Maximum Likelihood optimization failed to converge. Check mle_retvals\n",
      "  warnings.warn(\"Maximum Likelihood optimization failed to \"\n",
      "e:\\Programming\\stock-trading\\.conda\\lib\\site-packages\\statsmodels\\base\\model.py:607: ConvergenceWarning: Maximum Likelihood optimization failed to converge. Check mle_retvals\n",
      "  warnings.warn(\"Maximum Likelihood optimization failed to \"\n",
      "e:\\Programming\\stock-trading\\.conda\\lib\\site-packages\\statsmodels\\base\\model.py:607: ConvergenceWarning: Maximum Likelihood optimization failed to converge. Check mle_retvals\n",
      "  warnings.warn(\"Maximum Likelihood optimization failed to \"\n",
      "e:\\Programming\\stock-trading\\.conda\\lib\\site-packages\\statsmodels\\base\\model.py:607: ConvergenceWarning: Maximum Likelihood optimization failed to converge. Check mle_retvals\n",
      "  warnings.warn(\"Maximum Likelihood optimization failed to \"\n",
      "e:\\Programming\\stock-trading\\.conda\\lib\\site-packages\\statsmodels\\base\\model.py:607: ConvergenceWarning: Maximum Likelihood optimization failed to converge. Check mle_retvals\n",
      "  warnings.warn(\"Maximum Likelihood optimization failed to \"\n",
      "e:\\Programming\\stock-trading\\.conda\\lib\\site-packages\\statsmodels\\base\\model.py:607: ConvergenceWarning: Maximum Likelihood optimization failed to converge. Check mle_retvals\n",
      "  warnings.warn(\"Maximum Likelihood optimization failed to \"\n",
      "e:\\Programming\\stock-trading\\.conda\\lib\\site-packages\\statsmodels\\base\\model.py:607: ConvergenceWarning: Maximum Likelihood optimization failed to converge. Check mle_retvals\n",
      "  warnings.warn(\"Maximum Likelihood optimization failed to \"\n",
      "e:\\Programming\\stock-trading\\.conda\\lib\\site-packages\\statsmodels\\base\\model.py:607: ConvergenceWarning: Maximum Likelihood optimization failed to converge. Check mle_retvals\n",
      "  warnings.warn(\"Maximum Likelihood optimization failed to \"\n",
      "e:\\Programming\\stock-trading\\.conda\\lib\\site-packages\\statsmodels\\base\\model.py:607: ConvergenceWarning: Maximum Likelihood optimization failed to converge. Check mle_retvals\n",
      "  warnings.warn(\"Maximum Likelihood optimization failed to \"\n",
      "e:\\Programming\\stock-trading\\.conda\\lib\\site-packages\\statsmodels\\base\\model.py:607: ConvergenceWarning: Maximum Likelihood optimization failed to converge. Check mle_retvals\n",
      "  warnings.warn(\"Maximum Likelihood optimization failed to \"\n",
      "e:\\Programming\\stock-trading\\.conda\\lib\\site-packages\\statsmodels\\base\\model.py:607: ConvergenceWarning: Maximum Likelihood optimization failed to converge. Check mle_retvals\n",
      "  warnings.warn(\"Maximum Likelihood optimization failed to \"\n",
      "e:\\Programming\\stock-trading\\.conda\\lib\\site-packages\\statsmodels\\base\\model.py:607: ConvergenceWarning: Maximum Likelihood optimization failed to converge. Check mle_retvals\n",
      "  warnings.warn(\"Maximum Likelihood optimization failed to \"\n",
      "e:\\Programming\\stock-trading\\.conda\\lib\\site-packages\\statsmodels\\base\\model.py:607: ConvergenceWarning: Maximum Likelihood optimization failed to converge. Check mle_retvals\n",
      "  warnings.warn(\"Maximum Likelihood optimization failed to \"\n",
      "e:\\Programming\\stock-trading\\.conda\\lib\\site-packages\\statsmodels\\base\\model.py:607: ConvergenceWarning: Maximum Likelihood optimization failed to converge. Check mle_retvals\n",
      "  warnings.warn(\"Maximum Likelihood optimization failed to \"\n",
      "e:\\Programming\\stock-trading\\.conda\\lib\\site-packages\\statsmodels\\base\\model.py:607: ConvergenceWarning: Maximum Likelihood optimization failed to converge. Check mle_retvals\n",
      "  warnings.warn(\"Maximum Likelihood optimization failed to \"\n",
      "e:\\Programming\\stock-trading\\.conda\\lib\\site-packages\\statsmodels\\base\\model.py:607: ConvergenceWarning: Maximum Likelihood optimization failed to converge. Check mle_retvals\n",
      "  warnings.warn(\"Maximum Likelihood optimization failed to \"\n",
      "e:\\Programming\\stock-trading\\.conda\\lib\\site-packages\\statsmodels\\base\\model.py:607: ConvergenceWarning: Maximum Likelihood optimization failed to converge. Check mle_retvals\n",
      "  warnings.warn(\"Maximum Likelihood optimization failed to \"\n",
      "e:\\Programming\\stock-trading\\.conda\\lib\\site-packages\\statsmodels\\base\\model.py:607: ConvergenceWarning: Maximum Likelihood optimization failed to converge. Check mle_retvals\n",
      "  warnings.warn(\"Maximum Likelihood optimization failed to \"\n",
      "e:\\Programming\\stock-trading\\.conda\\lib\\site-packages\\statsmodels\\base\\model.py:607: ConvergenceWarning: Maximum Likelihood optimization failed to converge. Check mle_retvals\n",
      "  warnings.warn(\"Maximum Likelihood optimization failed to \"\n",
      "e:\\Programming\\stock-trading\\.conda\\lib\\site-packages\\statsmodels\\base\\model.py:607: ConvergenceWarning: Maximum Likelihood optimization failed to converge. Check mle_retvals\n",
      "  warnings.warn(\"Maximum Likelihood optimization failed to \"\n",
      "e:\\Programming\\stock-trading\\.conda\\lib\\site-packages\\statsmodels\\base\\model.py:607: ConvergenceWarning: Maximum Likelihood optimization failed to converge. Check mle_retvals\n",
      "  warnings.warn(\"Maximum Likelihood optimization failed to \"\n",
      "e:\\Programming\\stock-trading\\.conda\\lib\\site-packages\\statsmodels\\base\\model.py:607: ConvergenceWarning: Maximum Likelihood optimization failed to converge. Check mle_retvals\n",
      "  warnings.warn(\"Maximum Likelihood optimization failed to \"\n",
      "e:\\Programming\\stock-trading\\.conda\\lib\\site-packages\\statsmodels\\base\\model.py:607: ConvergenceWarning: Maximum Likelihood optimization failed to converge. Check mle_retvals\n",
      "  warnings.warn(\"Maximum Likelihood optimization failed to \"\n",
      "e:\\Programming\\stock-trading\\.conda\\lib\\site-packages\\statsmodels\\base\\model.py:607: ConvergenceWarning: Maximum Likelihood optimization failed to converge. Check mle_retvals\n",
      "  warnings.warn(\"Maximum Likelihood optimization failed to \"\n",
      "e:\\Programming\\stock-trading\\.conda\\lib\\site-packages\\statsmodels\\base\\model.py:607: ConvergenceWarning: Maximum Likelihood optimization failed to converge. Check mle_retvals\n",
      "  warnings.warn(\"Maximum Likelihood optimization failed to \"\n",
      "e:\\Programming\\stock-trading\\.conda\\lib\\site-packages\\statsmodels\\base\\model.py:607: ConvergenceWarning: Maximum Likelihood optimization failed to converge. Check mle_retvals\n",
      "  warnings.warn(\"Maximum Likelihood optimization failed to \"\n",
      "e:\\Programming\\stock-trading\\.conda\\lib\\site-packages\\statsmodels\\base\\model.py:607: ConvergenceWarning: Maximum Likelihood optimization failed to converge. Check mle_retvals\n",
      "  warnings.warn(\"Maximum Likelihood optimization failed to \"\n",
      "e:\\Programming\\stock-trading\\.conda\\lib\\site-packages\\statsmodels\\base\\model.py:607: ConvergenceWarning: Maximum Likelihood optimization failed to converge. Check mle_retvals\n",
      "  warnings.warn(\"Maximum Likelihood optimization failed to \"\n",
      "e:\\Programming\\stock-trading\\.conda\\lib\\site-packages\\statsmodels\\base\\model.py:607: ConvergenceWarning: Maximum Likelihood optimization failed to converge. Check mle_retvals\n",
      "  warnings.warn(\"Maximum Likelihood optimization failed to \"\n",
      "e:\\Programming\\stock-trading\\.conda\\lib\\site-packages\\statsmodels\\base\\model.py:607: ConvergenceWarning: Maximum Likelihood optimization failed to converge. Check mle_retvals\n",
      "  warnings.warn(\"Maximum Likelihood optimization failed to \"\n",
      "e:\\Programming\\stock-trading\\.conda\\lib\\site-packages\\statsmodels\\base\\model.py:607: ConvergenceWarning: Maximum Likelihood optimization failed to converge. Check mle_retvals\n",
      "  warnings.warn(\"Maximum Likelihood optimization failed to \"\n",
      "e:\\Programming\\stock-trading\\.conda\\lib\\site-packages\\statsmodels\\base\\model.py:607: ConvergenceWarning: Maximum Likelihood optimization failed to converge. Check mle_retvals\n",
      "  warnings.warn(\"Maximum Likelihood optimization failed to \"\n",
      "e:\\Programming\\stock-trading\\.conda\\lib\\site-packages\\statsmodels\\base\\model.py:607: ConvergenceWarning: Maximum Likelihood optimization failed to converge. Check mle_retvals\n",
      "  warnings.warn(\"Maximum Likelihood optimization failed to \"\n",
      "e:\\Programming\\stock-trading\\.conda\\lib\\site-packages\\statsmodels\\base\\model.py:607: ConvergenceWarning: Maximum Likelihood optimization failed to converge. Check mle_retvals\n",
      "  warnings.warn(\"Maximum Likelihood optimization failed to \"\n",
      "e:\\Programming\\stock-trading\\.conda\\lib\\site-packages\\statsmodels\\base\\model.py:607: ConvergenceWarning: Maximum Likelihood optimization failed to converge. Check mle_retvals\n",
      "  warnings.warn(\"Maximum Likelihood optimization failed to \"\n",
      "e:\\Programming\\stock-trading\\.conda\\lib\\site-packages\\statsmodels\\base\\model.py:607: ConvergenceWarning: Maximum Likelihood optimization failed to converge. Check mle_retvals\n",
      "  warnings.warn(\"Maximum Likelihood optimization failed to \"\n",
      "e:\\Programming\\stock-trading\\.conda\\lib\\site-packages\\statsmodels\\base\\model.py:607: ConvergenceWarning: Maximum Likelihood optimization failed to converge. Check mle_retvals\n",
      "  warnings.warn(\"Maximum Likelihood optimization failed to \"\n",
      "e:\\Programming\\stock-trading\\.conda\\lib\\site-packages\\statsmodels\\base\\model.py:607: ConvergenceWarning: Maximum Likelihood optimization failed to converge. Check mle_retvals\n",
      "  warnings.warn(\"Maximum Likelihood optimization failed to \"\n",
      "e:\\Programming\\stock-trading\\.conda\\lib\\site-packages\\statsmodels\\base\\model.py:607: ConvergenceWarning: Maximum Likelihood optimization failed to converge. Check mle_retvals\n",
      "  warnings.warn(\"Maximum Likelihood optimization failed to \"\n",
      "e:\\Programming\\stock-trading\\.conda\\lib\\site-packages\\statsmodels\\base\\model.py:607: ConvergenceWarning: Maximum Likelihood optimization failed to converge. Check mle_retvals\n",
      "  warnings.warn(\"Maximum Likelihood optimization failed to \"\n",
      "e:\\Programming\\stock-trading\\.conda\\lib\\site-packages\\statsmodels\\base\\model.py:607: ConvergenceWarning: Maximum Likelihood optimization failed to converge. Check mle_retvals\n",
      "  warnings.warn(\"Maximum Likelihood optimization failed to \"\n",
      "e:\\Programming\\stock-trading\\.conda\\lib\\site-packages\\statsmodels\\base\\model.py:607: ConvergenceWarning: Maximum Likelihood optimization failed to converge. Check mle_retvals\n",
      "  warnings.warn(\"Maximum Likelihood optimization failed to \"\n",
      "e:\\Programming\\stock-trading\\.conda\\lib\\site-packages\\statsmodels\\base\\model.py:607: ConvergenceWarning: Maximum Likelihood optimization failed to converge. Check mle_retvals\n",
      "  warnings.warn(\"Maximum Likelihood optimization failed to \"\n",
      "e:\\Programming\\stock-trading\\.conda\\lib\\site-packages\\statsmodels\\base\\model.py:607: ConvergenceWarning: Maximum Likelihood optimization failed to converge. Check mle_retvals\n",
      "  warnings.warn(\"Maximum Likelihood optimization failed to \"\n",
      "e:\\Programming\\stock-trading\\.conda\\lib\\site-packages\\statsmodels\\base\\model.py:607: ConvergenceWarning: Maximum Likelihood optimization failed to converge. Check mle_retvals\n",
      "  warnings.warn(\"Maximum Likelihood optimization failed to \"\n",
      "e:\\Programming\\stock-trading\\.conda\\lib\\site-packages\\statsmodels\\base\\model.py:607: ConvergenceWarning: Maximum Likelihood optimization failed to converge. Check mle_retvals\n",
      "  warnings.warn(\"Maximum Likelihood optimization failed to \"\n",
      "e:\\Programming\\stock-trading\\.conda\\lib\\site-packages\\statsmodels\\base\\model.py:607: ConvergenceWarning: Maximum Likelihood optimization failed to converge. Check mle_retvals\n",
      "  warnings.warn(\"Maximum Likelihood optimization failed to \"\n",
      "e:\\Programming\\stock-trading\\.conda\\lib\\site-packages\\statsmodels\\base\\model.py:607: ConvergenceWarning: Maximum Likelihood optimization failed to converge. Check mle_retvals\n",
      "  warnings.warn(\"Maximum Likelihood optimization failed to \"\n",
      "e:\\Programming\\stock-trading\\.conda\\lib\\site-packages\\statsmodels\\base\\model.py:607: ConvergenceWarning: Maximum Likelihood optimization failed to converge. Check mle_retvals\n",
      "  warnings.warn(\"Maximum Likelihood optimization failed to \"\n",
      "e:\\Programming\\stock-trading\\.conda\\lib\\site-packages\\statsmodels\\base\\model.py:607: ConvergenceWarning: Maximum Likelihood optimization failed to converge. Check mle_retvals\n",
      "  warnings.warn(\"Maximum Likelihood optimization failed to \"\n",
      "e:\\Programming\\stock-trading\\.conda\\lib\\site-packages\\statsmodels\\base\\model.py:607: ConvergenceWarning: Maximum Likelihood optimization failed to converge. Check mle_retvals\n",
      "  warnings.warn(\"Maximum Likelihood optimization failed to \"\n",
      "e:\\Programming\\stock-trading\\.conda\\lib\\site-packages\\statsmodels\\base\\model.py:607: ConvergenceWarning: Maximum Likelihood optimization failed to converge. Check mle_retvals\n",
      "  warnings.warn(\"Maximum Likelihood optimization failed to \"\n",
      "e:\\Programming\\stock-trading\\.conda\\lib\\site-packages\\statsmodels\\base\\model.py:607: ConvergenceWarning: Maximum Likelihood optimization failed to converge. Check mle_retvals\n",
      "  warnings.warn(\"Maximum Likelihood optimization failed to \"\n",
      "e:\\Programming\\stock-trading\\.conda\\lib\\site-packages\\statsmodels\\base\\model.py:607: ConvergenceWarning: Maximum Likelihood optimization failed to converge. Check mle_retvals\n",
      "  warnings.warn(\"Maximum Likelihood optimization failed to \"\n",
      "e:\\Programming\\stock-trading\\.conda\\lib\\site-packages\\statsmodels\\base\\model.py:607: ConvergenceWarning: Maximum Likelihood optimization failed to converge. Check mle_retvals\n",
      "  warnings.warn(\"Maximum Likelihood optimization failed to \"\n",
      "e:\\Programming\\stock-trading\\.conda\\lib\\site-packages\\statsmodels\\base\\model.py:607: ConvergenceWarning: Maximum Likelihood optimization failed to converge. Check mle_retvals\n",
      "  warnings.warn(\"Maximum Likelihood optimization failed to \"\n",
      "e:\\Programming\\stock-trading\\.conda\\lib\\site-packages\\statsmodels\\base\\model.py:607: ConvergenceWarning: Maximum Likelihood optimization failed to converge. Check mle_retvals\n",
      "  warnings.warn(\"Maximum Likelihood optimization failed to \"\n",
      "e:\\Programming\\stock-trading\\.conda\\lib\\site-packages\\statsmodels\\base\\model.py:607: ConvergenceWarning: Maximum Likelihood optimization failed to converge. Check mle_retvals\n",
      "  warnings.warn(\"Maximum Likelihood optimization failed to \"\n",
      "e:\\Programming\\stock-trading\\.conda\\lib\\site-packages\\statsmodels\\base\\model.py:607: ConvergenceWarning: Maximum Likelihood optimization failed to converge. Check mle_retvals\n",
      "  warnings.warn(\"Maximum Likelihood optimization failed to \"\n",
      "e:\\Programming\\stock-trading\\.conda\\lib\\site-packages\\statsmodels\\base\\model.py:607: ConvergenceWarning: Maximum Likelihood optimization failed to converge. Check mle_retvals\n",
      "  warnings.warn(\"Maximum Likelihood optimization failed to \"\n",
      "e:\\Programming\\stock-trading\\.conda\\lib\\site-packages\\statsmodels\\base\\model.py:607: ConvergenceWarning: Maximum Likelihood optimization failed to converge. Check mle_retvals\n",
      "  warnings.warn(\"Maximum Likelihood optimization failed to \"\n",
      "e:\\Programming\\stock-trading\\.conda\\lib\\site-packages\\statsmodels\\base\\model.py:607: ConvergenceWarning: Maximum Likelihood optimization failed to converge. Check mle_retvals\n",
      "  warnings.warn(\"Maximum Likelihood optimization failed to \"\n",
      "e:\\Programming\\stock-trading\\.conda\\lib\\site-packages\\statsmodels\\base\\model.py:607: ConvergenceWarning: Maximum Likelihood optimization failed to converge. Check mle_retvals\n",
      "  warnings.warn(\"Maximum Likelihood optimization failed to \"\n",
      "e:\\Programming\\stock-trading\\.conda\\lib\\site-packages\\statsmodels\\base\\model.py:607: ConvergenceWarning: Maximum Likelihood optimization failed to converge. Check mle_retvals\n",
      "  warnings.warn(\"Maximum Likelihood optimization failed to \"\n",
      "e:\\Programming\\stock-trading\\.conda\\lib\\site-packages\\statsmodels\\base\\model.py:607: ConvergenceWarning: Maximum Likelihood optimization failed to converge. Check mle_retvals\n",
      "  warnings.warn(\"Maximum Likelihood optimization failed to \"\n",
      "e:\\Programming\\stock-trading\\.conda\\lib\\site-packages\\statsmodels\\base\\model.py:607: ConvergenceWarning: Maximum Likelihood optimization failed to converge. Check mle_retvals\n",
      "  warnings.warn(\"Maximum Likelihood optimization failed to \"\n",
      "e:\\Programming\\stock-trading\\.conda\\lib\\site-packages\\statsmodels\\base\\model.py:607: ConvergenceWarning: Maximum Likelihood optimization failed to converge. Check mle_retvals\n",
      "  warnings.warn(\"Maximum Likelihood optimization failed to \"\n"
     ]
    }
   ],
>>>>>>> 97ec36e8d79d8db448e80639dec329c58c5d9c34
   "source": [
    "bt = Backtest(df, ARIMA_model,\n",
    "            cash=100000, trade_on_close=False, exclusive_orders=True)\n",
    "\n",
    "stats = bt.run()"
   ]
  },
  {
<<<<<<< HEAD
   "cell_type": "code",
   "execution_count": 61,
=======
   "cell_type": "markdown",
   "metadata": {},
   "source": [
    "6. Comparing strategy returns to performance range of stocks"
   ]
  },
  {
   "cell_type": "code",
   "execution_count": 75,
>>>>>>> 97ec36e8d79d8db448e80639dec329c58c5d9c34
   "metadata": {},
   "outputs": [
    {
     "name": "stdout",
     "output_type": "stream",
     "text": [
<<<<<<< HEAD
      "OC-Range:  0.007067522744212893\n",
      "HL-Range:  0.011873022105425199\n"
=======
      "OC-Range:  -0.008540616031282276\n",
      "HL-Range:  0.016012065254970047\n"
>>>>>>> 97ec36e8d79d8db448e80639dec329c58c5d9c34
     ]
    }
   ],
   "source": [
    "import numpy as np\n",
    "\n",
    "print(\"OC-Range: \", (df[\"Close\"].iloc[-1]-df[\"Close\"].iloc[0])/df[\"Close\"].iloc[0])\n",
    "print(\"HL-Range: \", (np.max(df[\"Close\"])-np.min(df[\"Close\"]))/np.min(df[\"Close\"]))"
   ]
  },
  {
<<<<<<< HEAD
   "cell_type": "code",
   "execution_count": 62,
=======
   "cell_type": "markdown",
   "metadata": {},
   "source": [
    "7. Optimized Strategy Statistics"
   ]
  },
  {
   "cell_type": "code",
   "execution_count": 76,
>>>>>>> 97ec36e8d79d8db448e80639dec329c58c5d9c34
   "metadata": {},
   "outputs": [
    {
     "data": {
      "text/plain": [
<<<<<<< HEAD
       "Start                     2023-10-24 09:30:00\n",
       "End                       2023-10-24 11:53:00\n",
       "Duration                      0 days 02:23:00\n",
       "Exposure Time [%]                   98.611111\n",
       "Equity Final [$]                 99950.055527\n",
       "Equity Peak [$]                 100340.473953\n",
       "Return [%]                          -0.049944\n",
       "Buy & Hold Return [%]                0.706752\n",
=======
       "Start                     2023-10-03 09:30:00\n",
       "End                       2023-10-03 12:05:00\n",
       "Duration                      0 days 02:35:00\n",
       "Exposure Time [%]                   98.709677\n",
       "Equity Final [$]                100548.287338\n",
       "Equity Peak [$]                 100579.860641\n",
       "Return [%]                           0.548287\n",
       "Buy & Hold Return [%]               -0.854062\n",
>>>>>>> 97ec36e8d79d8db448e80639dec329c58c5d9c34
       "Return (Ann.) [%]                         0.0\n",
       "Volatility (Ann.) [%]                     NaN\n",
       "Sharpe Ratio                              NaN\n",
       "Sortino Ratio                             NaN\n",
       "Calmar Ratio                              0.0\n",
<<<<<<< HEAD
       "Max. Drawdown [%]                   -0.468487\n",
       "Avg. Drawdown [%]                   -0.263522\n",
       "Max. Drawdown Duration        0 days 02:18:00\n",
       "Avg. Drawdown Duration        0 days 01:10:00\n",
       "# Trades                                  142\n",
       "Win Rate [%]                        46.478873\n",
       "Best Trade [%]                       0.258184\n",
       "Worst Trade [%]                     -0.356564\n",
       "Avg. Trade [%]                      -0.000604\n",
       "Max. Trade Duration           0 days 00:01:00\n",
       "Avg. Trade Duration           0 days 00:01:00\n",
       "Profit Factor                        0.982924\n",
       "Expectancy [%]                      -0.000564\n",
       "SQN                                 -0.078322\n",
=======
       "Max. Drawdown [%]                   -0.452701\n",
       "Avg. Drawdown [%]                   -0.117704\n",
       "Max. Drawdown Duration        0 days 00:44:00\n",
       "Avg. Drawdown Duration        0 days 00:14:00\n",
       "# Trades                                  153\n",
       "Win Rate [%]                        49.673203\n",
       "Best Trade [%]                       0.319009\n",
       "Worst Trade [%]                     -0.247548\n",
       "Avg. Trade [%]                       0.005962\n",
       "Max. Trade Duration           0 days 00:02:00\n",
       "Avg. Trade Duration           0 days 00:01:00\n",
       "Profit Factor                        1.211784\n",
       "Expectancy [%]                       0.005995\n",
       "SQN                                   0.89838\n",
>>>>>>> 97ec36e8d79d8db448e80639dec329c58c5d9c34
       "_strategy                         ARIMA_model\n",
       "_equity_curve                             ...\n",
       "_trades                        Size  Entry...\n",
       "dtype: object"
      ]
     },
<<<<<<< HEAD
     "execution_count": 62,
=======
     "execution_count": 76,
>>>>>>> 97ec36e8d79d8db448e80639dec329c58c5d9c34
     "metadata": {},
     "output_type": "execute_result"
    }
   ],
   "source": [
    "stats"
   ]
  }
 ],
 "metadata": {
  "kernelspec": {
   "display_name": "Python 3",
   "language": "python",
   "name": "python3"
  },
  "language_info": {
   "codemirror_mode": {
    "name": "ipython",
    "version": 3
   },
   "file_extension": ".py",
   "mimetype": "text/x-python",
   "name": "python",
   "nbconvert_exporter": "python",
   "pygments_lexer": "ipython3",
   "version": "3.10.12"
  },
  "orig_nbformat": 4
 },
 "nbformat": 4,
 "nbformat_minor": 2
}
